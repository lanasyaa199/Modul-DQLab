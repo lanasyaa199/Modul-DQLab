{
  "nbformat": 4,
  "nbformat_minor": 0,
  "metadata": {
    "colab": {
      "provenance": [],
      "toc_visible": true,
      "authorship_tag": "ABX9TyNG0oYvN0SAZSmEoqJN2ZEy"
    },
    "kernelspec": {
      "name": "python3",
      "display_name": "Python 3"
    },
    "language_info": {
      "name": "python"
    }
  },
  "cells": [
    {
      "cell_type": "markdown",
      "source": [
        "# **Project Simple ETL with Pandas**"
      ],
      "metadata": {
        "id": "7zj6kj8kYsvG"
      }
    },
    {
      "cell_type": "markdown",
      "source": [
        "## **Pengantar**\n",
        "\n",
        "Di masa pandemi, kompetisi coding seperti Competitive Programming maupun Hackathon banyak diselenggarakan karena sangat memungkinkan untuk dilakukan secara online.\n",
        "\n",
        "**Hackathon** merupakan kompetisi membuat perangkat lunak (software) yang dilaksanakan secara marathon yang biasanya diikuti secara tim. Umumnya, peserta hackathon diminta untuk mengembangkan platform (mobile, web, desktop, dll.) dalam kurun waktu tertentu untuk menyelesaikan permasalahan yang sudah ditetapkan/didefinisikan oleh penyelenggara ataupun berdasarkan tema yang dipilih oleh tim tersebut.\n",
        "\n",
        "Untuk bisa mengikuti hackathon dari suatu instansi, calon peserta diwajibkan untuk mendaftarkan diri mereka pada situs/form tertentu dengan memasukkan beberapa informasi yang diminta oleh penyelenggara.\n",
        "\n",
        "**Extract, Transform, and Load (ETL)** merupakan kumpulan proses untuk 'memindahkan' data dari satu tempat ke tempat lain. Tempat yang dimaksud adalah dari sumber data (bisa berupa database aplikasi, file, logs, database dari 3rd party, dan lainnya) ke data warehouse.\n",
        "\n",
        "Data warehouse merupakan database yang berisi data-data (tabel-tabel) yang sudah siap untuk dilakukan analisis oleh Data Analyst maupun Data Scientist.\n",
        "\n",
        "Lebih lengkapnya bisa dilihat di: [https://en.wikipedia.org/wiki/Data_warehouse]\n"
      ],
      "metadata": {
        "id": "XiGhEpslZH3l"
      }
    },
    {
      "cell_type": "markdown",
      "source": [
        "### **Project yang Akan Dikerjakan**\n",
        "\n",
        "Data pendaftar hackathon yang diselenggarakan oleh DQLab bernama DQThon.\n",
        "Dataset ini terdiri dari 5000 baris data (5000 pendaftar) dengan format CSV (Comma-separated values) dan memiliki beberapa kolom diantaranya:\n",
        "1.\tparticipant_id \t:\tID dari peserta/partisipan hackathon (unique value)\t\n",
        "2.\tfirst_name\t:\tnama depan peserta\n",
        "3.\tlast_name\t:\tnama belakang peserta\n",
        "4.\tbirth_date\t:\ttanggal lahir peserta\n",
        "5.\taddress\t:\talamat tempat tinggal peserta\n",
        "6.\tphone_number\t:\tnomor hp/telepon peserta\n",
        "7.\tcountry\t:\tnegara asal peserta\n",
        "8.\tinstitute\t:\tinstitusi peserta saat ini (nama perusahaan atau nama universitas)\n",
        "9.\toccupation\t:\tpekerjaan peserta saat ini\n",
        "10.\tregister_time\t:\twaktu peserta melakukan pendaftaran hackathon dalam detik\n"
      ],
      "metadata": {
        "id": "WjdsGwouZtU4"
      }
    },
    {
      "cell_type": "markdown",
      "source": [
        "**Tujuan** : Menghasilkan beberapa kolom dengan memanfaatkan kolom-kolom yang ada, sehingga akhir dari proyek ini berupa hasil transformasi data dengan beberapa kolom baru selain dari 10 kolom diatas."
      ],
      "metadata": {
        "id": "mc_J9Pi7aPbY"
      }
    },
    {
      "cell_type": "markdown",
      "source": [
        "## **Transform Data**"
      ],
      "metadata": {
        "id": "OVSAmz4Fg3ni"
      }
    },
    {
      "cell_type": "markdown",
      "source": [
        "### **Extract**\n",
        "\n",
        "Extract merupakan proses meng-ekstraksi data dari sumber, sumber data ini bisa berupa relational data (SQL) atau tabel, nonrelational (NoSQL) maupun yang lainnya.\n",
        "\n",
        "Dataset akan dibaca terlebih dahulu sebagai CSV agar nantinya bisa diolah. \n",
        "\n",
        "File tersebut bisa diakses melalui URL: https://storage.googleapis.com/dqlab-dataset/dqthon-participants.csv.\n"
      ],
      "metadata": {
        "id": "WqLV_lQmgDn8"
      }
    },
    {
      "cell_type": "code",
      "execution_count": null,
      "metadata": {
        "id": "damojkoge0FJ"
      },
      "outputs": [],
      "source": [
        "import pandas as pd\n",
        "df_participant = pd.read_csv('https://storage.googleapis.com/dqlab-dataset/dqthon-participants.csv')"
      ]
    },
    {
      "cell_type": "code",
      "source": [
        "print(\"Dataframe 5 teratas:\\n\", df_participant.head())"
      ],
      "metadata": {
        "colab": {
          "base_uri": "https://localhost:8080/"
        },
        "id": "2n8A_bI0iVjM",
        "outputId": "2a17e01f-4541-48d6-e7ff-b987609a8668"
      },
      "execution_count": null,
      "outputs": [
        {
          "output_type": "stream",
          "name": "stdout",
          "text": [
            "Dataframe 5 teratas:\n",
            "                          participant_id first_name   last_name   birth_date  \\\n",
            "0  bd9b6f88-b84f-4c4d-90f8-b67fe2f1a29a      Citra  Nurdiyanti  05 Feb 1991   \n",
            "1  7dfe3391-6f40-47b6-b4db-0c76ebaf5fc3       Aris    Setiawan  11 Jan 1993   \n",
            "2  19582d7f-b824-4fe5-a517-d5bf573fc768   Cornelia   Handayani  31 Jul 1993   \n",
            "3  aeb6d817-25f3-4867-8a74-8d92e0a0f633      Soleh      Rajasa  04 Nov 1991   \n",
            "4  1fdabdd9-5444-4c97-87b2-fe8833ad0d27       Vivi      Astuti  22 Jan 2003   \n",
            "\n",
            "                                             address        phone_number  \\\n",
            "0           Gg. Monginsidi No. 08\\nMedan, Aceh 80734     (0151) 081 2706   \n",
            "1     Gg. Rajawali Timur No. 7\\nPrabumulih, MA 09434  +62 (036) 461 7027   \n",
            "2             Jalan Kebonjati No. 0\\nAmbon, SS 57739        089 833 6695   \n",
            "3    Jl. Yos Sudarso No. 109\\nLubuklinggau, SR 76156  +62 (418) 329-4756   \n",
            "4  Jalan Gardujati No. 53\\nKediri, Sulawesi Tenga...          0812511835   \n",
            "\n",
            "       country                  institute                      occupation  \\\n",
            "0      Georgia       UD Prakasa Mandasari  Business Intelligence Engineer   \n",
            "1  Korea Utara     Universitas Diponegoro               Frontend Engineer   \n",
            "2       Komoro   UD Hardiansyah Puspasari                Business Analyst   \n",
            "3      Eritrea  Perum Tampubolon Yuliarti                 DevOps Engineer   \n",
            "4     Aljazair     PT Hardiansyah Rahimah                    Data Analyst   \n",
            "\n",
            "   register_time  \n",
            "0   1.617634e+09  \n",
            "1   1.617634e+09  \n",
            "2   1.617634e+09  \n",
            "3   1.617634e+09  \n",
            "4   1.617634e+09  \n"
          ]
        }
      ]
    },
    {
      "cell_type": "markdown",
      "source": [
        "### **Transform**\n",
        "\n",
        "Transform merupakan proses melakukan transformasi data, atau perubahan terhadap data. Umumnya seperti:\n",
        "1. Merubah nilai dari suatu kolom ke nilai baru.\n",
        "2. Menciptakan kolom baru dengan memanfaatkan kolom lain.\n",
        "3. Transpose baris menjadi kolom (atau sebaliknya).\n",
        "4. Mengubah format data ke bentuk yang lebih standard (contohnya, kolom date, maupun datetime yang biasanya memiliki nilai yang tidak standard maupun nomor HP yang biasanya memiliki nilai yang tidak sesuai format standardnya), dan lainnya.\n"
      ],
      "metadata": {
        "id": "IIIgwOk8aIWe"
      }
    },
    {
      "cell_type": "markdown",
      "source": [
        "### **Transform Bagian I - Kode Pos**\n",
        "\n",
        "Ada permintaan datang dari tim logistik bahwa mereka membutuhkan kode pos dari peserta agar pengiriman piala lebih mudah dan cepat sampai. Maka dari itu akan dibuat kolom baru bernama postal_code yang memuat informasi mengenai kode pos yang diambil dari alamat peserta (kolom address).\n",
        "\n",
        "Diketahui bahwa kode pos berada di paling akhir dari alamat tersebut.\n",
        "\n",
        "Note: \n",
        "Jika regex yang dimasukkan tidak bisa menangkap pattern dari value kolom address maka akan menghasilkan NaN."
      ],
      "metadata": {
        "id": "T7j_YYAMgJPH"
      }
    },
    {
      "cell_type": "code",
      "source": [
        "print(df_participant['address'].head())"
      ],
      "metadata": {
        "colab": {
          "base_uri": "https://localhost:8080/"
        },
        "id": "abaDfYn4jwyV",
        "outputId": "2abd41bc-1d2c-4b50-aef9-e445f6ff1105"
      },
      "execution_count": null,
      "outputs": [
        {
          "output_type": "stream",
          "name": "stdout",
          "text": [
            "0             Gg. Monginsidi No. 08\\nMedan, Aceh 80734\n",
            "1       Gg. Rajawali Timur No. 7\\nPrabumulih, MA 09434\n",
            "2               Jalan Kebonjati No. 0\\nAmbon, SS 57739\n",
            "3      Jl. Yos Sudarso No. 109\\nLubuklinggau, SR 76156\n",
            "4    Jalan Gardujati No. 53\\nKediri, Sulawesi Tenga...\n",
            "Name: address, dtype: object\n"
          ]
        }
      ]
    },
    {
      "cell_type": "code",
      "source": [
        "#print(df_participant['address'].head())\n",
        "df_participant['postal_code'] = df_participant['address'].str.extract(r'(\\d+)$') #Masukkan regex Anda didalam fungsi extract\n",
        "#print(df_participant['postal_code'].head())"
      ],
      "metadata": {
        "id": "Qx7hK_R-gMOT"
      },
      "execution_count": null,
      "outputs": []
    },
    {
      "cell_type": "code",
      "source": [
        "print(df_participant['postal_code'].head())"
      ],
      "metadata": {
        "colab": {
          "base_uri": "https://localhost:8080/"
        },
        "id": "czllXXeiivyh",
        "outputId": "0a39aca7-f305-477e-da98-98546f183ebe"
      },
      "execution_count": null,
      "outputs": [
        {
          "output_type": "stream",
          "name": "stdout",
          "text": [
            "0    80734\n",
            "1    09434\n",
            "2    57739\n",
            "3    76156\n",
            "4    70074\n",
            "Name: postal_code, dtype: object\n"
          ]
        }
      ]
    },
    {
      "cell_type": "markdown",
      "source": [
        "### **Transform Bagian II - Kota**\n",
        "\n",
        "Selain kode pos, tim logistik juga membutuhkan kota dari peserta.\n",
        "\n",
        "Untuk menyediakan informasi tersebut, akan dibuat kolom baru bernama city yang didapat dari kolom address. Diasumsikan bahwa kota merupakan sekumpulan karakter yang terdapat setelah nomor jalan diikuti dengan `\\n` (newline character) atau dalam bahasa lainnya yaitu enter.\n"
      ],
      "metadata": {
        "id": "KVby33bFgU4d"
      }
    },
    {
      "cell_type": "code",
      "source": [
        "#Masukkan regex Anda didalam fungsi extract\n",
        "df_participant['city'] = df_participant['address'].str.extract(r'(?<=\\n)(\\w.+)(?=,)') \n",
        "#print(df_participant['city'].head())"
      ],
      "metadata": {
        "id": "J0BF1-IOgUVW"
      },
      "execution_count": null,
      "outputs": []
    },
    {
      "cell_type": "code",
      "source": [
        "print(df_participant['city'].head())"
      ],
      "metadata": {
        "colab": {
          "base_uri": "https://localhost:8080/"
        },
        "id": "Ui-ZdvBQjeRH",
        "outputId": "b4d6e48f-16f0-4337-ad9b-c75bd490a67a"
      },
      "execution_count": null,
      "outputs": [
        {
          "output_type": "stream",
          "name": "stdout",
          "text": [
            "0           Medan\n",
            "1      Prabumulih\n",
            "2           Ambon\n",
            "3    Lubuklinggau\n",
            "4          Kediri\n",
            "Name: city, dtype: object\n"
          ]
        }
      ]
    },
    {
      "cell_type": "markdown",
      "source": [
        "### **Transform Bagian III - Github**\n",
        "\n",
        "Salah satu parameter untuk mengetahui proyek apa saja yang pernah dikerjakan oleh peserta yaitu dari git repository mereka.\n",
        "\n",
        "Pada kasus ini kita menggunakan profil github sebagai parameternya. Akan dibuat kolom baru bernama github_profile yang merupakan link profil github dari peserta.\n",
        "\n",
        "Diketahui bahwa profil github mereka merupakan gabungan dari first_name dan last_name yang sudah di-lowercase.\n"
      ],
      "metadata": {
        "id": "KqqfskMHgcnf"
      }
    },
    {
      "cell_type": "code",
      "source": [
        "df_participant['github_profile'] = 'https://github.com/' + df_participant['first_name'].str.lower() + df_participant['last_name'].str.lower()\n",
        "#print(df_participant['github_profile'].head())"
      ],
      "metadata": {
        "id": "OhFb-CPAge_F"
      },
      "execution_count": null,
      "outputs": []
    },
    {
      "cell_type": "code",
      "source": [
        "print(df_participant['github_profile'].head())"
      ],
      "metadata": {
        "colab": {
          "base_uri": "https://localhost:8080/"
        },
        "id": "5Dvm13IhjiU3",
        "outputId": "11dcd31b-e283-47f5-c6ec-17e2905601bb"
      },
      "execution_count": null,
      "outputs": [
        {
          "output_type": "stream",
          "name": "stdout",
          "text": [
            "0      https://github.com/citranurdiyanti\n",
            "1         https://github.com/arissetiawan\n",
            "2    https://github.com/corneliahandayani\n",
            "3          https://github.com/solehrajasa\n",
            "4           https://github.com/viviastuti\n",
            "Name: github_profile, dtype: object\n"
          ]
        }
      ]
    },
    {
      "cell_type": "markdown",
      "source": [
        "### **Transform Bagian IV - Nomor Handphone** \n",
        "\n",
        "Jika dilihat kembali, nomor handphone yang ada pada data csv memiliki format yang berbeda-beda. Maka dari itu, perlu untuk melakukan cleansing pada data nomor handphone agar memiliki format yang sama. \n",
        "\n",
        "Pada kasus ini mari samakan formatnya dengan aturan:\n",
        "1. Jika awalan nomor HP berupa angka 62 atau +62 yang merupakan kode telepon Indonesia, diterjemahkan ke 0.\n",
        "2. Tidak ada tanda baca seperti kurung buka, kurung tutup, strip.\n",
        "3. Tidak ada spasi pada nomor HP nama kolom untuk menyimpan hasil cleansing pada nomor HP yaitu cleaned_phone_number.\n"
      ],
      "metadata": {
        "id": "fylj3404gkS0"
      }
    },
    {
      "cell_type": "code",
      "source": [
        "print(df_participant['phone_number'].head())"
      ],
      "metadata": {
        "colab": {
          "base_uri": "https://localhost:8080/"
        },
        "id": "_eaM_Zkdj7yl",
        "outputId": "f40e9a8d-7999-4716-9f1e-0750c95d6aaa"
      },
      "execution_count": null,
      "outputs": [
        {
          "output_type": "stream",
          "name": "stdout",
          "text": [
            "0       (0151) 081 2706\n",
            "1    +62 (036) 461 7027\n",
            "2          089 833 6695\n",
            "3    +62 (418) 329-4756\n",
            "4            0812511835\n",
            "Name: phone_number, dtype: object\n"
          ]
        }
      ]
    },
    {
      "cell_type": "code",
      "source": [
        "#print(df_participant['phone_number'].head())\n",
        "#Masukkan regex anda pada parameter pertama dari fungsi replace\n",
        "df_participant['cleaned_phone_number'] = df_participant['phone_number'].str.replace(r'^(\\+62|62)', '0')\n",
        "df_participant['cleaned_phone_number'] = df_participant['cleaned_phone_number'].str.replace(r'[()-]', '')\n",
        "df_participant['cleaned_phone_number'] = df_participant['cleaned_phone_number'].str.replace(r'\\s+', '')\n",
        "#print(df_participant['cleaned_phone_number'].head())"
      ],
      "metadata": {
        "colab": {
          "base_uri": "https://localhost:8080/"
        },
        "id": "M0AbBNFdglJ4",
        "outputId": "8680c955-8a5e-4bf5-a08a-7363d10f35be"
      },
      "execution_count": null,
      "outputs": [
        {
          "output_type": "stream",
          "name": "stderr",
          "text": [
            "<ipython-input-27-82235299f2b2>:3: FutureWarning: The default value of regex will change from True to False in a future version.\n",
            "  df_participant['cleaned_phone_number'] = df_participant['phone_number'].str.replace(r'^(\\+62|62)', '0')\n",
            "<ipython-input-27-82235299f2b2>:4: FutureWarning: The default value of regex will change from True to False in a future version.\n",
            "  df_participant['cleaned_phone_number'] = df_participant['cleaned_phone_number'].str.replace(r'[()-]', '')\n",
            "<ipython-input-27-82235299f2b2>:5: FutureWarning: The default value of regex will change from True to False in a future version.\n",
            "  df_participant['cleaned_phone_number'] = df_participant['cleaned_phone_number'].str.replace(r'\\s+', '')\n"
          ]
        }
      ]
    },
    {
      "cell_type": "code",
      "source": [
        "print(df_participant['cleaned_phone_number'].head())"
      ],
      "metadata": {
        "colab": {
          "base_uri": "https://localhost:8080/"
        },
        "id": "8JT1rPLCkBXR",
        "outputId": "60316c72-b6f2-4ce3-c44a-3bba932ef321"
      },
      "execution_count": null,
      "outputs": [
        {
          "output_type": "stream",
          "name": "stdout",
          "text": [
            "0    01510812706\n",
            "1    00364617027\n",
            "2     0898336695\n",
            "3    04183294756\n",
            "4     0812511835\n",
            "Name: cleaned_phone_number, dtype: object\n"
          ]
        }
      ]
    },
    {
      "cell_type": "markdown",
      "source": [
        "### **Transform Bagian V - Nama Tim**\n",
        "\n",
        "Dataset saat ini belum memuat nama tim, dan rupanya dari tim Data Analyst membutuhkan informasi terkait nama tim dari masing-masing peserta.\n",
        "\n",
        "Diketahui bahwa nama tim merupakan gabungan nilai dari kolom first_name, last_name, country, dan institute.\n",
        "\n",
        "Akan dibuat kolom baru dengan nama team_name yang memuat informasi nama tim dari peserta.\n"
      ],
      "metadata": {
        "id": "0KMMCmixhLJx"
      }
    },
    {
      "cell_type": "code",
      "source": [
        "def func(col):\n",
        "    abbrev_name = \"%s%s\"%(col['first_name'][0],col['last_name'][0]) #Singkatan dari Nama Depan dan Nama Belakang dengan mengambil huruf pertama\n",
        "    country = col['country']\n",
        "    abbrev_institute = '%s'%(''.join(list(map(lambda word: word[0], col['institute'].split())))) #Singkatan dari value di kolom institute\n",
        "    return \"%s-%s-%s\"%(abbrev_name,country,abbrev_institute)\n",
        "\n",
        "df_participant['team_name'] = df_participant.apply(func, axis=1)\n",
        "#print(df_participant['team_name'].head())"
      ],
      "metadata": {
        "id": "SCQsuzXthLnX"
      },
      "execution_count": null,
      "outputs": []
    },
    {
      "cell_type": "code",
      "source": [
        "print(df_participant['team_name'].head())"
      ],
      "metadata": {
        "colab": {
          "base_uri": "https://localhost:8080/"
        },
        "id": "SH2D3WfskFpA",
        "outputId": "23e37a8f-a7e6-4ea2-ed5b-430e13fb6798"
      },
      "execution_count": null,
      "outputs": [
        {
          "output_type": "stream",
          "name": "stdout",
          "text": [
            "0       CN-Georgia-UPM\n",
            "1    AS-Korea Utara-UD\n",
            "2        CH-Komoro-UHP\n",
            "3       SR-Eritrea-PTY\n",
            "4      VA-Aljazair-PHR\n",
            "Name: team_name, dtype: object\n"
          ]
        }
      ]
    },
    {
      "cell_type": "markdown",
      "source": [
        "### **Transform Bagian VI - Email**\n",
        "\n",
        "Setelah dilihat kembali dari data peserta yang dimiliki, ternyata ada satu informasi yang penting namun belum tersedia, yaitu email.\n",
        "\n",
        "Pada kasus ini akan ditentukan aturan bahwa format email sebagai berikut:\n",
        "\n",
        "Format email:\n",
        "\n",
        "xxyy@aa.bb.[ac/com].[cc]\n",
        "\n",
        "Keterangan:\n",
        "- xx -> nama depan (first_name) dalam lowercase\n",
        "- yy -> nama belakang (last_name) dalam lowercase\n",
        "- aa -> nama institusi\n",
        "\n",
        "Untuk nilai bb dan cc mengikuti nilai aa. Aturannya:\n",
        "- Jika institusi merupakan Universitas, \n",
        "bb -> gabungan dari huruf pertama pada setiap kata dari nama Universitas dalam lowercase.\n",
        "Kemudian diikuti dengan .ac yang menandakan akademi/institusi belajar dan pattern cc.\n",
        "- Jika institusi bukan merupakan Universitas, \n",
        "bb -> gabungan dari huruf pertama pada setiap kata dari nama Universitas dalam lowercase.\n",
        "Kemudian diikuti dengan .com. Perlu diketahui bahwa pattern cc tidak berlaku pada kondisi ini.\n",
        "\n",
        "cc -> negara asal peserta, adapun aturannya:\n",
        "- Jika banyaknya kata pada negara lebih dari satu ambil singkatan dari negara tersebut dalam lowercase\n",
        "- Jika banyaknya kata hanya satu ambil tiga huruf terdepan dari dari negara tersebut dalam lowercase"
      ],
      "metadata": {
        "id": "5JJXBr2LhXhR"
      }
    },
    {
      "cell_type": "markdown",
      "source": [
        "![163111623-9cb7ec3a-88eb-4f13-a1f0-b0b0b4c9b732 - Copy (2).png](data:image/png;base64,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)"
      ],
      "metadata": {
        "id": "6fkF11UPuoH7"
      }
    },
    {
      "cell_type": "code",
      "source": [
        "def func(col):\n",
        "    first_name_lower = col['first_name'].lower()\n",
        "    last_name_lower = col['last_name'].lower()\n",
        "    institute = ''.join(list(map(lambda word: word[0], col['institute'].lower().split()))) #Singkatan dari nama perusahaan dalam lowercase\n",
        "\n",
        "    if 'Universitas' in col['institute']:\n",
        "        if len(col['country'].split()) > 1: #Kondisi untuk mengecek apakah jumlah kata dari country lebih dari 1\n",
        "            country = ''.join(list(map(lambda word: word[0], col['country'].lower().split())))\n",
        "        else:\n",
        "            country = col['country'][:3].lower()\n",
        "        return \"%s%s@%s.ac.%s\"%(first_name_lower,last_name_lower,institute,country)\n",
        "\n",
        "    return \"%s%s@%s.com\"%(first_name_lower,last_name_lower,institute)\n",
        "\n",
        "df_participant['email'] = df_participant.apply(func, axis=1)\n",
        "#print(df_participant['email'].head())"
      ],
      "metadata": {
        "id": "Nz1mFleXhYDy"
      },
      "execution_count": null,
      "outputs": []
    },
    {
      "cell_type": "code",
      "source": [
        "print(df_participant['email'].head())"
      ],
      "metadata": {
        "colab": {
          "base_uri": "https://localhost:8080/"
        },
        "id": "GJjkRlGikJLt",
        "outputId": "c768d351-4092-4af7-9569-fc97eb18d1b7"
      },
      "execution_count": null,
      "outputs": [
        {
          "output_type": "stream",
          "name": "stdout",
          "text": [
            "0      citranurdiyanti@upm.com\n",
            "1        arissetiawan@ud.ac.ku\n",
            "2    corneliahandayani@uhp.com\n",
            "3          solehrajasa@pty.com\n",
            "4           viviastuti@phr.com\n",
            "Name: email, dtype: object\n"
          ]
        }
      ]
    },
    {
      "cell_type": "markdown",
      "source": [
        "### **Transform Bagian VII - Tanggal Lahir**\n",
        "\n",
        "MySQL merupakan salah satu database yang sangat populer dan digunakan untuk menyimpan data berupa tabel, termasuk data hasil pengolahan ini nantinya bisa dimasukkan ke MySQL.\n",
        "\n",
        "Meskipun begitu, ada suatu aturan dari MySQL terkait format tanggal yang bisa diterima yaitu YYYY-MM-DD dengan keterangan:\n",
        "- YYYY: 4 digit yang menandakan tahun\n",
        "- MM: 2 digit yang menandakan bulan\n",
        "- DD: 2 digit yang menandakan tanggal\n",
        "\n",
        "Contohnya yaitu: 2021-04-07\n",
        "\n",
        "Perhatikan kolom tanggal lahir terlihat bahwa nilainya belum sesuai dengan format DATE dari MySQL.\n",
        "\n",
        "Lihat lebih detail : https://www.mysqltutorial.org/mysql-date/\n",
        "\n",
        "Oleh karena itu, akan dilakukan formatting terhadap kolom birth_date menjadi YYYY-MM-DD dan disimpan di kolom yang sama.\n"
      ],
      "metadata": {
        "id": "rPUM1j0Wht5z"
      }
    },
    {
      "cell_type": "code",
      "source": [
        "df_participant['birth_date'] = pd.to_datetime(df_participant['birth_date'], format='%d %b %Y')\n",
        "#print(df_participant['birth_date'].head())"
      ],
      "metadata": {
        "id": "94hd55SFh414"
      },
      "execution_count": null,
      "outputs": []
    },
    {
      "cell_type": "code",
      "source": [
        "print(df_participant['birth_date'].head())"
      ],
      "metadata": {
        "colab": {
          "base_uri": "https://localhost:8080/"
        },
        "id": "4Xiznx-OkM3r",
        "outputId": "97e2ce1f-d2ea-40b5-876b-321b5c2f8cbf"
      },
      "execution_count": null,
      "outputs": [
        {
          "output_type": "stream",
          "name": "stdout",
          "text": [
            "0   1991-02-05\n",
            "1   1993-01-11\n",
            "2   1993-07-31\n",
            "3   1991-11-04\n",
            "4   2003-01-22\n",
            "Name: birth_date, dtype: datetime64[ns]\n"
          ]
        }
      ]
    },
    {
      "cell_type": "markdown",
      "source": [
        "### **Transform Bagian VIII - Tanggal Daftar Kompetisi**\n",
        "\n",
        "Selain punya aturan mengenai format DATE, MySQL juga memberi aturan pada data yang bertipe DATETIME yaitu YYYY-MM-DD HH:mm:ss dengan keterangan:\n",
        "- YYYY: 4 digit yang menandakan tahun\n",
        "- MM: 2 digit yang menandakan bulan\n",
        "- DD: 2 digit yang menandakan tanggal\n",
        "- HH: 2 digit yang menandakan jam\n",
        "- mm: 2 digit yang menandakan menit\n",
        "- ss: 2 digit yang menandakan detik\n",
        "\n",
        "Contohnya yaitu: 2021-04-07 15:10:55\n",
        "\n",
        "Karena data mengenai waktu registrasi peserta (register_time) belum sesuai format yang seharusnya, maka kolom register_time akan diformat DATETIME sesuai dengan aturan dari MySQL.\n",
        "\n",
        "Hasil akan disimpan ke kolom register_at.\n"
      ],
      "metadata": {
        "id": "GnUmqRXOh-8h"
      }
    },
    {
      "cell_type": "code",
      "source": [
        "df_participant['register_at'] = pd.to_datetime(df_participant['register_time'], unit='s')\n",
        "#print(df_participant['register_at'].head())"
      ],
      "metadata": {
        "id": "Nm9FhklHiJFt"
      },
      "execution_count": null,
      "outputs": []
    },
    {
      "cell_type": "code",
      "source": [
        "print(df_participant['register_at'].head())"
      ],
      "metadata": {
        "colab": {
          "base_uri": "https://localhost:8080/"
        },
        "id": "vcjcYMX3kQPd",
        "outputId": "91d06039-d23a-47b0-ea82-45e596b7c661"
      },
      "execution_count": null,
      "outputs": [
        {
          "output_type": "stream",
          "name": "stdout",
          "text": [
            "0   2021-04-05 14:47:26\n",
            "1   2021-04-05 14:46:58\n",
            "2   2021-04-05 14:47:15\n",
            "3   2021-04-05 14:47:14\n",
            "4   2021-04-05 14:46:50\n",
            "Name: register_at, dtype: datetime64[ns]\n"
          ]
        }
      ]
    },
    {
      "cell_type": "markdown",
      "source": [
        "### **Kesimpulan**\n",
        "\n",
        "Dataset terbaru sudah berbeda dengan saat proses extract sebelumnya. Ada beberapa kolom tambahan yang memanfaatkan nilai kolom lain.\n",
        "\n",
        "Dataset saat ini memuat kolom:\n",
        "1.\tparticipant_id \t:\tID dari peserta/partisipan hackathon (unique value)\t\n",
        "2.\tfirst_name\t:\tnama depan peserta\n",
        "3.\tlast_name\t:\tnama belakang peserta\n",
        "4.\tbirth_date\t:\ttanggal lahir peserta (format YYYY-MM-DD)\n",
        "5.\taddress\t:\talamat tempat tinggal peserta\n",
        "6.\tphone_number\t:\tnomor hp/telepon peserta\n",
        "7.\tcountry\t:\tnegara asal peserta\n",
        "8.\tinstitute\t:\tinstitusi peserta saat ini (nama perusahaan atau nama universitas)\n",
        "9.\toccupation\t:\tpekerjaan peserta saat ini\n",
        "10.\tregister_time\t:\twaktu peserta melakukan pendaftaran hackathon dalam detik\n",
        "11.\tteam_name \t:\tnama tim peserta (gabungan nama depan, nama belakang, negara, dan institusi)\n",
        "12.\tpostal_code\t:\tkode pos alamat peserta (diambil dari kolom alamat)\n",
        "13.\tcity\t:\tkota peserta (diambil dari kolom alamat)\n",
        "14.\tgithub_profile\t:\tlink profil github peserta (gabungan nama depan dan nama belakang)\n",
        "15.\temail\t:\talamat email peserta (gabungan nama depan, nama belakang, institusi, dan negara)\n",
        "16.\tcleaned_phone_number\t:\tnomor hp/telepon peserta (format lebih baik)\n",
        "17.\tregister_at\t:\ttanggal dan waktu peserta melakukan pendaftaran (format DATETIME)\n"
      ],
      "metadata": {
        "id": "E9jHTz6xzp3V"
      }
    },
    {
      "cell_type": "markdown",
      "source": [
        "### **Load**\n",
        "\n",
        "Pada bagian load ini, data yang sudah ditransformasi sedemikian rupa sehingga sesuai dengan kebutuhan tim analyst dimasukkan kembali ke database yaitu Data Warehouse (DWH). Biasanya, dilakukan pendefinisian skema database terlebih dahulu seperti:\n",
        "1.\tNama kolom\n",
        "2.\tTipe kolom\n",
        "3.\tApakah primary key, unique key, index atau bukan\n",
        "4.\tPanjang kolomnya\n",
        "\n",
        "Karena umumnya Data Warehouse merupakan database yang terstruktur sehingga mereka memerlukan skema sebelum datanya dimasukkan.\n",
        "\n",
        "Pandas sudah menyediakan fungsi untuk memasukkan data ke database yaitu to_sql().\n",
        "\n",
        "Detail dari fungsi tersebut bisa dilihat pada dokumentasi Pandas: https://pandas.pydata.org/docs/reference/api/pandas.DataFrame.to_sql.html\n"
      ],
      "metadata": {
        "id": "5pN5qVig0BtM"
      }
    }
  ]
}