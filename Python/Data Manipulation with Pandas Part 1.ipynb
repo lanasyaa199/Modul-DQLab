{
  "nbformat": 4,
  "nbformat_minor": 0,
  "metadata": {
    "colab": {
      "provenance": [],
      "authorship_tag": "ABX9TyOLcyCaQ9jsxIslZjDne4dd"
    },
    "kernelspec": {
      "name": "python3",
      "display_name": "Python 3"
    },
    "language_info": {
      "name": "python"
    }
  },
  "cells": [
    {
      "cell_type": "markdown",
      "source": [
        "# **Data Manipulation with Pandas Part 1**\n",
        "\n",
        "**Modul DQLab** membahas library Python paling terkenal untuk kebutuhan Data Analyst, Data Engineer atau Data Scientist, yakni Pandas. Pandas adalah salah satu library open source yang dapat diandalkan ketika berurusan dengan data tabular seperti csv atau excel. Dengan data manipulation kamu akan dapat membaca file, menerapkan indexing, melakukan filter, joining data, ataupun menulis file ke bentuk lain. Dipadukan dengan fungsi-fungsi built in yang ada di python membuat library ini makin canggih dan mudah dimanfaatkan.\n",
        "\n",
        "1. Introduction to Pandas\n",
        "2. Dataset I/O\n",
        "3. Indexing, Slicing, and Transforming\n",
        "4. Handling Missing Values\n",
        "5. Mini Project"
      ],
      "metadata": {
        "id": "EAeHzhzPzjFK"
      }
    },
    {
      "cell_type": "markdown",
      "source": [
        "## **Introduction to Pandas**"
      ],
      "metadata": {
        "id": "OdFOG4Pi1b9F"
      }
    },
    {
      "cell_type": "markdown",
      "source": [
        "### **Memanggil Library Pandas**\n",
        "\n",
        "Pandas adalah library python open source yang biasanya digunakan untuk kebutuhan data analisis. Pandas membuat Python supaya dapat bekerja dengan data yang berbentuk tabular seperti spreadsheet dengan cara pemuatan data yang cepat, manipulasi data, menggabungkan data, serta ada berbagai fungsi yang lain.\n",
        "\n",
        "Biasanya ketika menggunakan library Pandas, library Numpy juga di import."
      ],
      "metadata": {
        "id": "SB-Uf3sqCU_E"
      }
    },
    {
      "cell_type": "code",
      "execution_count": 1,
      "metadata": {
        "id": "77aDE23bQgK5"
      },
      "outputs": [],
      "source": [
        "import pandas as pd\n",
        "import numpy as np"
      ]
    },
    {
      "cell_type": "markdown",
      "source": [
        "### **DataFrame & Series**\n",
        "\n",
        "Di Pandas terdapat 2 kelas data baru yang digunakan sebagai struktur dari spreadsheet:\n",
        "1. Series: satu kolom bagian dari tabel dataframe yang merupakan 1 dimensional numpy array sebagai basis datanya, terdiri dari 1 tipe data (integer, string, float, dll).\n",
        "2. DataFrame: gabungan dari Series, berbentuk rectangular data yang merupakan tabel spreadsheet itu sendiri (karena dibentuk dari banyak Series, tiap Series biasanya punya 1 tipe data, yang artinya 1 dataframe bisa memiliki banyak tipe data)."
      ],
      "metadata": {
        "id": "cMV-1IvHC1Xu"
      }
    },
    {
      "cell_type": "code",
      "source": [
        "# Series\n",
        "number_list = pd.Series([1,2,3,4,5,6])\n",
        "print(\"Series:\")\n",
        "print(number_list)\n",
        "# DataFrame\n",
        "matrix = [[1,2,3],\n",
        "          ['a','b','c'],\n",
        "          [3,4,5],\n",
        "          ['d',4,6]]\n",
        "matrix_list = pd.DataFrame(matrix)\n",
        "print(\"DataFrame:\")\n",
        "print(matrix_list)"
      ],
      "metadata": {
        "id": "lDGO0OhiC-Gi",
        "colab": {
          "base_uri": "https://localhost:8080/"
        },
        "outputId": "7b6b2859-df24-47cd-85eb-369548d1d057"
      },
      "execution_count": 2,
      "outputs": [
        {
          "output_type": "stream",
          "name": "stdout",
          "text": [
            "Series:\n",
            "0    1\n",
            "1    2\n",
            "2    3\n",
            "3    4\n",
            "4    5\n",
            "5    6\n",
            "dtype: int64\n",
            "DataFrame:\n",
            "   0  1  2\n",
            "0  1  2  3\n",
            "1  a  b  c\n",
            "2  3  4  5\n",
            "3  d  4  6\n"
          ]
        }
      ]
    },
    {
      "cell_type": "markdown",
      "source": [
        "### **Atribut DataFrame & Series - Part 1**\n",
        "DataFrame dan Series memiliki sangat banyak atribut yang digunakan untuk transformasi data, tetapi ada beberapa yang sering dipakai.\n",
        "\n",
        "1. Attribute `.info()` digunakan untuk mengecek kolom apa yang membentuk dataframe itu, data types, berapa yang non null, dll. Atribut ini tidak dapat digunakan pada series, hanya pada dataframe saja.\n",
        "\n",
        "2. Attribute `.shape` digunakan untuk mengetahui berapa baris dan kolom, hasilnya dalam format tuple (baris, kolom).\n",
        "\n",
        "3. Attribute `.dtypes` .dtypes digunakan untuk mengetahui tipe data di tiap kolom. Tipe data object: kombinasi untuk berbagai tipe data (number & text, etc).\n",
        "\n",
        "4. Attribute `.astype(nama_tipe_data)` digunakan untuk convert tipe data berdasarkan tipe data seperti: float, int, str, numpy.float, numpy.int, ataupun numpy.datetime.\n"
      ],
      "metadata": {
        "id": "rBZP7A4_C9bT"
      }
    },
    {
      "cell_type": "code",
      "source": [
        "# [1] attribute .info()\n",
        "print(\"[1] attribute .info()\")\n",
        "print(matrix_list.info())\n",
        "# [2] attribute .shape\n",
        "print(\"\\n[2] attribute .shape\")\n",
        "print(\"    Shape dari number_list:\", number_list.shape)\n",
        "print(\"    Shape dari matrix_list:\", matrix_list.shape)\n",
        "# [3] attribute .dtypes\n",
        "print(\"\\n[3] attribute .dtypes\")\n",
        "print(\"    Tipe data number_list:\", number_list.dtypes)\n",
        "print(\"    Tipe data matrix_list:\", matrix_list.dtypes)\n",
        "# [4] attribute .astype()\n",
        "print(\"\\n[4] attribute .astype()\")\n",
        "print(\"    Konversi number_list ke str:\", number_list.astype(\"str\"))\n",
        "print(\"    Konversi matrix_list ke str:\", matrix_list.astype(\"str\"))"
      ],
      "metadata": {
        "id": "r7ywLAw4DFN-",
        "colab": {
          "base_uri": "https://localhost:8080/"
        },
        "outputId": "0f49b507-9c81-4766-94d7-b026eff74493"
      },
      "execution_count": 3,
      "outputs": [
        {
          "output_type": "stream",
          "name": "stdout",
          "text": [
            "[1] attribute .info()\n",
            "<class 'pandas.core.frame.DataFrame'>\n",
            "RangeIndex: 4 entries, 0 to 3\n",
            "Data columns (total 3 columns):\n",
            " #   Column  Non-Null Count  Dtype \n",
            "---  ------  --------------  ----- \n",
            " 0   0       4 non-null      object\n",
            " 1   1       4 non-null      object\n",
            " 2   2       4 non-null      object\n",
            "dtypes: object(3)\n",
            "memory usage: 224.0+ bytes\n",
            "None\n",
            "\n",
            "[2] attribute .shape\n",
            "    Shape dari number_list: (6,)\n",
            "    Shape dari matrix_list: (4, 3)\n",
            "\n",
            "[3] attribute .dtypes\n",
            "    Tipe data number_list: int64\n",
            "    Tipe data matrix_list: 0    object\n",
            "1    object\n",
            "2    object\n",
            "dtype: object\n",
            "\n",
            "[4] attribute .astype()\n",
            "    Konversi number_list ke str: 0    1\n",
            "1    2\n",
            "2    3\n",
            "3    4\n",
            "4    5\n",
            "5    6\n",
            "dtype: object\n",
            "    Konversi matrix_list ke str:    0  1  2\n",
            "0  1  2  3\n",
            "1  a  b  c\n",
            "2  3  4  5\n",
            "3  d  4  6\n"
          ]
        }
      ]
    },
    {
      "cell_type": "markdown",
      "source": [
        "### **Atribut DataFrame & Series - Part 2**\n",
        "\n",
        "5. Attribute `.copy()` digunakan melakukan duplikat, untuk disimpan di variabel yang berbeda mungkin supaya tidak loading data lagi.\n",
        "\n",
        "6. Attribute `.to_list()` digunakan untuk mengubah series menjadi list dan tidak dapat digunakan untuk dataframe.\n",
        "\n",
        "7. Attribute `.unique()` digunakan menghasilkan nilai unik dari suatu kolom, hasilnya dalam bentuk numpy array. Atribut ini hanya digunakan pada series saja."
      ],
      "metadata": {
        "id": "YgMreY7_Dl7f"
      }
    },
    {
      "cell_type": "code",
      "source": [
        "# [5] attribute .copy()\n",
        "print(\"[5] attribute .copy()\")\n",
        "num_list = number_list.copy()\n",
        "print(\"    Copy number_list ke num_list:\", num_list)\n",
        "mtr_list = matrix_list.copy()\n",
        "print(\"    Copy matrix_list ke mtr_list:\", mtr_list)\t\n",
        "# [6] attribute .to_list()\n",
        "print(\"[6] attribute .to_list()\")\n",
        "print(number_list.to_list())\n",
        "# [7] attribute .unique()\n",
        "print(\"[7] attribute .unique()\")\n",
        "print(number_list.unique())"
      ],
      "metadata": {
        "id": "tDurWlPwDea2",
        "colab": {
          "base_uri": "https://localhost:8080/"
        },
        "outputId": "f28f929b-1db6-425d-df25-e23147f3a227"
      },
      "execution_count": 4,
      "outputs": [
        {
          "output_type": "stream",
          "name": "stdout",
          "text": [
            "[5] attribute .copy()\n",
            "    Copy number_list ke num_list: 0    1\n",
            "1    2\n",
            "2    3\n",
            "3    4\n",
            "4    5\n",
            "5    6\n",
            "dtype: int64\n",
            "    Copy matrix_list ke mtr_list:    0  1  2\n",
            "0  1  2  3\n",
            "1  a  b  c\n",
            "2  3  4  5\n",
            "3  d  4  6\n",
            "[6] attribute .to_list()\n",
            "[1, 2, 3, 4, 5, 6]\n",
            "[7] attribute .unique()\n",
            "[1 2 3 4 5 6]\n"
          ]
        }
      ]
    },
    {
      "cell_type": "markdown",
      "source": [
        "### **Atribut DataFrame & Series - Part 3**\n",
        "\n",
        "8. Attribute `.index` digunakan untuk mencari index/key dari Series atau Dataframe.\n",
        "\n",
        "9. Attribute `.columns` digunakan untuk mengetahui apa saja kolom yang tersedia di dataframe tersebut (hanya digunakan untuk dataframe saja).\n",
        "\n",
        "10. Attribute `.loc` digunakan untuk slice dataframe atau series berdasarkan nama kolom dan/atau nama index.\n",
        "\n",
        "11. Attribute `.iloc` digunakan untuk slice dataframe atau series berdasarkan index kolom dan/atau index."
      ],
      "metadata": {
        "id": "owGU5aeGDwT4"
      }
    },
    {
      "cell_type": "code",
      "source": [
        "# [8] attribute .index\n",
        "print(\"[8] attribute .index\")\n",
        "print(\"    Index number_list:\", number_list.index)\n",
        "print(\"    Index matrix_list:\", matrix_list.index)\t\n",
        "# [9] attribute .columns\n",
        "print(\"[9] attribute .columns\")\n",
        "print(\"    Column matrix_list:\", matrix_list.columns)\n",
        "# [10] attribute .loc\n",
        "print(\"[10] attribute .loc\")\n",
        "print(\"    .loc[0:1] pada number_list:\", number_list.loc[0:1])\n",
        "print(\"    .loc[0:1] pada matrix_list:\", matrix_list.loc[0:1])\n",
        "# [11] attribute .iloc\n",
        "print(\"[11] attribute .iloc\")\n",
        "print(\"    iloc[0:1] pada number_list:\", number_list.iloc[0:1])\n",
        "print(\"    iloc[0:1] pada matrix_list:\", matrix_list.iloc[0:1])\t"
      ],
      "metadata": {
        "id": "tTc5cHdfDpSs",
        "colab": {
          "base_uri": "https://localhost:8080/"
        },
        "outputId": "b6fc3283-726c-4faa-8f15-da3e40497747"
      },
      "execution_count": 5,
      "outputs": [
        {
          "output_type": "stream",
          "name": "stdout",
          "text": [
            "[8] attribute .index\n",
            "    Index number_list: RangeIndex(start=0, stop=6, step=1)\n",
            "    Index matrix_list: RangeIndex(start=0, stop=4, step=1)\n",
            "[9] attribute .columns\n",
            "    Column matrix_list: RangeIndex(start=0, stop=3, step=1)\n",
            "[10] attribute .loc\n",
            "    .loc[0:1] pada number_list: 0    1\n",
            "1    2\n",
            "dtype: int64\n",
            "    .loc[0:1] pada matrix_list:    0  1  2\n",
            "0  1  2  3\n",
            "1  a  b  c\n",
            "[11] attribute .iloc\n",
            "    iloc[0:1] pada number_list: 0    1\n",
            "dtype: int64\n",
            "    iloc[0:1] pada matrix_list:    0  1  2\n",
            "0  1  2  3\n"
          ]
        }
      ]
    },
    {
      "cell_type": "markdown",
      "source": [
        "### **Creating Series & Dataframe from List**\n",
        "\n",
        "Untuk membuat Series atau Dataframe bisa dari berbagai macam tipe data container/mapping di python, seperti list dan dictionary, maupun dari numpy array.\n",
        "\n",
        "Sekadar meninjau bahwa list merupakan sebuah kumpulan data berbagai macam tipe data yang mutable (dapat diganti).\n",
        "\n",
        "Contoh membuat series dari **list**:\n"
      ],
      "metadata": {
        "id": "FIklqk4BD53s"
      }
    },
    {
      "cell_type": "code",
      "source": [
        "# Creating series from list\n",
        "ex_list = ['a',1,3,5,'c','d']\n",
        "ex_series = pd.Series(ex_list)\n",
        "print(ex_series)\n",
        "# Creating dataframe from list of list\n",
        "ex_list_of_list = [[1, 'a', 'b', 'c'],\n",
        "                   [2.5, 'd', 'e', 'f'],\n",
        "\t\t           [5, 'g', 'h', 'i'],\n",
        "\t\t           [7.5, 'j', 10.5, 'l']]\n",
        "index = ['dq', 'lab', 'kar', 'lan']\n",
        "cols = ['float', 'char', 'obj', 'char']\n",
        "ex_df = pd.DataFrame(ex_list_of_list, index=index, columns=cols)\n",
        "print(ex_df)"
      ],
      "metadata": {
        "id": "Sc9R5wtBDzZX",
        "colab": {
          "base_uri": "https://localhost:8080/"
        },
        "outputId": "f9e25290-1dc5-4630-e3ad-9fca3835b7fa"
      },
      "execution_count": 7,
      "outputs": [
        {
          "output_type": "stream",
          "name": "stdout",
          "text": [
            "0    a\n",
            "1    1\n",
            "2    3\n",
            "3    5\n",
            "4    c\n",
            "5    d\n",
            "dtype: object\n",
            "     float char   obj char\n",
            "dq     1.0    a     b    c\n",
            "lab    2.5    d     e    f\n",
            "kar    5.0    g     h    i\n",
            "lan    7.5    j  10.5    l\n"
          ]
        }
      ]
    },
    {
      "cell_type": "markdown",
      "source": [
        "### **Creating Series & Dataframe from Dictionary**\n",
        "\n",
        "Sekadar meninjau bahwa dictionary merupakan kumpulan data yang strukturnya terdiri dari key dan value.\n",
        "\n",
        "Contoh membuat series dari **dictionary**:"
      ],
      "metadata": {
        "id": "c2ldZXDcEG-G"
      }
    },
    {
      "cell_type": "code",
      "source": [
        "# Creating series from dictionary\n",
        "dict_series = {'1':'a',\n",
        "\t\t\t   '2':'b',\n",
        "\t\t\t   '3':'c'}\n",
        "ex_series = pd.Series(dict_series)\n",
        "print(ex_series)\n",
        "# Creating dataframe from dictionary\n",
        "df_series = {'1':['a','b','c'],\n",
        "             '2':['b','c','d'],\n",
        "             '4':[2,3,'z']}\n",
        "ex_df = pd.DataFrame(df_series)\n",
        "print(ex_df)"
      ],
      "metadata": {
        "id": "5L8n3EMHD9lK",
        "colab": {
          "base_uri": "https://localhost:8080/"
        },
        "outputId": "16219920-b0b0-4d8c-8fc3-fa7900bc5590"
      },
      "execution_count": 6,
      "outputs": [
        {
          "output_type": "stream",
          "name": "stdout",
          "text": [
            "1    a\n",
            "2    b\n",
            "3    c\n",
            "dtype: object\n",
            "   1  2  4\n",
            "0  a  b  2\n",
            "1  b  c  3\n",
            "2  c  d  z\n"
          ]
        }
      ]
    },
    {
      "cell_type": "markdown",
      "source": [
        "### **Creating Series & Dataframe from Numpy Array**\n",
        "\n",
        "Sekadar meninjau bahwa numpy array merupakan kumpulan data yang terdiri atas berbagai macam tipe data, mutable, tapi dibungkus dalam array oleh library Numpy.\n",
        "\n",
        "Contoh membuat series dari **numpy array 1D**:\n"
      ],
      "metadata": {
        "id": "0X98V4fYES3S"
      }
    },
    {
      "cell_type": "code",
      "source": [
        "# Creating series from numpy array (1D)\n",
        "arr_series = np.array([1,2,3,4,5,6,6,7])\n",
        "ex_series = pd.Series(arr_series)\n",
        "print(ex_series)\n",
        "# Creating dataframe from numpy array (2D)\n",
        "arr_df = np.array([[1,2,3,5],\n",
        "                   [5,6,7,8],\n",
        "                   ['a','b','c',10]])\n",
        "ex_df = pd.DataFrame(arr_df)\n",
        "print(ex_df)"
      ],
      "metadata": {
        "id": "r4kdXASjEP3H",
        "colab": {
          "base_uri": "https://localhost:8080/"
        },
        "outputId": "af9395a5-3853-4bdf-e173-d0eca73a28f5"
      },
      "execution_count": 8,
      "outputs": [
        {
          "output_type": "stream",
          "name": "stdout",
          "text": [
            "0    1\n",
            "1    2\n",
            "2    3\n",
            "3    4\n",
            "4    5\n",
            "5    6\n",
            "6    6\n",
            "7    7\n",
            "dtype: int64\n",
            "   0  1  2   3\n",
            "0  1  2  3   5\n",
            "1  5  6  7   8\n",
            "2  a  b  c  10\n"
          ]
        }
      ]
    },
    {
      "cell_type": "markdown",
      "source": [
        "## **Dataset I/O**"
      ],
      "metadata": {
        "id": "8iwFe2RLEV8N"
      }
    },
    {
      "cell_type": "markdown",
      "source": [
        "### **Pendahuluan**\n",
        "\n",
        "Pandas menyediakan berbagai method untuk membaca file tersebut hanya dengan dipanggil method itu, code yang lebih simple dan loading yang lebih, tentu saja output nya dapat berupa Series atau Dataframe.\n",
        "\n",
        "Terdapat sangat banyak file yang dapat dibaca/dapat disimpan oleh Pandas, tapi ada beberapa file yang paling umum dan sering digunakan oleh praktisi data seperti berikut ini:\n",
        "1. CSV (Comma Separated Values), antar data dalam satu baris dipisahkan oleh comma, \",\".\n",
        "2. TSV (Tab Separated Values), antar data dalam satu baris dipisahkan oleh \"Tab\".\n",
        "3. Excel\n",
        "4. Google BigQuery\n",
        "5. SQL Query\n",
        "6. JSON (Java Script Object Notation)"
      ],
      "metadata": {
        "id": "pSBZctebdgSG"
      }
    },
    {
      "cell_type": "markdown",
      "source": [
        "### **Read Dataset - CSV dan TSV**\n",
        "\n",
        "CSV dan TSV pada hakikatnya adalah tipe data text dengan perbedaan terletak pada pemisah antar data dalam satu baris. \n",
        "\n",
        "Fungsi `.read_csv()` digunakan untuk membaca file yang value-nya dipisahkan oleh comma (default), terkadang pemisah value-nya bisa di set '\\t' untuk file tsv (tab separated values)."
      ],
      "metadata": {
        "id": "9qNSX09GEdUr"
      }
    },
    {
      "cell_type": "code",
      "source": [
        "# File CSV\n",
        "df_csv = pd.read_csv(\"https://storage.googleapis.com/dqlab-dataset/sample_csv.csv\")\n",
        "print(df_csv.head(3)) # Menampilkan 3 data teratas\n",
        "# File TSV\n",
        "df_tsv = pd.read_csv(\"https://storage.googleapis.com/dqlab-dataset/sample_tsv.tsv\", sep='\\t')\n",
        "print(df_tsv.head(3)) # Menampilkan 3 data teratas"
      ],
      "metadata": {
        "id": "VmQgICQKErNB",
        "colab": {
          "base_uri": "https://localhost:8080/"
        },
        "outputId": "0387996e-5a8a-4046-f3ad-e63f37261496"
      },
      "execution_count": 9,
      "outputs": [
        {
          "output_type": "stream",
          "name": "stdout",
          "text": [
            "   order_id  order_date  customer_id             city     province product_id  \\\n",
            "0   1612339  2019-01-01        18055  Jakarta Selatan  DKI Jakarta      P0648   \n",
            "1   1612339  2019-01-01        18055  Jakarta Selatan  DKI Jakarta      P3826   \n",
            "2   1612339  2019-01-01        18055  Jakarta Selatan  DKI Jakarta      P1508   \n",
            "\n",
            "     brand  quantity  item_price  \n",
            "0  BRAND_C         4     1934000  \n",
            "1  BRAND_V         8      604000  \n",
            "2  BRAND_G        12      747000  \n",
            "   order_id  order_date  customer_id             city     province product_id  \\\n",
            "0   1612339  2019-01-01        18055  Jakarta Selatan  DKI Jakarta      P0648   \n",
            "1   1612339  2019-01-01        18055  Jakarta Selatan  DKI Jakarta      P3826   \n",
            "2   1612339  2019-01-01        18055  Jakarta Selatan  DKI Jakarta      P1508   \n",
            "\n",
            "     brand  quantity  item_price  \n",
            "0  BRAND_C         4     1934000  \n",
            "1  BRAND_V         8      604000  \n",
            "2  BRAND_G        12      747000  \n"
          ]
        }
      ]
    },
    {
      "cell_type": "markdown",
      "source": [
        "### **Read Dataset - Excel**\n",
        "\n",
        "File Excel dengan ekstensi *.xls atau *.xlsx cukup banyak digunakan dalam menyimpan data. Pandas juga memiliki fitur untuk membaca file excel.\n",
        "\n",
        "Fungsi `.read_excel()` digunakan untuk membaca file excel menjadi dataframe pandas."
      ],
      "metadata": {
        "id": "0OGaBW11E050"
      }
    },
    {
      "cell_type": "code",
      "source": [
        "# File xlsx dengan data di sheet \"test\"\n",
        "df_excel = pd.read_excel(\"https://storage.googleapis.com/dqlab-dataset/sample_excel.xlsx\", sheet_name=\"test\")\n",
        "print(df_excel.head(4)) # Menampilkan 4 data teratas"
      ],
      "metadata": {
        "id": "NGuhImA2Ev_Z",
        "colab": {
          "base_uri": "https://localhost:8080/"
        },
        "outputId": "83e50004-fc5c-4225-9a64-5cbae927cc00"
      },
      "execution_count": 10,
      "outputs": [
        {
          "output_type": "stream",
          "name": "stdout",
          "text": [
            "   order_id  order_date  customer_id             city     province product_id  \\\n",
            "0   1612339  2019-01-01        18055  Jakarta Selatan  DKI Jakarta      P0648   \n",
            "1   1612339  2019-01-01        18055  Jakarta Selatan  DKI Jakarta      P3826   \n",
            "2   1612339  2019-01-01        18055  Jakarta Selatan  DKI Jakarta      P1508   \n",
            "3   1612339  2019-01-01        18055  Jakarta Selatan  DKI Jakarta      P0520   \n",
            "\n",
            "     brand  quantity  item_price  \n",
            "0  BRAND_C         4     1934000  \n",
            "1  BRAND_V         8      604000  \n",
            "2  BRAND_G        12      747000  \n",
            "3  BRAND_B        12      450000  \n"
          ]
        }
      ]
    },
    {
      "cell_type": "markdown",
      "source": [
        "### **Read Dataset - JSON**\n",
        "\n",
        "Method `.read_json()` digunakan untuk membaca URL API yang formatnya JSON dan mengubahnya menjadi dataframe pandas. "
      ],
      "metadata": {
        "id": "VKr7KVqRFAMb"
      }
    },
    {
      "cell_type": "code",
      "source": [
        "# File JSON\n",
        "url = \"https://storage.googleapis.com/dqlab-dataset/covid2019-api-herokuapp-v2.json\"\n",
        "df_json = pd.read_json(url)\n",
        "print(df_json.head(10)) # Menampilkan 10 data teratas"
      ],
      "metadata": {
        "id": "qDeFKSaQE3-I",
        "colab": {
          "base_uri": "https://localhost:8080/"
        },
        "outputId": "edf1a8f7-5455-4f66-ae67-64d6ea3a2fd3"
      },
      "execution_count": 13,
      "outputs": [
        {
          "output_type": "stream",
          "name": "stdout",
          "text": [
            "                                                data          dt          ts\n",
            "0  {'location': 'US', 'confirmed': 3363056, 'deat...  07-14-2020  1594684800\n",
            "1  {'location': 'Brazil', 'confirmed': 1884967, '...  07-14-2020  1594684800\n",
            "2  {'location': 'India', 'confirmed': 906752, 'de...  07-14-2020  1594684800\n",
            "3  {'location': 'Russia', 'confirmed': 732547, 'd...  07-14-2020  1594684800\n",
            "4  {'location': 'Peru', 'confirmed': 330123, 'dea...  07-14-2020  1594684800\n",
            "5  {'location': 'Chile', 'confirmed': 317657, 'de...  07-14-2020  1594684800\n",
            "6  {'location': 'Mexico', 'confirmed': 304435, 'd...  07-14-2020  1594684800\n",
            "7  {'location': 'United Kingdom', 'confirmed': 29...  07-14-2020  1594684800\n",
            "8  {'location': 'South Africa', 'confirmed': 2877...  07-14-2020  1594684800\n",
            "9  {'location': 'Iran', 'confirmed': 259652, 'dea...  07-14-2020  1594684800\n"
          ]
        }
      ]
    },
    {
      "cell_type": "markdown",
      "source": [
        "### **Read Dataset - SQL**\n",
        "\n",
        "Fungsi `.read_sql()` atau `.read_sql_query()` digunakan untuk membaca query dari database dan translate menjadi pandas dataframe.\n"
      ],
      "metadata": {
        "id": "ZSOTg_yiFG6X"
      }
    },
    {
      "cell_type": "markdown",
      "source": [
        "### **Read Dataset - Google BigQuery**\n",
        "\n",
        "Untuk data yang besar (big data), umumnya digunakan Google BigQuery. Layanan ini dapat digunakan jika telah memiliki akun.\n",
        "\n",
        "Fungsi `.read_gbq()` digunakan untuk membaca Google BigQuery tabel menjadi dataframe pandas."
      ],
      "metadata": {
        "id": "MXqFQuRpFN9R"
      }
    },
    {
      "cell_type": "markdown",
      "source": [
        "### **Write Dataset**\n",
        "Dalam bekerja sebagai data scientist/analis setelah dilakukan data cleaning dataset yang sudah rapi tentunya disimpan terlebih dahulu ke media penyimpanan.\n",
        "\n",
        "Pandas menyediakan fitur demikian secara ringkas melalui penerapan method pada dataframe/series yang ditabelkan berikut ini:"
      ],
      "metadata": {
        "id": "qUsPGwJPbev9"
      }
    },
    {
      "cell_type": "markdown",
      "source": [
        "![Screenshot (293).png](data:image/png;base64,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)"
      ],
      "metadata": {
        "id": "BtPy4Z5Bbn1X"
      }
    },
    {
      "cell_type": "markdown",
      "source": [
        "### **Head & Tail**\n",
        "\n",
        "Method .head ditujukan untuk membatasi tampilan jumlah baris teratas dari dataset. Sementara itu, method .tail ditujukan untuk membatasi jumlah baris terbawah dari dataset.\n",
        "\n",
        "Secara umum kedua method ini memiliki bentuk\n",
        "`[nama_dataframe].head(n)`\n",
        "dan\n",
        "`[nama_dataframe].tail(n)`\n",
        "dengan n merupakan jumlah baris yang akan ditampilkan, jika tidak disebutkan n = 5 (sebagai nilai default dari n)."
      ],
      "metadata": {
        "id": "Om_B9an0FY_m"
      }
    },
    {
      "cell_type": "code",
      "source": [
        "# Baca file sample_csv.csv\n",
        "df = pd.read_csv(\"https://storage.googleapis.com/dqlab-dataset/sample_csv.csv\")\n",
        "# Tampilkan 3 data teratas\n",
        "print(\"Tiga data teratas:\\n\", df.head(3))\n",
        "# Tampilkan 3 data terbawah\n",
        "print(\"Tiga data terbawah:\\n\", df.tail(3))"
      ],
      "metadata": {
        "id": "dRsD43drFRft",
        "colab": {
          "base_uri": "https://localhost:8080/"
        },
        "outputId": "03acb31a-2ab8-4e67-aa39-6670860d7403"
      },
      "execution_count": 14,
      "outputs": [
        {
          "output_type": "stream",
          "name": "stdout",
          "text": [
            "Tiga data teratas:\n",
            "    order_id  order_date  customer_id             city     province product_id  \\\n",
            "0   1612339  2019-01-01        18055  Jakarta Selatan  DKI Jakarta      P0648   \n",
            "1   1612339  2019-01-01        18055  Jakarta Selatan  DKI Jakarta      P3826   \n",
            "2   1612339  2019-01-01        18055  Jakarta Selatan  DKI Jakarta      P1508   \n",
            "\n",
            "     brand  quantity  item_price  \n",
            "0  BRAND_C         4     1934000  \n",
            "1  BRAND_V         8      604000  \n",
            "2  BRAND_G        12      747000  \n",
            "Tiga data terbawah:\n",
            "      order_id  order_date  customer_id      city          province product_id  \\\n",
            "98    1612390  2019-01-01        12681  Makassar  Sulawesi Selatan      P3354   \n",
            "99    1612390  2019-01-01        12681  Makassar  Sulawesi Selatan      P3357   \n",
            "100   1612390  2019-01-01        12681  Makassar  Sulawesi Selatan      P0422   \n",
            "\n",
            "       brand  quantity  item_price  \n",
            "98   BRAND_S        24      450000  \n",
            "99   BRAND_S        24      450000  \n",
            "100  BRAND_B         4     1325000  \n"
          ]
        }
      ]
    },
    {
      "cell_type": "markdown",
      "source": [
        "## **Indexing, Slicing, dan Transforming**"
      ],
      "metadata": {
        "id": "uFGQcSBrFm8z"
      }
    },
    {
      "cell_type": "markdown",
      "source": [
        "### **Indexing - Part 1**\n",
        "\n",
        "Index merupakan key identifier dari tiap row/column untuk Series atau DataFrame (sifatnya tidak mutable untuk masing-masing value tapi bisa diganti untuk semua value sekaligus).\n",
        "\n",
        "Jika tidak disediakan, pandas akan membuat kolom index default secara otomatis sebagai bilangan bulat (integer) dari 0 sampai range jumlah baris data tersebut.\n",
        "\n",
        "Kolom index dapat terdiri dari:\n",
        "1. Satu kolom (single index), atau\n",
        "2. Multiple kolom (disebut dengan hierarchical indexing)\n",
        "\n",
        "Index dengan multiple kolom ini terjadi karena unique identifier tidak dapat dicapai hanya dengan set index di 1 kolom saja sehingga membutuhkan beberapa kolom yang menjadikan tiap row menjadi unique."
      ],
      "metadata": {
        "id": "4p6AMIU-iQyz"
      }
    },
    {
      "cell_type": "markdown",
      "source": [
        "### **Indexing - Part 2**\n",
        "\n",
        "Secara default setelah suatu dataframe dibaca dari file dengan format tertentu, index-nya merupakan single index. \n",
        "\n",
        "Untuk menentukan index dan kolom yang dimiliki oleh dataset yan telah dinyatakan sebagai sebuah dataframe pandas dapat dilakukan dengan menggunakan atribut `.index` dan `.columns`."
      ],
      "metadata": {
        "id": "LypK50JQFo25"
      }
    },
    {
      "cell_type": "code",
      "source": [
        "# Baca file TSV sample_tsv.tsv\n",
        "df = pd.read_csv(\"https://storage.googleapis.com/dqlab-dataset/sample_tsv.tsv\", sep=\"\\t\")\n",
        "# Index dari df\n",
        "print(\"Index:\", df.index)\n",
        "# Column dari df\n",
        "print(\"Columns:\", df.columns)"
      ],
      "metadata": {
        "id": "dX7POfN-FucY",
        "colab": {
          "base_uri": "https://localhost:8080/"
        },
        "outputId": "388f24b9-ab35-471e-dd05-f65a4a2f2481"
      },
      "execution_count": 15,
      "outputs": [
        {
          "output_type": "stream",
          "name": "stdout",
          "text": [
            "Index: RangeIndex(start=0, stop=101, step=1)\n",
            "Columns: Index(['order_id', 'order_date', 'customer_id', 'city', 'province',\n",
            "       'product_id', 'brand', 'quantity', 'item_price'],\n",
            "      dtype='object')\n"
          ]
        }
      ]
    },
    {
      "cell_type": "markdown",
      "source": [
        "### **Indexing - Part 3**\n",
        "\n",
        "Untuk membuat multi index (hierarchical indexing) dengan pandas diperlukan kolom-kolom mana saja yang perlu disusun agar index dari dataframe menjadi sebuah hirarki yang kemudian dapat dikenali.\n",
        "\n",
        "Perlu diketahui bahwa kumpulan index dari multi index adalah list dari banyak tuples, tuples-nya merupakan kombinasi yang ada dari gabungan index-index tersebut. Dari multi index tersebut juga terdapat atribut levels yang menunjukkan urutan index."
      ],
      "metadata": {
        "id": "M08jLhnYF1Q4"
      }
    },
    {
      "cell_type": "code",
      "source": [
        "# Set multi index df\n",
        "df_x = df.set_index(['order_date', 'city', 'customer_id'])\n",
        "# Print nama dan level dari multi index\n",
        "for name, level in zip(df_x.index.names, df_x.index.levels):\n",
        "    print(name,':',level)"
      ],
      "metadata": {
        "id": "soFobAIIF9S-",
        "colab": {
          "base_uri": "https://localhost:8080/"
        },
        "outputId": "aecdef6a-5fe4-48e0-94b8-6c04885afd16"
      },
      "execution_count": 16,
      "outputs": [
        {
          "output_type": "stream",
          "name": "stdout",
          "text": [
            "order_date : Index(['2019-01-01'], dtype='object', name='order_date')\n",
            "city : Index(['Bogor', 'Jakarta Pusat', 'Jakarta Selatan', 'Jakarta Utara',\n",
            "       'Makassar', 'Malang', 'Surabaya', 'Tangerang'],\n",
            "      dtype='object', name='city')\n",
            "customer_id : Int64Index([12681, 13963, 15649, 17091, 17228, 17450, 17470, 17511, 17616,\n",
            "            18055],\n",
            "           dtype='int64', name='customer_id')\n"
          ]
        }
      ]
    },
    {
      "cell_type": "markdown",
      "source": [
        "### **Indexing - Part 4**\n",
        "\n",
        "Terdapat beberapa cara untuk membuat index, salah satunya dengan menggunakan method `.set_index()`. \n",
        "\n",
        "Note: Jika ingin kembalikan dataframe ke index default-nya yaitu dari 0 s/d jumlah baris data - 1, maka dapat menggunakan method `.reset_index(drop=True)`, argument drop=True bertujuan untuk menghapus index lama."
      ],
      "metadata": {
        "id": "weRVr7QGF-td"
      }
    },
    {
      "cell_type": "code",
      "source": [
        "# Baca file sample_tsv.tsv untuk 10 baris pertama saja\n",
        "df = pd.read_csv(\"https://storage.googleapis.com/dqlab-dataset/sample_tsv.tsv\", sep=\"\\t\", nrows=10)\n",
        "# Cetak data frame awal\n",
        "print(\"Dataframe awal:\\n\", df)\n",
        "# Set index baru\n",
        "df.index = [\"Pesanan ke-\" + str(i) for i in range(1, 11)]\n",
        "# Cetak data frame dengan index baru\n",
        "print(\"Dataframe dengan index baru:\\n\", df)"
      ],
      "metadata": {
        "id": "zVEHCId2GEkG",
        "colab": {
          "base_uri": "https://localhost:8080/"
        },
        "outputId": "4ea9842d-e06c-45ec-9faa-7b68b7b07bd5"
      },
      "execution_count": 17,
      "outputs": [
        {
          "output_type": "stream",
          "name": "stdout",
          "text": [
            "Dataframe awal:\n",
            "    order_id  order_date  customer_id             city     province product_id  \\\n",
            "0   1612339  2019-01-01        18055  Jakarta Selatan  DKI Jakarta      P0648   \n",
            "1   1612339  2019-01-01        18055  Jakarta Selatan  DKI Jakarta      P3826   \n",
            "2   1612339  2019-01-01        18055  Jakarta Selatan  DKI Jakarta      P1508   \n",
            "3   1612339  2019-01-01        18055  Jakarta Selatan  DKI Jakarta      P0520   \n",
            "4   1612339  2019-01-01        18055  Jakarta Selatan  DKI Jakarta      P1513   \n",
            "5   1612339  2019-01-01        18055  Jakarta Selatan  DKI Jakarta      P3911   \n",
            "6   1612339  2019-01-01        18055  Jakarta Selatan  DKI Jakarta      P1780   \n",
            "7   1612339  2019-01-01        18055  Jakarta Selatan  DKI Jakarta      P3132   \n",
            "8   1612339  2019-01-01        18055  Jakarta Selatan  DKI Jakarta      P1342   \n",
            "9   1612339  2019-01-01        18055  Jakarta Selatan  DKI Jakarta      P2556   \n",
            "\n",
            "     brand  quantity  item_price  \n",
            "0  BRAND_C         4     1934000  \n",
            "1  BRAND_V         8      604000  \n",
            "2  BRAND_G        12      747000  \n",
            "3  BRAND_B        12      450000  \n",
            "4  BRAND_G         3     1500000  \n",
            "5  BRAND_V         3     2095000  \n",
            "6  BRAND_H         3     2095000  \n",
            "7  BRAND_S         3     1745000  \n",
            "8  BRAND_F         6     1045000  \n",
            "9  BRAND_P         6     1045000  \n",
            "Dataframe dengan index baru:\n",
            "                order_id  order_date  customer_id             city  \\\n",
            "Pesanan ke-1    1612339  2019-01-01        18055  Jakarta Selatan   \n",
            "Pesanan ke-2    1612339  2019-01-01        18055  Jakarta Selatan   \n",
            "Pesanan ke-3    1612339  2019-01-01        18055  Jakarta Selatan   \n",
            "Pesanan ke-4    1612339  2019-01-01        18055  Jakarta Selatan   \n",
            "Pesanan ke-5    1612339  2019-01-01        18055  Jakarta Selatan   \n",
            "Pesanan ke-6    1612339  2019-01-01        18055  Jakarta Selatan   \n",
            "Pesanan ke-7    1612339  2019-01-01        18055  Jakarta Selatan   \n",
            "Pesanan ke-8    1612339  2019-01-01        18055  Jakarta Selatan   \n",
            "Pesanan ke-9    1612339  2019-01-01        18055  Jakarta Selatan   \n",
            "Pesanan ke-10   1612339  2019-01-01        18055  Jakarta Selatan   \n",
            "\n",
            "                  province product_id    brand  quantity  item_price  \n",
            "Pesanan ke-1   DKI Jakarta      P0648  BRAND_C         4     1934000  \n",
            "Pesanan ke-2   DKI Jakarta      P3826  BRAND_V         8      604000  \n",
            "Pesanan ke-3   DKI Jakarta      P1508  BRAND_G        12      747000  \n",
            "Pesanan ke-4   DKI Jakarta      P0520  BRAND_B        12      450000  \n",
            "Pesanan ke-5   DKI Jakarta      P1513  BRAND_G         3     1500000  \n",
            "Pesanan ke-6   DKI Jakarta      P3911  BRAND_V         3     2095000  \n",
            "Pesanan ke-7   DKI Jakarta      P1780  BRAND_H         3     2095000  \n",
            "Pesanan ke-8   DKI Jakarta      P3132  BRAND_S         3     1745000  \n",
            "Pesanan ke-9   DKI Jakarta      P1342  BRAND_F         6     1045000  \n",
            "Pesanan ke-10  DKI Jakarta      P2556  BRAND_P         6     1045000  \n"
          ]
        }
      ]
    },
    {
      "cell_type": "markdown",
      "source": [
        "### **Indexing - Part 5**\n",
        "\n",
        "Jika file yang akan dibaca melalui penggunaan library pandas dapat di-preview terlebih dahulu struktur datanya maka melalui fungsi yang ditujukan untuk membaca file dapat di set mana kolom yang akan dijadikan index.\n",
        "\n",
        "Fitur ini telah dimiliki oleh setiap fungsi yang digunakan dalam membaca data dengan pandas, yaitu penggunaan argumen index_col pada fungsi yang dimaksud.\n",
        "\n",
        "Berikut kode dengan kolom 'order_date' dan 'order_id' sebagai index_col-nya:\n"
      ],
      "metadata": {
        "id": "VLkAFGe5GO-A"
      }
    },
    {
      "cell_type": "code",
      "source": [
        "# Baca file sample_tsv.tsv dan set lah index_col sesuai instruksi\n",
        "df = pd.read_csv(\"https://storage.googleapis.com/dqlab-dataset/sample_tsv.tsv\", sep=\"\\t\", index_col=[\"order_date\",\"order_id\"])\n",
        "# Cetak data frame untuk 8 data teratas\n",
        "print(\"Dataframe:\\n\", df.head(8))"
      ],
      "metadata": {
        "id": "YpCTgD1_GSls",
        "colab": {
          "base_uri": "https://localhost:8080/"
        },
        "outputId": "5e31e89c-f8e2-428d-faf0-52e3c8c1de5a"
      },
      "execution_count": 18,
      "outputs": [
        {
          "output_type": "stream",
          "name": "stdout",
          "text": [
            "Dataframe:\n",
            "                      customer_id             city     province product_id  \\\n",
            "order_date order_id                                                         \n",
            "2019-01-01 1612339         18055  Jakarta Selatan  DKI Jakarta      P0648   \n",
            "           1612339         18055  Jakarta Selatan  DKI Jakarta      P3826   \n",
            "           1612339         18055  Jakarta Selatan  DKI Jakarta      P1508   \n",
            "           1612339         18055  Jakarta Selatan  DKI Jakarta      P0520   \n",
            "           1612339         18055  Jakarta Selatan  DKI Jakarta      P1513   \n",
            "           1612339         18055  Jakarta Selatan  DKI Jakarta      P3911   \n",
            "           1612339         18055  Jakarta Selatan  DKI Jakarta      P1780   \n",
            "           1612339         18055  Jakarta Selatan  DKI Jakarta      P3132   \n",
            "\n",
            "                       brand  quantity  item_price  \n",
            "order_date order_id                                 \n",
            "2019-01-01 1612339   BRAND_C         4     1934000  \n",
            "           1612339   BRAND_V         8      604000  \n",
            "           1612339   BRAND_G        12      747000  \n",
            "           1612339   BRAND_B        12      450000  \n",
            "           1612339   BRAND_G         3     1500000  \n",
            "           1612339   BRAND_V         3     2095000  \n",
            "           1612339   BRAND_H         3     2095000  \n",
            "           1612339   BRAND_S         3     1745000  \n"
          ]
        }
      ]
    },
    {
      "cell_type": "markdown",
      "source": [
        "### **Slicing - Part 1**\n",
        "\n",
        "Seperti artinya slicing adalah cara untuk melakukan filter ke dataframe/series berdasarkan kriteria tertentu dari nilai kolomnya ataupun kriteria index-nya.\n",
        "\n",
        "Terdapat 2 cara paling terkenal untuk slicing dataframe, yaitu dengan menggunakan method .loc dan .iloc pada variabel bertipe pandas Dataframe/Series. Method .iloc ditujukan untuk proses slicing berdasarkan index berupa nilai integer tertentu. Akan tetapi akan lebih sering menggunakan dengan menthod .loc karena lebih fleksibel."
      ],
      "metadata": {
        "id": "bOyjyL_ZGZP5"
      }
    },
    {
      "cell_type": "code",
      "source": [
        "# Baca file sample_csv.csv\n",
        "df = pd.read_csv(\"https://storage.googleapis.com/dqlab-dataset/sample_csv.csv\")\n",
        "# Slice langsung berdasarkan kolom\n",
        "df_slice = df.loc[(df[\"customer_id\"] == 18055) &\n",
        "\t\t          (df[\"product_id\"].isin([\"P0029\",\"P0040\",\"P0041\",\"P0116\",\"P0117\"]))\n",
        "\t\t\t\t ]\n",
        "print(\"Slice langsung berdasarkan kolom:\\n\", df_slice)"
      ],
      "metadata": {
        "id": "dacbMXDMGlMU",
        "colab": {
          "base_uri": "https://localhost:8080/"
        },
        "outputId": "780a2463-a901-4051-dfb7-1d61a3bb72b1"
      },
      "execution_count": 19,
      "outputs": [
        {
          "output_type": "stream",
          "name": "stdout",
          "text": [
            "Slice langsung berdasarkan kolom:\n",
            " Empty DataFrame\n",
            "Columns: [order_id, order_date, customer_id, city, province, product_id, brand, quantity, item_price]\n",
            "Index: []\n"
          ]
        }
      ]
    },
    {
      "cell_type": "markdown",
      "source": [
        "### **Slicing - Part 2**\n",
        "\n",
        "Menerapkan slicing berdasarkan index. Tentu syaratnya adalah dataset sudah dilakukan indexing terlebih dahulu melalui penerapan method `.set_index`.\n",
        "\n",
        "Cara 1: Menggunakan method `.loc`\n",
        "\n",
        "Cara 2: Menggunakan `pd.IndexSlice` sebagai variabel untuk melakukan slicing index\n",
        "\n",
        "Intruksi:\n",
        "Baca kembali file \"sample_csv.csv\" dan set terlebih dahulu index-nya yaitu order_date, order_id, dan product_id. Kemudian slice/filter-lah dataset jika order_date adalah 2019-01-01, order_id adalah 1612339, dan product_id-nya yaitu P2154 dan P2159. Gunakanlah method .loc."
      ],
      "metadata": {
        "id": "mb-0FdwtGwTO"
      }
    },
    {
      "cell_type": "code",
      "source": [
        "# Baca file sample_csv.csv\n",
        "df = pd.read_csv(\"https://storage.googleapis.com/dqlab-dataset/sample_csv.csv\")\n",
        "# Set index dari df sesuai instruksi\n",
        "df = df.set_index([\"order_date\",\"order_id\",\"product_id\"])\n",
        "# Slice sesuai intruksi\n",
        "df_slice = df.loc[(\"2019-01-01\",1612339,[\"P2154\",\"P2159\"]),:]\n",
        "print(\"Slice df:\\n\", df_slice)"
      ],
      "metadata": {
        "id": "-Kq_0pd9GuuV",
        "colab": {
          "base_uri": "https://localhost:8080/"
        },
        "outputId": "25745c6e-1280-4cd9-b2b5-248d23106821"
      },
      "execution_count": 22,
      "outputs": [
        {
          "output_type": "stream",
          "name": "stdout",
          "text": [
            "Slice df:\n",
            "                                 customer_id             city     province  \\\n",
            "order_date order_id product_id                                              \n",
            "2019-01-01 1612339  P2154             18055  Jakarta Selatan  DKI Jakarta   \n",
            "                    P2159             18055  Jakarta Selatan  DKI Jakarta   \n",
            "\n",
            "                                  brand  quantity  item_price  \n",
            "order_date order_id product_id                                 \n",
            "2019-01-01 1612339  P2154       BRAND_M         4     1745000  \n",
            "                    P2159       BRAND_M        24      310000  \n"
          ]
        }
      ]
    },
    {
      "cell_type": "code",
      "source": [
        "# Contoh lain\n",
        "# Baca file sample_csv.csv\n",
        "df = pd.read_csv(\"https://storage.googleapis.com/dqlab-dataset/sample_csv.csv\")\n",
        "# Set index dari df\n",
        "df = df.set_index([\"order_date\",\"product_id\"])\n",
        "\n",
        "# Cara 1: Gunakan .loc\n",
        "df_slice1 = df.loc[(\"2019-01-01\",[\"P2154\",\"P2556\"]),:]\n",
        "print(\"Cara 1:\\n\", df_slice1)\n",
        "\n",
        "# Cara 2: Gunakan pd.IndexSlice dan terapkan .loc \n",
        "idx = pd.IndexSlice\n",
        "df_slice2 = df.sort_index().loc[idx[\"2019-01-01\", \"P2154\":\"P2556\"], :]\n",
        "print(\"Cara 2:\\n\", df_slice2)"
      ],
      "metadata": {
        "colab": {
          "base_uri": "https://localhost:8080/"
        },
        "id": "ilbaRwVwP5ya",
        "outputId": "5f4f5717-8acc-4482-fc1c-ccdc887432d3"
      },
      "execution_count": 23,
      "outputs": [
        {
          "output_type": "stream",
          "name": "stdout",
          "text": [
            "Cara 1:\n",
            "                        order_id  customer_id             city     province  \\\n",
            "order_date product_id                                                        \n",
            "2019-01-01 P2154        1612339        18055  Jakarta Selatan  DKI Jakarta   \n",
            "           P2556        1612339        18055  Jakarta Selatan  DKI Jakarta   \n",
            "\n",
            "                         brand  quantity  item_price  \n",
            "order_date product_id                                 \n",
            "2019-01-01 P2154       BRAND_M         4     1745000  \n",
            "           P2556       BRAND_P         6     1045000  \n",
            "Cara 2:\n",
            "                        order_id  customer_id             city     province  \\\n",
            "order_date product_id                                                        \n",
            "2019-01-01 P2154        1612339        18055  Jakarta Selatan  DKI Jakarta   \n",
            "           P2159        1612339        18055  Jakarta Selatan  DKI Jakarta   \n",
            "           P2325        1612372        17511        Tangerang       Banten   \n",
            "           P2494        1612372        17511        Tangerang       Banten   \n",
            "           P2556        1612339        18055  Jakarta Selatan  DKI Jakarta   \n",
            "\n",
            "                         brand  quantity  item_price  \n",
            "order_date product_id                                 \n",
            "2019-01-01 P2154       BRAND_M         4     1745000  \n",
            "           P2159       BRAND_M        24      310000  \n",
            "           P2325       BRAND_N        48      604000  \n",
            "           P2494       BRAND_P        40      904000  \n",
            "           P2556       BRAND_P         6     1045000  \n"
          ]
        }
      ]
    },
    {
      "cell_type": "markdown",
      "source": [
        "### **Transforming - Part 1**\n",
        "\n",
        "Transform adalah ketika mengubah dataset yang ada menjadi entitas baru, dapat dilakukan dengan:\n",
        "* konversi dari satu data type ke data type yang lain,\n",
        "* transpose dataframe,\n",
        "* atau yang lainnya.\n",
        "\n",
        "Hal yang biasa dilakukan pertama kali setelah data dibaca adalah mengecek tipe data di setiap kolomnya apakah sesuai dengan representasinya. Untuk itu dapat menggunakan atribut `.dtypes` pada dataframe.\n",
        "\n",
        "Untuk merubah kolom yang sebelumnya bertipe object menjadi kolom bertipe datetime, cara pertama yang dapat dilakukan adalah menggunakan:\n",
        "`pd.to_datetime(argumen)`\n",
        "dengan argumen adalah isi kolom dari dataframe yang akan dirubah tipe datanya, misal dalam format umum:\n",
        "`nama_dataframe[\"nama_kolom\"]`\n",
        "\n"
      ],
      "metadata": {
        "id": "V-0bneEEG4DW"
      }
    },
    {
      "cell_type": "code",
      "source": [
        "# Baca file sample_csv.csv\n",
        "df = pd.read_csv(\"https://storage.googleapis.com/dqlab-dataset/sample_csv.csv\")\n",
        "# Tampilkan tipe data\n",
        "print(\"Tipe data df:\\n\", df.dtypes)\n",
        "# Ubah tipe data kolom order_date menjadi datetime\n",
        "df[\"order_date\"] = pd.to_datetime(df[\"order_date\"])\n",
        "# Tampilkan tipe data df setelah transformasi\n",
        "print(\"\\nTipe data df setelah transformasi:\\n\", df.dtypes)"
      ],
      "metadata": {
        "id": "cIEpaWopG3RQ",
        "colab": {
          "base_uri": "https://localhost:8080/"
        },
        "outputId": "7c5e708d-33d6-4cb3-9d2d-d2368dc239dc"
      },
      "execution_count": 24,
      "outputs": [
        {
          "output_type": "stream",
          "name": "stdout",
          "text": [
            "Tipe data df:\n",
            " order_id        int64\n",
            "order_date     object\n",
            "customer_id     int64\n",
            "city           object\n",
            "province       object\n",
            "product_id     object\n",
            "brand          object\n",
            "quantity        int64\n",
            "item_price      int64\n",
            "dtype: object\n",
            "\n",
            "Tipe data df setelah transformasi:\n",
            " order_id                int64\n",
            "order_date     datetime64[ns]\n",
            "customer_id             int64\n",
            "city                   object\n",
            "province               object\n",
            "product_id             object\n",
            "brand                  object\n",
            "quantity                int64\n",
            "item_price              int64\n",
            "dtype: object\n"
          ]
        }
      ]
    },
    {
      "cell_type": "markdown",
      "source": [
        "### **Transforming - Part 2**\n",
        "\n",
        "Secara umum, untuk mengubah tipe data ke numerik dapat menggunakan pd.to_numeric(), yaitu:\n",
        "`pd.to_numeric(nama_dataframe[\"nama_kolom\"], downcast=\"tipe_data_baru\")`\n",
        "\n",
        "Sedangkan untuk menjadi suatu kolom yang dapat dinyatakan sebagai kategori dapat menggunakan method .astype() pada dataframe, yaitu:\n",
        "`nama_dataframe[\"nama_kolom\"].astype(\"category\")`\n"
      ],
      "metadata": {
        "id": "oNAQM1PyHEku"
      }
    },
    {
      "cell_type": "code",
      "source": [
        "# Baca file sample_csv.csv\n",
        "df = pd.read_csv(\"https://storage.googleapis.com/dqlab-dataset/sample_csv.csv\")\n",
        "# Tampilkan tipe data\n",
        "print(\"Tipe data df:\\n\", df.dtypes)\n",
        "# Ubah tipe data kolom quantity menjadi tipe data numerik float\n",
        "df[\"quantity\"] = pd.to_numeric(df[\"quantity\"], downcast=\"float\")\n",
        "# Ubah tipe data kolom city menjadi tipe data category\n",
        "df[\"city\"] = df[\"city\"].astype(\"category\")\n",
        "# Tampilkan tipe data df setelah transformasi\n",
        "print(\"\\nTipe data df setelah transformasi:\\n\", df.dtypes)"
      ],
      "metadata": {
        "id": "HjggF17JHHAS",
        "colab": {
          "base_uri": "https://localhost:8080/"
        },
        "outputId": "18416dc2-4946-447a-9516-52cd768df05b"
      },
      "execution_count": 25,
      "outputs": [
        {
          "output_type": "stream",
          "name": "stdout",
          "text": [
            "Tipe data df:\n",
            " order_id        int64\n",
            "order_date     object\n",
            "customer_id     int64\n",
            "city           object\n",
            "province       object\n",
            "product_id     object\n",
            "brand          object\n",
            "quantity        int64\n",
            "item_price      int64\n",
            "dtype: object\n",
            "\n",
            "Tipe data df setelah transformasi:\n",
            " order_id          int64\n",
            "order_date       object\n",
            "customer_id       int64\n",
            "city           category\n",
            "province         object\n",
            "product_id       object\n",
            "brand            object\n",
            "quantity        float32\n",
            "item_price        int64\n",
            "dtype: object\n"
          ]
        }
      ]
    },
    {
      "cell_type": "markdown",
      "source": [
        "### **Transforming - Part 3**\n",
        "\n",
        "Method `.apply()` digunakan untuk menerapkan suatu fungsi python (yang dibuat dengan def atau anonymous dengan lambda) pada dataframe/series atau hanya kolom tertentu dari dataframe.\n",
        "\n",
        "Method `.map()` hanya dapat diterapkan pada series atau dataframe yang diakses satu kolom saja. Method ini digunakan untuk mensubtitusikan suatu nilai ke dalam tiap baris datanya."
      ],
      "metadata": {
        "id": "xRRuxXFqHMdV"
      }
    },
    {
      "cell_type": "code",
      "source": [
        "# Baca file sample_csv.csv\n",
        "df = pd.read_csv(\"https://storage.googleapis.com/dqlab-dataset/sample_csv.csv\")\n",
        "# Cetak 5 baris teratas kolom brand\n",
        "print(\"Kolom brand awal:\\n\", df[\"brand\"].head())\n",
        "# Gunakan method apply untuk merubah isi kolom menjadi lower case\n",
        "df[\"brand\"] = df[\"brand\"].apply(lambda x: x.lower())\n",
        "# Cetak 5 baris teratas kolom brand\n",
        "print(\"Kolom brand setelah apply:\\n\", df[\"brand\"].head())\n",
        "# Gunakan method map untuk mengambil kode brand yaitu karakter terakhirnya\n",
        "df[\"brand\"] = df[\"brand\"].map(lambda x: x[-1])\n",
        "# Cetak 5 baris teratas kolom brand\n",
        "print(\"Kolom brand setelah map:\\n\", df[\"brand\"].head())"
      ],
      "metadata": {
        "id": "vLDhtOzoHT2n",
        "colab": {
          "base_uri": "https://localhost:8080/"
        },
        "outputId": "0a59b5ec-93a0-49dd-ccac-afad845c433c"
      },
      "execution_count": 26,
      "outputs": [
        {
          "output_type": "stream",
          "name": "stdout",
          "text": [
            "Kolom brand awal:\n",
            " 0    BRAND_C\n",
            "1    BRAND_V\n",
            "2    BRAND_G\n",
            "3    BRAND_B\n",
            "4    BRAND_G\n",
            "Name: brand, dtype: object\n",
            "Kolom brand setelah apply:\n",
            " 0    brand_c\n",
            "1    brand_v\n",
            "2    brand_g\n",
            "3    brand_b\n",
            "4    brand_g\n",
            "Name: brand, dtype: object\n",
            "Kolom brand setelah map:\n",
            " 0    c\n",
            "1    v\n",
            "2    g\n",
            "3    b\n",
            "4    g\n",
            "Name: brand, dtype: object\n"
          ]
        }
      ]
    },
    {
      "cell_type": "markdown",
      "source": [
        "### **Transforming - Part 4**\n",
        "\n",
        "Penggunaaan method `.applymap` pada dataframe."
      ],
      "metadata": {
        "id": "Upqxl2djHciM"
      }
    },
    {
      "cell_type": "code",
      "source": [
        "# number generator, set angka seed menjadi suatu angka, bisa semua angka, supaya hasil random nya selalu sama ketika kita run\n",
        "np.random.seed(1234)\n",
        "# create dataframe 3 baris dan 4 kolom dengan angka random\n",
        "df_tr = pd.DataFrame(np.random.rand(3,4))\n",
        "# Cetak dataframe\n",
        "print(\"Dataframe:\\n\", df_tr)\n",
        "# Cara 1 dengan tanpa define function awalnya, langsung pake fungsi anonymous lambda x\n",
        "df_tr1 = df_tr.applymap(lambda x: x**2 + 3*x +2) \n",
        "print(\"\\nDataframe - cara 1:\\n\", df_tr1)\n",
        "# Cara 2 dengan define function \n",
        "def qudratic_fun(x):\n",
        "\treturn x**2 + 3*x + 2\n",
        "df_tr2 = df_tr.applymap(qudratic_fun)\n",
        "print(\"\\nDataframe - cara 2:\\n\", df_tr2)"
      ],
      "metadata": {
        "id": "g69WTQdNHfOt",
        "colab": {
          "base_uri": "https://localhost:8080/"
        },
        "outputId": "d77195cc-25a6-4519-becf-2e4133a26512"
      },
      "execution_count": 27,
      "outputs": [
        {
          "output_type": "stream",
          "name": "stdout",
          "text": [
            "Dataframe:\n",
            "           0         1         2         3\n",
            "0  0.191519  0.622109  0.437728  0.785359\n",
            "1  0.779976  0.272593  0.276464  0.801872\n",
            "2  0.958139  0.875933  0.357817  0.500995\n",
            "\n",
            "Dataframe - cara 1:\n",
            "           0         1         2         3\n",
            "0  2.611238  4.253346  3.504789  4.972864\n",
            "1  4.948290  2.892085  2.905825  5.048616\n",
            "2  5.792449  5.395056  3.201485  3.753981\n",
            "\n",
            "Dataframe - cara 2:\n",
            "           0         1         2         3\n",
            "0  2.611238  4.253346  3.504789  4.972864\n",
            "1  4.948290  2.892085  2.905825  5.048616\n",
            "2  5.792449  5.395056  3.201485  3.753981\n"
          ]
        }
      ]
    },
    {
      "cell_type": "markdown",
      "source": [
        "## **Handling Missing Values**\n",
        "\n"
      ],
      "metadata": {
        "id": "TcyvTWztQz77"
      }
    },
    {
      "cell_type": "markdown",
      "source": [
        "### **Inspeksi Missing Value**\n",
        "\n",
        "Value yang hilang/tidak lengkap dari dataframe akan membuat analisis atau model prediksi yang dibuat menjadi tidak akurat dan mengakibatkan keputusan salah yang diambil. \n",
        "\n",
        "Di pandas data yang hilang umumnya direpresentasikan dengan NaN.\n",
        "\n",
        "Pertama harus tahu kolom mana yang terdapat data hilang dan berapa banyak untuk ditelaah. Dengan cara sbb:\n",
        "\n",
        "Cara 1: Menerapkan method `.info()` pada dataframe.\n",
        "\n",
        "Cara 2: Mengetahui berapa banyak nilai yang hilang dari tiap kolom di dataset tersebut dengan menerapkan chaining method pada dataframe yaitu `.isna().sum()`. Method .isna() digunakan untuk mengecek berapa data yang bernilai NaN dan .sum() menjumlahkannya secara default untuk masing-masing kolom dataframe.\n",
        "\n"
      ],
      "metadata": {
        "id": "DiTsqLTuHlGH"
      }
    },
    {
      "cell_type": "code",
      "source": [
        "import pandas as pd\n",
        "# Baca file \"public data covid19 jhu csse eu.csv\"\n",
        "df = pd.read_csv(\"https://dqlab-dataset.s3-ap-southeast-1.amazonaws.com/CHAPTER+4+-+missing+value+-+public+data+covid19+.csv\")\n",
        "# Cetak info dari df\n",
        "print(df.info())\n",
        "# Cetak jumlah missing value di setiap kolom\n",
        "mv = df.isna().sum()\n",
        "print(\"\\nJumlah missing value per kolom:\\n\", mv)"
      ],
      "metadata": {
        "id": "JlPyY83AUGPP",
        "colab": {
          "base_uri": "https://localhost:8080/"
        },
        "outputId": "940cdfe0-8d5a-428f-dc1f-a35ef3ec18ac"
      },
      "execution_count": 30,
      "outputs": [
        {
          "output_type": "stream",
          "name": "stdout",
          "text": [
            "<class 'pandas.core.frame.DataFrame'>\n",
            "RangeIndex: 1000 entries, 0 to 999\n",
            "Data columns (total 13 columns):\n",
            " #   Column          Non-Null Count  Dtype  \n",
            "---  ------          --------------  -----  \n",
            " 0   province_state  960 non-null    object \n",
            " 1   country_region  1000 non-null   object \n",
            " 2   date            1000 non-null   object \n",
            " 3   latitude        874 non-null    float64\n",
            " 4   longitude       874 non-null    float64\n",
            " 5   location_geom   874 non-null    object \n",
            " 6   confirmed       1000 non-null   int64  \n",
            " 7   deaths          999 non-null    float64\n",
            " 8   recovered       999 non-null    float64\n",
            " 9   active          949 non-null    float64\n",
            " 10  fips            949 non-null    float64\n",
            " 11  admin2          842 non-null    object \n",
            " 12  combined_key    0 non-null      float64\n",
            "dtypes: float64(7), int64(1), object(5)\n",
            "memory usage: 101.7+ KB\n",
            "None\n",
            "\n",
            "Jumlah missing value per kolom:\n",
            " province_state      40\n",
            "country_region       0\n",
            "date                 0\n",
            "latitude           126\n",
            "longitude          126\n",
            "location_geom      126\n",
            "confirmed            0\n",
            "deaths               1\n",
            "recovered            1\n",
            "active              51\n",
            "fips                51\n",
            "admin2             158\n",
            "combined_key      1000\n",
            "dtype: int64\n"
          ]
        }
      ]
    },
    {
      "cell_type": "markdown",
      "source": [
        "### **Treatment untuk Missing Value**\n",
        "\n",
        "Terdapat beberapa cara untuk mengatasi missing value, antara lain:\n",
        "1. dibiarkan saja,\n",
        "2. hapus value itu, atau\n",
        "3. isi value tersebut dengan value yang lain (biasanya interpolasi, mean, median, etc)\n",
        "\n",
        "Untuk memahami mana kolom yang akan di treatment dengan tiga perlakuan di atas lihat nature dari data terlebih dahulu."
      ],
      "metadata": {
        "id": "MvxrPVz-UP23"
      }
    },
    {
      "cell_type": "markdown",
      "source": [
        "> **Treatment Pertama**\n",
        "\n",
        "Membiarkan saja kolom memiliki nilai missing value yaitu pada kolom confirmed, death, dan recovered.\n",
        "\n",
        "> **Treatment Kedua**\n",
        "\n",
        "Menghapus kolom dapat digunakan jika seluruh kolom dari dataset yang dipunyai semua barisnya adalah missing value dengan, `nama_dataframe.dropna(axis=1, how=\"all\")`\n",
        "\n",
        "Keyword axis digunakan untuk menentukan arah dataframe yang akan dibuang, angka 1 untuk menyatakan kolom (column-based) atau dapat ditulis dalam string \"column\". Jika digunakan angka 0 berarti itu dalam searah index (row-based) atau dapat ditulis dalam string \"index\".\n",
        "\n",
        "Keyword how digunakan untuk bagaimana cara membuangnya. Opsi yang dapat diterimanya (dalam string) adalah:\n",
        "*   \"all\" artinya jika seluruh data di satu/beberapa kolom atau di satu/beberapa baris adalah missing value.\n",
        "*   \"any\" artinya jika memiliki 1 saja data yang hilang maka buanglah baris/kolom tersebut."
      ],
      "metadata": {
        "id": "0ZjI3X_hjoMZ"
      }
    },
    {
      "cell_type": "code",
      "source": [
        "# Cetak ukuran awal dataframe\n",
        "print(\"Ukuran awal df: %d baris, %d kolom.\" % df.shape)\n",
        "# Drop kolom yang seluruhnya missing value dan cetak ukurannya\n",
        "df = df.dropna(axis=1, how=\"all\")\n",
        "print(\"Ukuran df setelah buang kolom dengan seluruh data missing: %d baris, %d kolom.\" % df.shape)\n",
        "# Drop baris jika ada satu saja data yang missing dan cetak ukurannya\n",
        "df = df.dropna(axis=0, how=\"any\")\n",
        "print(\"Ukuran df setelah dibuang baris yang memiliki sekurangnya 1 missing value: %d baris, %d kolom.\" % df.shape)"
      ],
      "metadata": {
        "id": "_igbFo-qCqT_",
        "colab": {
          "base_uri": "https://localhost:8080/"
        },
        "outputId": "fe02df4a-e46b-48fd-9b77-f8ba7cfa1696"
      },
      "execution_count": 31,
      "outputs": [
        {
          "output_type": "stream",
          "name": "stdout",
          "text": [
            "Ukuran awal df: 1000 baris, 13 kolom.\n",
            "Ukuran df setelah buang kolom dengan seluruh data missing: 1000 baris, 12 kolom.\n",
            "Ukuran df setelah dibuang baris yang memiliki sekurangnya 1 missing value: 746 baris, 12 kolom.\n"
          ]
        }
      ]
    },
    {
      "cell_type": "markdown",
      "source": [
        "> **Treatment Ketiga**\n",
        "\n",
        "Mengisi missing value dengan nilai lain menggunakan method `.fillna()` pada kolom dataframe yang dimaksud, dapat berupa:\n",
        "\n",
        "*   text tertentu\n",
        "*   nilai statistik seperti mean atau median\n",
        "*   interpolasi data   "
      ],
      "metadata": {
        "id": "Brun-RpxUsL5"
      }
    },
    {
      "cell_type": "code",
      "source": [
        "# Baca file \"public data covid19 jhu csse eu.csv\"\n",
        "df = pd.read_csv(\"https://dqlab-dataset.s3-ap-southeast-1.amazonaws.com/CHAPTER+4+-+missing+value+-+public+data+covid19+.csv\")\n",
        "# [1] Menggunakan text tertentu pada missing value di kolom province_state\n",
        "# Cetak unique value pada kolom province_state\n",
        "print(\"Unique value awal:\\n\", df[\"province_state\"].unique())\n",
        "# Ganti missing value dengan string \"unknown_province_state\"\n",
        "df[\"province_state\"] = df[\"province_state\"].fillna(\"unknown_province_state\")\n",
        "# Cetak kembali unique value pada kolom province_state\n",
        "print(\"Unique value setelah fillna:\\n\", df[\"province_state\"].unique())"
      ],
      "metadata": {
        "id": "52RwfNljHxMb",
        "colab": {
          "base_uri": "https://localhost:8080/"
        },
        "outputId": "e3d79578-4bc0-4ff1-efa2-2df24feb844b"
      },
      "execution_count": 33,
      "outputs": [
        {
          "output_type": "stream",
          "name": "stdout",
          "text": [
            "Unique value awal:\n",
            " [nan 'US' 'Guam' 'Iowa']\n",
            "Unique value setelah fillna:\n",
            " ['unknown_province_state' 'US' 'Guam' 'Iowa']\n"
          ]
        }
      ]
    },
    {
      "cell_type": "code",
      "source": [
        "# [2] Menggunakan nilai statistik pada missing value kolom active\n",
        "print(\"Min = %f, max = %f.\" % (df[\"active\"].min(), df[\"active\"].max()))\n",
        "# Cetak nilai mean dan median awal \n",
        "print(\"Awal: mean = %f, median = %f.\" % (df[\"active\"].mean(), df[\"active\"].median()))\n",
        "# Isi missing value kolom active dengan median\n",
        "df_median = df[\"active\"].fillna(df[\"active\"].median())\n",
        "# Cetak nilai mean dan median awal setelah diisi dengan median\n",
        "print(\"Fillna median: mean = %f, median = %f.\" % (df_median.mean(), df_median.median()))\n",
        "# Isi missing value kolom active dengan mean\n",
        "df_mean = df[\"active\"].fillna(df[\"active\"].mean())\n",
        "# Cetak nilai mean dan median awal setelah diisi dengan mean\n",
        "print(\"Fillna mean: mean = %f, median = %f.\" % (df_mean.mean(), df_mean.median()))"
      ],
      "metadata": {
        "id": "mUEtWdNvKDug",
        "colab": {
          "base_uri": "https://localhost:8080/"
        },
        "outputId": "f4c1c244-4c58-438a-fd6a-a91b31145373"
      },
      "execution_count": 34,
      "outputs": [
        {
          "output_type": "stream",
          "name": "stdout",
          "text": [
            "Min = -6.000000, max = 2243.000000.\n",
            "Awal: mean = 192.571128, median = 41.000000.\n",
            "Fillna median: mean = 184.841000, median = 41.000000.\n",
            "Fillna mean: mean = 192.571128, median = 49.000000.\n"
          ]
        }
      ]
    },
    {
      "cell_type": "markdown",
      "source": [
        "Ketika akan mengisi missing value kolom dengan nilai statistik perhatikan **outliers**. Jika ada outliers dari data maka menggunakan median lebih safe.\n",
        "Data kolom active memiliki distribusi yang skewness, karena nilai mean dan median yang cukup jauh serta range data yang cukup lebar."
      ],
      "metadata": {
        "id": "KvHhdenVJDHh"
      }
    },
    {
      "cell_type": "code",
      "source": [
        "# [3] Menggunakan interpolasi pada data time series\n",
        "import numpy as np\n",
        "import pandas as pd\n",
        "# Data\n",
        "ts = pd.Series({\n",
        "   \"2020-01-01\":9,\n",
        "   \"2020-01-02\":np.nan,\n",
        "   \"2020-01-05\":np.nan,\n",
        "   \"2020-01-07\":24,\n",
        "   \"2020-01-10\":np.nan,\n",
        "   \"2020-01-12\":np.nan,\n",
        "   \"2020-01-15\":33,\n",
        "   \"2020-01-17\":np.nan,\n",
        "   \"2020-01-16\":40,\n",
        "   \"2020-01-20\":45,\n",
        "   \"2020-01-22\":52,\n",
        "   \"2020-01-25\":75,\n",
        "   \"2020-01-28\":np.nan,\n",
        "   \"2020-01-30\":np.nan\n",
        "})\n",
        "# Isi missing value menggunakan interpolasi linier\n",
        "ts = ts.interpolate()\n",
        "# Cetak time series setelah interpolasi linier\n",
        "print(\"Setelah diisi missing valuenya:\\n\", ts)"
      ],
      "metadata": {
        "id": "Sz5vui5QKyID",
        "colab": {
          "base_uri": "https://localhost:8080/"
        },
        "outputId": "4a3c1b8c-609d-43ff-d3f2-e00b464b86c9"
      },
      "execution_count": 35,
      "outputs": [
        {
          "output_type": "stream",
          "name": "stdout",
          "text": [
            "Setelah diisi missing valuenya:\n",
            " 2020-01-01     9.0\n",
            "2020-01-02    14.0\n",
            "2020-01-05    19.0\n",
            "2020-01-07    24.0\n",
            "2020-01-10    27.0\n",
            "2020-01-12    30.0\n",
            "2020-01-15    33.0\n",
            "2020-01-17    36.5\n",
            "2020-01-16    40.0\n",
            "2020-01-20    45.0\n",
            "2020-01-22    52.0\n",
            "2020-01-25    75.0\n",
            "2020-01-28    75.0\n",
            "2020-01-30    75.0\n",
            "dtype: float64\n"
          ]
        }
      ]
    },
    {
      "cell_type": "markdown",
      "source": [
        "## **Mini Project**\n",
        "Diberikan dataset 'retail_raw_test.csv'\n",
        "1. Baca dataset\n",
        "2. Tipe data diubah menjadi tipe yang seharusnya\n",
        "- customer_id dari string ke int64,\n",
        "- quantity dari string ke int64,\n",
        "- item_price dari string ke int64\n",
        "3. Transform product_value supaya bentuknya seragam dengan format PXXXX, assign ke kolom baru \"product_id\", dan drop kolom \"product_value\", jika terdapat NaN gantilah dengan \"unknown\"\n",
        "4. Transform order_date menjadi value dengan format YYYY-mm-dd\n",
        "5. Cek data hilang dari tiap kolom dan kemudian isi missing value\n",
        "- di brand dengan \"no_brand\", dan \n",
        "- cek dulu bagaimana missing value di city dan province dengan \"unknown\"\n",
        "6. Create column city/province dari gabungan city & province\n",
        "7. Membuat index berdasarkan city/province, order_date, customer_id, order_id, product_id (cek index)\n",
        "8. Membuat kolom \"total_price\" sebagai hasil perkalian quantity dengan item_price\n",
        "9. Slice data hanya untuk Jan 2019"
      ],
      "metadata": {
        "id": "0zciz1YJLJY3"
      }
    },
    {
      "cell_type": "code",
      "source": [
        "import pandas as pd\n",
        "\n",
        "# 1. Baca dataset\n",
        "print(\"[1] BACA DATASET\")\n",
        "df = pd.read_csv(\"https://storage.googleapis.com/dqlab-dataset/retail_raw_test.csv\", low_memory=False)\n",
        "print(\"    Dataset:\\n\", df.head())\n",
        "print(\"    Info:\\n\", df.info())\n",
        "\n",
        "# 2. Ubah tipe data\n",
        "print(\"\\n[2] UBAH TIPE DATA\")\n",
        "df[\"customer_id\"] = df[\"customer_id\"].apply(lambda x: x.split(\"'\")[1]).astype(\"int64\")\n",
        "df[\"quantity\"] = df[\"quantity\"].apply(lambda x: x.split(\"'\")[1]).astype(\"int64\")\n",
        "df[\"item_price\"] = df[\"item_price\"].apply(lambda x: x.split(\"'\")[1]).astype(\"int64\")\n",
        "print(\"    Tipe data:\\n\", df.dtypes)\n",
        "\n",
        "# 3. Transform \"product_value\" supaya bentuknya seragam dengan format \"PXXXX\", assign ke kolom baru \"product_id\", \n",
        "#    dan drop kolom \"product_value\", jika terdapat nan gantilah dengan \"unknown\"\n",
        "print(\"\\n[3] TRANSFORM product_value MENJADI product_id\")\n",
        "# Buat fungsi\n",
        "import math\n",
        "def impute_product_value(val):\n",
        "    if math.isnan(val):\n",
        "        return \"unknown\"\n",
        "    else:\n",
        "        return 'P' + '{:0>4}'.format(str(val).split('.')[0])\n",
        "# Buat kolom \"product_id\"\n",
        "df[\"product_id\"] = df[\"product_value\"].apply(lambda x: impute_product_value(x))\n",
        "# Hapus kolom \"product_value\"\n",
        "df.drop([\"product_value\"], axis=1, inplace=True)\n",
        "# Cetak 5 data teratas\n",
        "print(df.head())\n",
        "\n",
        "# 4. Tranform order_date menjadi value dengan format \"YYYY-mm-dd\"\n",
        "print(\"\\n[4] TRANSFORM order_date MENJADI FORMAT YYYY-mm-dd\")\n",
        "months_dict = {\n",
        "   \"Jan\":\"01\",\n",
        "   \"Feb\":\"02\",\n",
        "   \"Mar\":\"03\",\n",
        "   \"Apr\":\"04\",\n",
        "   \"May\":\"05\",\n",
        "   \"Jun\":\"06\",\n",
        "   \"Jul\":\"07\",\n",
        "   \"Aug\":\"08\",\n",
        "   \"Sep\":\"09\",\n",
        "   \"Oct\":\"10\",\n",
        "   \"Nov\":\"11\",\n",
        "   \"Dec\":\"12\"\n",
        "}\n",
        "df[\"order_date\"] = pd.to_datetime(df[\"order_date\"].apply(lambda x: str(x)[-4:] + \"-\" + months_dict[str(x)[:3]] + \"-\" + str(x)[4:7]))\n",
        "print(\"    Tipe data:\\n\", df.dtypes)\n",
        "\n",
        "# 5. Mengatasi data yang hilang di beberapa kolom\n",
        "print(\"\\n[5] HANDLING MISSING VALUE\")\n",
        "# Kolom \"city\" dan \"province\" masih memiliki missing value, nilai yang hilang di kedua kolom ini diisi saja dengan \"unknown\"\n",
        "df[[\"city\",\"province\"]] = df[[\"city\",\"province\"]].fillna(\"unknown\")\n",
        "# Kolom brand juga masih memiliki missing value, Ganti value NaN menjadi \"no_brand\"\n",
        "df[\"brand\"] = df[\"brand\"].fillna(\"no_brand\")\n",
        "# Cek apakah masih terdapat missing value di seluruh kolom \n",
        "print(\"    Info:\\n\", df.info())\n",
        "\n",
        "# 6. Membuat kolom baru \"city/province\" dengan menggabungkan kolom \"city\" dan kolom \"province\" dan delete kolom asalnya\n",
        "print(\"\\n[6] MEMBUAT KOLOM BARU city/province\")\n",
        "df[\"city/province\"] = df[\"city\"] + \"/\" + df[\"province\"]\n",
        "# drop kolom \"city\" dan \"province\" karena telah digabungkan\n",
        "df.drop([\"city\",\"province\"], axis=1, inplace=True)\n",
        "# Cetak 5 data teratas\n",
        "print(df.head())\n",
        "\n",
        "# 7. Membuat hierarchical index yang terdiri dari kolom \"city/province\", \"order_date\", \"customer_id\", \"order_id\", \"product_id\"\n",
        "print(\"\\n[7] MEMBUAT HIERACHICAL INDEX\")\n",
        "df = df.set_index([\"city/province\",\"order_date\",\"customer_id\",\"order_id\",\"product_id\"])\n",
        "# urutkanlah berdasarkan index yang baru\n",
        "df = df.sort_index()\n",
        "# Cetak 5 data teratas\n",
        "print(df.head())\n",
        "\n",
        "# 8. Membuat kolom \"total_price\" yang formula nya perkalian antara kolom \"quantity\" dan kolom \"item_price\"\n",
        "print(\"\\n[8] MEMBUAT KOLOM total_price\")\n",
        "df[\"total_price\"] = df[\"quantity\"] * df[\"item_price\"]\n",
        "# Cetak 5 data teratas\n",
        "print(df.head())\n",
        "\n",
        "# 9. Slice dataset agar hanya terdapat data bulan Januari 2019\n",
        "print(\"\\n[9] SLICE DATASET UNTUK BULAN JANUARI 2019 SAJA\")\n",
        "idx = pd.IndexSlice\n",
        "df_jan2019 = df.loc[idx[:, \"2019-01-01\":\"2019-01-31\"], :]\n",
        "print(\"Dataset akhir:\\n\", df_jan2019)\n",
        "\n",
        "# END OF PROJECT"
      ],
      "metadata": {
        "id": "xOUbp3_DR7lt",
        "colab": {
          "base_uri": "https://localhost:8080/"
        },
        "outputId": "cff8d8c0-be53-465d-994c-dcd219d2e44e"
      },
      "execution_count": 36,
      "outputs": [
        {
          "output_type": "stream",
          "name": "stdout",
          "text": [
            "[1] BACA DATASET\n",
            "    Dataset:\n",
            "    order_id    order_date customer_id           city     province    brand  \\\n",
            "0   1730350  Dec 11, 2019      '13447      Surakarta  Jawa Tengah  BRAND_F   \n",
            "1   1677490  Jul 31, 2019          '0            NaN          NaN  BRAND_F   \n",
            "2   1704211  Oct 18, 2019      '16128  Jakarta Pusat  DKI Jakarta  BRAND_H   \n",
            "3   1679695  Aug 07, 2019      '16225     Yogyakarta   Yogyakarta  BRAND_H   \n",
            "4   1679080  Aug 05, 2019          '0            NaN          NaN  BRAND_E   \n",
            "\n",
            "  quantity item_price  product_value  \n",
            "0      '24    '113000         1374.0  \n",
            "1       '1   '1164000         1370.0  \n",
            "2      '12    '747000         1679.0  \n",
            "3       '6    '590000         1708.0  \n",
            "4       '2    '740000         1201.0  \n",
            "<class 'pandas.core.frame.DataFrame'>\n",
            "RangeIndex: 5000 entries, 0 to 4999\n",
            "Data columns (total 9 columns):\n",
            " #   Column         Non-Null Count  Dtype  \n",
            "---  ------         --------------  -----  \n",
            " 0   order_id       5000 non-null   int64  \n",
            " 1   order_date     5000 non-null   object \n",
            " 2   customer_id    5000 non-null   object \n",
            " 3   city           3802 non-null   object \n",
            " 4   province       3802 non-null   object \n",
            " 5   brand          4995 non-null   object \n",
            " 6   quantity       5000 non-null   object \n",
            " 7   item_price     5000 non-null   object \n",
            " 8   product_value  4995 non-null   float64\n",
            "dtypes: float64(1), int64(1), object(7)\n",
            "memory usage: 351.7+ KB\n",
            "    Info:\n",
            " None\n",
            "\n",
            "[2] UBAH TIPE DATA\n",
            "    Tipe data:\n",
            " order_id           int64\n",
            "order_date        object\n",
            "customer_id        int64\n",
            "city              object\n",
            "province          object\n",
            "brand             object\n",
            "quantity           int64\n",
            "item_price         int64\n",
            "product_value    float64\n",
            "dtype: object\n",
            "\n",
            "[3] TRANSFORM product_value MENJADI product_id\n",
            "   order_id    order_date  customer_id           city     province    brand  \\\n",
            "0   1730350  Dec 11, 2019        13447      Surakarta  Jawa Tengah  BRAND_F   \n",
            "1   1677490  Jul 31, 2019            0            NaN          NaN  BRAND_F   \n",
            "2   1704211  Oct 18, 2019        16128  Jakarta Pusat  DKI Jakarta  BRAND_H   \n",
            "3   1679695  Aug 07, 2019        16225     Yogyakarta   Yogyakarta  BRAND_H   \n",
            "4   1679080  Aug 05, 2019            0            NaN          NaN  BRAND_E   \n",
            "\n",
            "   quantity  item_price product_id  \n",
            "0        24      113000      P1374  \n",
            "1         1     1164000      P1370  \n",
            "2        12      747000      P1679  \n",
            "3         6      590000      P1708  \n",
            "4         2      740000      P1201  \n",
            "\n",
            "[4] TRANSFORM order_date MENJADI FORMAT YYYY-mm-dd\n",
            "    Tipe data:\n",
            " order_id                int64\n",
            "order_date     datetime64[ns]\n",
            "customer_id             int64\n",
            "city                   object\n",
            "province               object\n",
            "brand                  object\n",
            "quantity                int64\n",
            "item_price              int64\n",
            "product_id             object\n",
            "dtype: object\n",
            "\n",
            "[5] HANDLING MISSING VALUE\n",
            "<class 'pandas.core.frame.DataFrame'>\n",
            "RangeIndex: 5000 entries, 0 to 4999\n",
            "Data columns (total 9 columns):\n",
            " #   Column       Non-Null Count  Dtype         \n",
            "---  ------       --------------  -----         \n",
            " 0   order_id     5000 non-null   int64         \n",
            " 1   order_date   5000 non-null   datetime64[ns]\n",
            " 2   customer_id  5000 non-null   int64         \n",
            " 3   city         5000 non-null   object        \n",
            " 4   province     5000 non-null   object        \n",
            " 5   brand        5000 non-null   object        \n",
            " 6   quantity     5000 non-null   int64         \n",
            " 7   item_price   5000 non-null   int64         \n",
            " 8   product_id   5000 non-null   object        \n",
            "dtypes: datetime64[ns](1), int64(4), object(4)\n",
            "memory usage: 351.7+ KB\n",
            "    Info:\n",
            " None\n",
            "\n",
            "[6] MEMBUAT KOLOM BARU city/province\n",
            "   order_id order_date  customer_id    brand  quantity  item_price product_id  \\\n",
            "0   1730350 2019-12-11        13447  BRAND_F        24      113000      P1374   \n",
            "1   1677490 2019-07-31            0  BRAND_F         1     1164000      P1370   \n",
            "2   1704211 2019-10-18        16128  BRAND_H        12      747000      P1679   \n",
            "3   1679695 2019-08-07        16225  BRAND_H         6      590000      P1708   \n",
            "4   1679080 2019-08-05            0  BRAND_E         2      740000      P1201   \n",
            "\n",
            "               city/province  \n",
            "0      Surakarta/Jawa Tengah  \n",
            "1            unknown/unknown  \n",
            "2  Jakarta Pusat/DKI Jakarta  \n",
            "3      Yogyakarta/Yogyakarta  \n",
            "4            unknown/unknown  \n",
            "\n",
            "[7] MEMBUAT HIERACHICAL INDEX\n",
            "                                                                     brand  \\\n",
            "city/province          order_date customer_id order_id product_id            \n",
            "Banda Aceh/Aceh        2019-04-17 12818       1642480  P1936       BRAND_K   \n",
            "                       2019-11-12 12360       1715116  P0758       BRAND_C   \n",
            "                                                       P3042       BRAND_R   \n",
            "                       2019-12-09 12374       1729036  P1660       BRAND_G   \n",
            "Bandar Lampung/Lampung 2019-01-15 12515       1619257  P0628       BRAND_C   \n",
            "\n",
            "                                                                   quantity  \\\n",
            "city/province          order_date customer_id order_id product_id             \n",
            "Banda Aceh/Aceh        2019-04-17 12818       1642480  P1936             24   \n",
            "                       2019-11-12 12360       1715116  P0758              8   \n",
            "                                                       P3042             12   \n",
            "                       2019-12-09 12374       1729036  P1660              4   \n",
            "Bandar Lampung/Lampung 2019-01-15 12515       1619257  P0628             12   \n",
            "\n",
            "                                                                   item_price  \n",
            "city/province          order_date customer_id order_id product_id              \n",
            "Banda Aceh/Aceh        2019-04-17 12818       1642480  P1936           450000  \n",
            "                       2019-11-12 12360       1715116  P0758           695000  \n",
            "                                                       P3042           310000  \n",
            "                       2019-12-09 12374       1729036  P1660          2795000  \n",
            "Bandar Lampung/Lampung 2019-01-15 12515       1619257  P0628           695000  \n",
            "\n",
            "[8] MEMBUAT KOLOM total_price\n",
            "                                                                     brand  \\\n",
            "city/province          order_date customer_id order_id product_id            \n",
            "Banda Aceh/Aceh        2019-04-17 12818       1642480  P1936       BRAND_K   \n",
            "                       2019-11-12 12360       1715116  P0758       BRAND_C   \n",
            "                                                       P3042       BRAND_R   \n",
            "                       2019-12-09 12374       1729036  P1660       BRAND_G   \n",
            "Bandar Lampung/Lampung 2019-01-15 12515       1619257  P0628       BRAND_C   \n",
            "\n",
            "                                                                   quantity  \\\n",
            "city/province          order_date customer_id order_id product_id             \n",
            "Banda Aceh/Aceh        2019-04-17 12818       1642480  P1936             24   \n",
            "                       2019-11-12 12360       1715116  P0758              8   \n",
            "                                                       P3042             12   \n",
            "                       2019-12-09 12374       1729036  P1660              4   \n",
            "Bandar Lampung/Lampung 2019-01-15 12515       1619257  P0628             12   \n",
            "\n",
            "                                                                   item_price  \\\n",
            "city/province          order_date customer_id order_id product_id               \n",
            "Banda Aceh/Aceh        2019-04-17 12818       1642480  P1936           450000   \n",
            "                       2019-11-12 12360       1715116  P0758           695000   \n",
            "                                                       P3042           310000   \n",
            "                       2019-12-09 12374       1729036  P1660          2795000   \n",
            "Bandar Lampung/Lampung 2019-01-15 12515       1619257  P0628           695000   \n",
            "\n",
            "                                                                   total_price  \n",
            "city/province          order_date customer_id order_id product_id               \n",
            "Banda Aceh/Aceh        2019-04-17 12818       1642480  P1936          10800000  \n",
            "                       2019-11-12 12360       1715116  P0758           5560000  \n",
            "                                                       P3042           3720000  \n",
            "                       2019-12-09 12374       1729036  P1660          11180000  \n",
            "Bandar Lampung/Lampung 2019-01-15 12515       1619257  P0628           8340000  \n",
            "\n",
            "[9] SLICE DATASET UNTUK BULAN JANUARI 2019 SAJA\n",
            "Dataset akhir:\n",
            "                                                                      brand  \\\n",
            "city/province          order_date customer_id order_id product_id            \n",
            "Bandar Lampung/Lampung 2019-01-15 12515       1619257  P0628       BRAND_C   \n",
            "Bandung/Jawa Barat     2019-01-09 16134       1617055  P1597       BRAND_G   \n",
            "                       2019-01-10 17392       1617952  P2137       BRAND_M   \n",
            "                       2019-01-14 15527       1618828  P3115       BRAND_S   \n",
            "                       2019-01-29 13253       1620289  P0099       BRAND_A   \n",
            "...                                                                    ...   \n",
            "unknown/unknown        2019-01-30 0           1620766  P3070       BRAND_R   \n",
            "                                                       P3483       BRAND_S   \n",
            "                       2019-01-31 0           1621057  P1298       BRAND_F   \n",
            "                                                       P1773       BRAND_H   \n",
            "                                                       P2877       BRAND_R   \n",
            "\n",
            "                                                                   quantity  \\\n",
            "city/province          order_date customer_id order_id product_id             \n",
            "Bandar Lampung/Lampung 2019-01-15 12515       1619257  P0628             12   \n",
            "Bandung/Jawa Barat     2019-01-09 16134       1617055  P1597              9   \n",
            "                       2019-01-10 17392       1617952  P2137              2   \n",
            "                       2019-01-14 15527       1618828  P3115              1   \n",
            "                       2019-01-29 13253       1620289  P0099             12   \n",
            "...                                                                     ...   \n",
            "unknown/unknown        2019-01-30 0           1620766  P3070              1   \n",
            "                                                       P3483              3   \n",
            "                       2019-01-31 0           1621057  P1298              1   \n",
            "                                                       P1773              5   \n",
            "                                                       P2877              1   \n",
            "\n",
            "                                                                   item_price  \\\n",
            "city/province          order_date customer_id order_id product_id               \n",
            "Bandar Lampung/Lampung 2019-01-15 12515       1619257  P0628           695000   \n",
            "Bandung/Jawa Barat     2019-01-09 16134       1617055  P1597           520000   \n",
            "                       2019-01-10 17392       1617952  P2137          1062000   \n",
            "                       2019-01-14 15527       1618828  P3115          1045000   \n",
            "                       2019-01-29 13253       1620289  P0099           450000   \n",
            "...                                                                       ...   \n",
            "unknown/unknown        2019-01-30 0           1620766  P3070           593000   \n",
            "                                                       P3483           593000   \n",
            "                       2019-01-31 0           1621057  P1298           296000   \n",
            "                                                       P1773           593000   \n",
            "                                                       P2877          1486000   \n",
            "\n",
            "                                                                   total_price  \n",
            "city/province          order_date customer_id order_id product_id               \n",
            "Bandar Lampung/Lampung 2019-01-15 12515       1619257  P0628           8340000  \n",
            "Bandung/Jawa Barat     2019-01-09 16134       1617055  P1597           4680000  \n",
            "                       2019-01-10 17392       1617952  P2137           2124000  \n",
            "                       2019-01-14 15527       1618828  P3115           1045000  \n",
            "                       2019-01-29 13253       1620289  P0099           5400000  \n",
            "...                                                                        ...  \n",
            "unknown/unknown        2019-01-30 0           1620766  P3070            593000  \n",
            "                                                       P3483           1779000  \n",
            "                       2019-01-31 0           1621057  P1298            296000  \n",
            "                                                       P1773           2965000  \n",
            "                                                       P2877           1486000  \n",
            "\n",
            "[334 rows x 4 columns]\n"
          ]
        }
      ]
    },
    {
      "cell_type": "markdown",
      "source": [
        "### **Penutup/Kesimpulan**\n",
        "\n",
        "Congratulations! Aku telah menyelesaikan modul Data Manipulation with Pandas Part 1.\n",
        "\n",
        "Berdasarkan materi-materi yang diberikan dalam modul ini, kita telah mendapatkan pengetahuan (knowledge) dan praktek (skill) yang diantaranya:\n",
        "* Dapat memahami interaksi library pandas dan numpy.\n",
        "* Dapat membuat series dan dataframe di pandas dari berbagai tipe data seperti lists, lists of lists, dict, atau numpy arrays.\n",
        "* Dapat membaca datasets dari berbagai format standar seperti csv, tsv, excel, json, dan sql sehingga dapat digunakan sebagai dataframe/series pandas.\n",
        "* Dapat menerapkan proses indexing, transforming, dan slicing pada dataframe.\n",
        "* Dapat menangani missing values pada dataframe.\n",
        "* Latihan dalam mengerjakan project sederhana menggunakan pandas.\n",
        "\n",
        "**Keep fighting!**\n",
        "\n"
      ],
      "metadata": {
        "id": "5gRRtQXfPYzO"
      }
    }
  ]
}
