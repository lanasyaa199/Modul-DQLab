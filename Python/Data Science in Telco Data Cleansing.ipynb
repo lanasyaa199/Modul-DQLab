{
  "nbformat": 4,
  "nbformat_minor": 0,
  "metadata": {
    "colab": {
      "provenance": [],
      "authorship_tag": "ABX9TyPK9EmD0vmjipXqSRe0xDaT"
    },
    "kernelspec": {
      "name": "python3",
      "display_name": "Python 3"
    },
    "language_info": {
      "name": "python"
    }
  },
  "cells": [
    {
      "cell_type": "markdown",
      "source": [
        "# **Data Science in Telco : Data Cleansing**"
      ],
      "metadata": {
        "id": "KmUK6nWw79pF"
      }
    },
    {
      "cell_type": "markdown",
      "source": [
        "## **Introduction**"
      ],
      "metadata": {
        "id": "8Akq7lrT8CEJ"
      }
    },
    {
      "cell_type": "markdown",
      "source": [
        "## **Latar Belakang**\n",
        "\n",
        "DQLab Telco merupakan perusahaan Telco yang sudah mempunyai banyak cabang tersebar dimana-mana. Sejak berdiri pada tahun 2019, DQLab Telco konsisten untuk memperhatikan customer experience-nya sehingga tidak akan ditinggalkan pelanggan.\n",
        "\n",
        "Walaupun baru berumur 1 tahun lebih sedikit, DQLab Telco sudah mempunyai banyak pelanggan yang beralih langganan ke kompetitor. Pihak management ingin mengurangi jumlah pelanggan yang beralih (churn) dengan menggunakan machine learning.\n",
        "\n",
        "Oleh karena itu, tim Data Scientist diminta untuk mempersiapkan data sekaligus membuat model prediksi yang tepat untuk menentukan pelanggan akan berhenti berlangganan (churn) atau tidak."
      ],
      "metadata": {
        "id": "6e1VCcsJ8PLS"
      }
    },
    {
      "cell_type": "markdown",
      "source": [
        "### **Tugas dan Langkah**\n",
        "\n",
        "Tugas Data Scientist : Melakukan Data Preprocessing (Data Cleansing) pada dataframe untuk bulan Juni 2020\n",
        "\n",
        "Langkah yang akan dilakukan adalah,\n",
        "1. Mencari ID pelanggan (Nomor telepon) yang valid\n",
        "2. Mengatasi data-data yang masih kosong (Missing Values)\n",
        "3. Mengatasi nilai-nilai pencilan (Outlier) dari setiap variabel\n",
        "4. Menstandardisasi nilai dari variabel"
      ],
      "metadata": {
        "id": "UdxirKQP8UZB"
      }
    },
    {
      "cell_type": "markdown",
      "source": [
        "## **Library dan Data yang Digunakan**"
      ],
      "metadata": {
        "id": "NwHMOZ9w8xgt"
      }
    },
    {
      "cell_type": "markdown",
      "source": [
        "### **Library yang Digunakan**\n",
        "\n",
        "Pada analisis kali ini, akan digunakan beberapa package yang membantu kita dalam melakukan analisis data.\n",
        "\n",
        " 1. **Pandas**\n",
        "Pandas (Python for Data Analysis) adalah library Python yang fokus untuk proses analisis data seperti manipulasi data, persiapan data, dan pembersihan data.\n",
        "- read_csv() untuk membaca file csv\n",
        "- str.match() untuk mencocokan dengan karakter tertentu\n",
        "- drop() untuk menghapus\n",
        "- count() untuk menghitung masing-masing variabel\n",
        "- drop_duplicates() untuk menghapus data duplicate rows\n",
        "- fillna() untuk mengisi dengan nilai tertentu\n",
        "- quantile() untuk melihat quantile ke tertentu\n",
        "- mask() mengganti nilai tertentu jika kondisi memenuhi\n",
        "- astype() mengubah tipe data\n",
        "- value_counts() untuk menghitung unik dari kolom\n",
        "- sort_values() untuk sort values\n",
        "- isnull() untuk mendeteksi missing values\n",
        "- dropna() untuk menghapus missing values\n",
        "- replace() untuk mengganti nilai\n",
        "\n",
        " 2. **Matplotlib**\n",
        "Matplotlib adalah library Python yang fokus pada visualisasi data seperti membuat plot grafik. Matplotlib dapat digunakan dalam skrip Python, Python dan IPython shell, server aplikasi web, dan beberapa toolkit graphical user interface (GUI) lainnya.\n",
        "- figure() untuk membuat figure gambar baru\n",
        "\n",
        " 3. **Seaborn** \n",
        "Seaborn membangun di atas Matplotlib dan memperkenalkan tipe plot tambahan. Ini juga membuat plot Matplotlib tradisional terlihat sedikit lebih cantik.\n",
        "- box_plot() untuk membuat box plot\n"
      ],
      "metadata": {
        "id": "TW4Gch3C825C"
      }
    },
    {
      "cell_type": "markdown",
      "source": [
        "### **Data yang Digunakan**\n",
        "\n",
        "Dataset format csv, silahkan baca melalui fungsi pandas di python `df_load = pd.read_csv('https://storage.googleapis.com/dqlab-dataset/dqlab_telco.csv')`\n",
        "\n",
        "Untuk detail datanya adalah sebagai berikut:\n",
        "\n",
        "- UpdatedAt, Periode of data taken\n",
        "- customerID, Customer ID\n",
        "- gender, Whether the customer is a male or a female (Male, Female)\n",
        "- SeniorCitizen, Whether the customer is a senior citizen or not (1, 0)\n",
        "- Partner, Whether the customer has a partner or not (Yes, No)\n",
        "- Dependents, Whether the customer has a dependents or not (Yes, No)\n",
        "- tenure, Number of months the customer has stayed with the company\n",
        "- PhoneService, Whether the customer has a phone service or not (Yes, No)\n",
        "- MultipleLines, Whether the customer has a multiple lines or not (Yes, No)\n",
        "- InternetService, Customer's internet service provider (DSL, Fiber optic, No)\n",
        "- OnlineSecurity, Whether the customer has a online security or not (Yes, No, No internet service)\n",
        "- OnlineBackup, Whether the customer has online backup or not (Yes, No, No internet service)\n",
        "- DeviceProtection, Whether the customer has device protection or not (Yes, No, No internet service)\n",
        "- TechSupport, Whether the customer has tech support or not (Yes, No, No internet service)\n",
        "- StreamingTV, Whether the customer has streaming TV or not (Yes, No, No internet service)\n",
        "- StreamingMovies, Whether the customer has streaming movies or not (Yes, No, No internet service)\n",
        "- Contract, The contract term of the customer (Month-to-month, One year, Two year)\n",
        "- PaperlessBilling, Whether the customer has paperless billing or not (Yes, No)\n",
        "- PaymentMethod, The customer's payment method (Electronic check, Mailed check, Bank transfer (automatic), Credit card (automatic))\n",
        "- MonthlyCharges, The amount charged to the customer monthly\n",
        "- TotalCharges, The total amount charged to the customer\n",
        "- Churn, Whether the customer churned or not (Yes or No)"
      ],
      "metadata": {
        "id": "lJCP6lMq9VvY"
      }
    },
    {
      "cell_type": "markdown",
      "source": [
        "### **Import Library dan Dataset**\n",
        "\n",
        "Berdasarkan penjelasan mengenai library dan dataset yang akan digunakan, hal pertama yang akan dilakukan adalah melakukan import library dan dataset ke dalam workspace. \n",
        "\n",
        "Setelah dataset di-import ke dalam workspace, gunakan:\n",
        "- `.shape` untuk informasi jumlah kolom dan baris dari dataset\n",
        "- `.head()` untuk menampilkan 5 baris teratas\n",
        "- `.nunique()` untuk mengetahui nilai kolom yang bersifat unique "
      ],
      "metadata": {
        "id": "K8BEP66QlB8o"
      }
    },
    {
      "cell_type": "code",
      "execution_count": null,
      "metadata": {
        "id": "SAcSAVsRkV-y"
      },
      "outputs": [],
      "source": [
        "#import library\n",
        "import pandas as pd\n",
        "pd.options.display.max_columns = 50\n",
        "#import dataset\n",
        "df_load = pd.read_csv('https://storage.googleapis.com/dqlab-dataset/dqlab_telco.csv')"
      ]
    },
    {
      "cell_type": "markdown",
      "source": [
        "Note: pd.options.display.max_columns = 50 digunakan untuk mempermudah penampilan row data"
      ],
      "metadata": {
        "id": "XKe9WDnt_omd"
      }
    },
    {
      "cell_type": "code",
      "source": [
        "#Tampilkan jumlah baris dan kolom\n",
        "print(df_load.shape)"
      ],
      "metadata": {
        "colab": {
          "base_uri": "https://localhost:8080/"
        },
        "id": "ziEySKiGmDCb",
        "outputId": "dab3a6f3-0809-495e-c74d-3c752cfc9d70"
      },
      "execution_count": null,
      "outputs": [
        {
          "output_type": "stream",
          "name": "stdout",
          "text": [
            "(7113, 22)\n"
          ]
        }
      ]
    },
    {
      "cell_type": "code",
      "source": [
        "#Tampilkan 5 data teratas\n",
        "print(df_load.head(5))"
      ],
      "metadata": {
        "colab": {
          "base_uri": "https://localhost:8080/"
        },
        "id": "HdoBI7G_lD29",
        "outputId": "9fafc65f-2088-45a4-cdf9-7702c21f30bc"
      },
      "execution_count": null,
      "outputs": [
        {
          "output_type": "stream",
          "name": "stdout",
          "text": [
            "   UpdatedAt   customerID  gender  SeniorCitizen Partner Dependents  tenure  \\\n",
            "0     202006  45759018157  Female              0     Yes         No     1.0   \n",
            "1     202006  45557574145    Male              0      No         No    34.0   \n",
            "2     202006  45366876421    Male              0      No         No     2.0   \n",
            "3     202006  45779536532    Male              0      No         No    45.0   \n",
            "4     202006  45923787906  Female              0      No         No     2.0   \n",
            "\n",
            "  PhoneService     MultipleLines InternetService OnlineSecurity OnlineBackup  \\\n",
            "0           No  No phone service             DSL             No          Yes   \n",
            "1          Yes                No             DSL            Yes           No   \n",
            "2          Yes                No             DSL            Yes          Yes   \n",
            "3           No  No phone service             DSL            Yes           No   \n",
            "4          Yes                No     Fiber optic             No           No   \n",
            "\n",
            "  DeviceProtection TechSupport StreamingTV StreamingMovies        Contract  \\\n",
            "0               No          No          No              No  Month-to-month   \n",
            "1              Yes          No          No              No        One year   \n",
            "2               No          No          No              No  Month-to-month   \n",
            "3              Yes         Yes          No              No        One year   \n",
            "4               No          No          No              No  Month-to-month   \n",
            "\n",
            "  PaperlessBilling              PaymentMethod  MonthlyCharges  TotalCharges  \\\n",
            "0              Yes           Electronic check           29.85         29.85   \n",
            "1               No               Mailed check           56.95       1889.50   \n",
            "2              Yes               Mailed check           53.85        108.15   \n",
            "3               No  Bank transfer (automatic)           42.30       1840.75   \n",
            "4              Yes           Electronic check           70.70        151.65   \n",
            "\n",
            "  Churn  \n",
            "0    No  \n",
            "1    No  \n",
            "2   Yes  \n",
            "3    No  \n",
            "4   Yes  \n"
          ]
        }
      ]
    },
    {
      "cell_type": "code",
      "source": [
        "#Jumlah ID yang unik\n",
        "print(df_load.customerID.nunique())"
      ],
      "metadata": {
        "colab": {
          "base_uri": "https://localhost:8080/"
        },
        "id": "sCqGaAAalf5J",
        "outputId": "d9b27c06-36a8-4ded-8fd5-e4269ac76c13"
      },
      "execution_count": null,
      "outputs": [
        {
          "output_type": "stream",
          "name": "stdout",
          "text": [
            "7017\n"
          ]
        }
      ]
    },
    {
      "cell_type": "markdown",
      "source": [
        "## **Mencari Validitas ID Number Pelanggan**"
      ],
      "metadata": {
        "id": "jQaOZA85_y-H"
      }
    },
    {
      "cell_type": "markdown",
      "source": [
        "### **Memfilter ID Number Pelanggan Format Tertentu**\n",
        "\n",
        "Pelanggan customerID yang benar memiliki kriteria:\n",
        "- Panjang karakter adalah 11-12\n",
        "- Terdiri dari angka saja\n",
        "- Diawali dengan angka 45 dua digit pertama\n",
        "\n",
        "Gunakan beberapa fungsi berikut:\n",
        "- `.count()` untuk menghitung banyaknya rows Customer ID \n",
        "- `.str.match()` dan regex dapat digunakan untuk mencocokan dengan kriteria diatas\n",
        "- `.astype()` untuk merubah tipe data yang semula numeric\n",
        "\n",
        "Note: Buat kolom bantuan baru dengan nama 'valid_id'"
      ],
      "metadata": {
        "id": "qil1yRX9l1Yp"
      }
    },
    {
      "cell_type": "code",
      "source": [
        "df_load['valid_id'] = df_load['customerID'].astype(str).str.match(r'(45\\d{9,10})')\n",
        "df_load = (df_load[df_load['valid_id'] == True]).drop('valid_id',axis=1)\n",
        "print('Hasil jumlah ID customer yang terfilter adalah ', df_load['customerID'].count())"
      ],
      "metadata": {
        "colab": {
          "base_uri": "https://localhost:8080/"
        },
        "id": "HqLyOzysl2FX",
        "outputId": "9a6e6493-cbe5-45fe-837a-7fa0227ce8a7"
      },
      "execution_count": null,
      "outputs": [
        {
          "output_type": "stream",
          "name": "stdout",
          "text": [
            "Hasil jumlah ID customer yang terfilter adalah  7006\n"
          ]
        }
      ]
    },
    {
      "cell_type": "markdown",
      "source": [
        "### **Memfilter Duplikasi ID Number Pelanggan**\n",
        "\n",
        "Biasanya duplikasi ID number pelanggan tipenya:\n",
        "- Inserting melebihi satu kali dengan nilai yang sama tiap kolomnya\n",
        "- Inserting beda periode pengambilan data\n",
        "\n",
        "Gunakan beberapa fungsi berikut:\n",
        "- `.drop_duplicates()` untuk menghapus duplikasi rows\n",
        "- `.sort_values()` untuk mengecek pengambilan data terakhir"
      ],
      "metadata": {
        "id": "QxrVYVyml7oQ"
      }
    },
    {
      "cell_type": "code",
      "source": [
        "# Drop Duplicate Rows\n",
        "df_load.drop_duplicates()\n",
        "# Drop duplicate ID sorted by Periode\n",
        "df_load = df_load.sort_values('UpdatedAt', ascending=False).drop_duplicates('customerID')\n",
        "print('Hasil jumlah ID Customer yang sudah dihilangkan duplikasinya (distinct) adalah',df_load['customerID'].count())"
      ],
      "metadata": {
        "colab": {
          "base_uri": "https://localhost:8080/"
        },
        "id": "nIGUZcd7mMZC",
        "outputId": "9134839f-5f8d-4df7-da5c-8732e8ace38b"
      },
      "execution_count": null,
      "outputs": [
        {
          "output_type": "stream",
          "name": "stdout",
          "text": [
            "Hasil jumlah ID Customer yang sudah dihilangkan duplikasinya (distinct) adalah 6993\n"
          ]
        }
      ]
    },
    {
      "cell_type": "markdown",
      "source": [
        "### **Kesimpulan**\n",
        "\n",
        "Validitas dari ID Number pelanggan sangat diperlukan untuk memastikan bahwa data yang kita ambil sudah benar. Berdasarkan hasil tersebut, terdapat perbedaan jumlah nomor ID dari data pertama kali di load sampai dengan hasil akhir. Jumlah row data ketika pertama kali di load ada sebanyak 7113 rows dan 22 columns dengan 7017 jumlah ID yang unique. Kemudian setelah di cek validitas dari ID pelanggan, maka tersisa 6993 rows data."
      ],
      "metadata": {
        "id": "iorTgT86ArFB"
      }
    },
    {
      "cell_type": "markdown",
      "source": [
        "## **Mengatasi Missing Values**"
      ],
      "metadata": {
        "id": "qoKG1-uPAxKt"
      }
    },
    {
      "cell_type": "markdown",
      "source": [
        "### **Mengatasi Missing Values dengan Penghapusan Rows**\n",
        "\n",
        "Proses menghapus rows dari data-data yang tidak terdeteksi churn. Diasumsikan data modeller hanya mau menerima data yang benar ada flag churn atau tidak.\n",
        "\n",
        "Gunakan beberapa fungsi berikut:\n",
        "- `.isnull()` untuk mendeteksi missing values\n",
        "- `.dropna()` untuk menghapus data yang missing values"
      ],
      "metadata": {
        "id": "py9YLSoemQo8"
      }
    },
    {
      "cell_type": "code",
      "source": [
        "print('Total missing values data dari kolom Churn', df_load['Churn'].isnull().sum())"
      ],
      "metadata": {
        "colab": {
          "base_uri": "https://localhost:8080/"
        },
        "id": "T7F5D4BSmU9F",
        "outputId": "2ee72423-4bed-4ac5-e97d-0cb00395dc1e"
      },
      "execution_count": null,
      "outputs": [
        {
          "output_type": "stream",
          "name": "stdout",
          "text": [
            "Total missing values data dari kolom Churn 43\n"
          ]
        }
      ]
    },
    {
      "cell_type": "code",
      "source": [
        "# Dropping all Rows with spesific column (churn)\n",
        "df_load.dropna(subset=['Churn'],inplace=True)\n",
        "print('Total Rows dan kolom Data setelah dihapus data Missing Values adalah', df_load.shape)"
      ],
      "metadata": {
        "colab": {
          "base_uri": "https://localhost:8080/"
        },
        "id": "tF-5PJU_mamp",
        "outputId": "be8aa9ba-3af9-421b-9e19-7358ac2a5a09"
      },
      "execution_count": null,
      "outputs": [
        {
          "output_type": "stream",
          "name": "stdout",
          "text": [
            "Total Rows dan kolom Data setelah dihapus data Missing Values adalah (6950, 22)\n"
          ]
        }
      ]
    },
    {
      "cell_type": "markdown",
      "source": [
        "### **Mengatasi Missing Values dengan Pengisian Nilai tertentu**\n",
        "\n",
        "Diasumsikan data modeller meminta pengisian missing values dengan kriteria berikut:\n",
        "- Tenure, pihak data modeller meminta setiap rows yang memiliki missing values untuk lama berlangganan di isi 11.\n",
        "- Variabel yang bersifat numeric selain Tenure di isi median masing-masing variabel\n",
        "\n",
        "Tentukan:\n",
        "- Apakah masih ada data yang missing values\n",
        "- Jumlah missing values masing-masing variabel\n",
        "- Tangani missing values"
      ],
      "metadata": {
        "id": "E0JHsE89mjiS"
      }
    },
    {
      "cell_type": "code",
      "source": [
        "print('Status Missing Values :',df_load.isnull().values.any())\n",
        "print('\\nJumlah Missing Values masing-masing kolom, adalah:')\n",
        "print(df_load.isnull().sum().sort_values(ascending=False))"
      ],
      "metadata": {
        "colab": {
          "base_uri": "https://localhost:8080/"
        },
        "id": "8vHvxbCHmihc",
        "outputId": "c4ded037-d953-4e31-d353-964c0aad1925"
      },
      "execution_count": null,
      "outputs": [
        {
          "output_type": "stream",
          "name": "stdout",
          "text": [
            "Status Missing Values : True\n",
            "\n",
            "Jumlah Missing Values masing-masing kolom, adalah:\n",
            "tenure              99\n",
            "MonthlyCharges      26\n",
            "TotalCharges        15\n",
            "UpdatedAt            0\n",
            "DeviceProtection     0\n",
            "PaymentMethod        0\n",
            "PaperlessBilling     0\n",
            "Contract             0\n",
            "StreamingMovies      0\n",
            "StreamingTV          0\n",
            "TechSupport          0\n",
            "OnlineBackup         0\n",
            "customerID           0\n",
            "OnlineSecurity       0\n",
            "InternetService      0\n",
            "MultipleLines        0\n",
            "PhoneService         0\n",
            "Dependents           0\n",
            "Partner              0\n",
            "SeniorCitizen        0\n",
            "gender               0\n",
            "Churn                0\n",
            "dtype: int64\n"
          ]
        }
      ]
    },
    {
      "cell_type": "code",
      "source": [
        "#handling missing values Tenure fill with 11\n",
        "df_load['tenure'].fillna(11, inplace=True)\n",
        "        \n",
        "#Loop\n",
        "#Handling missing values num vars (except Tenure)\n",
        "for col_name in list(['MonthlyCharges','TotalCharges']):\n",
        "    #write your command here\n",
        "        median = df_load[col_name].median()\n",
        "        df_load[col_name].fillna(median, inplace=True)\n",
        "        \t\n",
        "print('\\nJumlah Missing Values setelah di imputer datanya, adalah:')\n",
        "print(df_load.isnull().sum().sort_values(ascending=False))"
      ],
      "metadata": {
        "colab": {
          "base_uri": "https://localhost:8080/"
        },
        "id": "EMGrlQJGnEGF",
        "outputId": "0adc9b2e-8e6e-40b6-d986-c5d11b93293e"
      },
      "execution_count": null,
      "outputs": [
        {
          "output_type": "stream",
          "name": "stdout",
          "text": [
            "\n",
            "Jumlah Missing Values setelah di imputer datanya, adalah:\n",
            "UpdatedAt           0\n",
            "customerID          0\n",
            "TotalCharges        0\n",
            "MonthlyCharges      0\n",
            "PaymentMethod       0\n",
            "PaperlessBilling    0\n",
            "Contract            0\n",
            "StreamingMovies     0\n",
            "StreamingTV         0\n",
            "TechSupport         0\n",
            "DeviceProtection    0\n",
            "OnlineBackup        0\n",
            "OnlineSecurity      0\n",
            "InternetService     0\n",
            "MultipleLines       0\n",
            "PhoneService        0\n",
            "tenure              0\n",
            "Dependents          0\n",
            "Partner             0\n",
            "SeniorCitizen       0\n",
            "gender              0\n",
            "Churn               0\n",
            "dtype: int64\n"
          ]
        }
      ]
    },
    {
      "cell_type": "markdown",
      "source": [
        "### **Kesimpulan**\n",
        "\n",
        "Setelah melakukan analisis, masih ada missing values dari data yang sudah divalidkan ID Number pelanggannya. Missing values terdapat pada kolom Churn, tenure, MonthlyCharges, dan TotalCharges. Setelah menghapus rows dan mengisi rows dengan nilai tertentu, sudah tidak ada missing values lagi pada data, sehingga jumlah missing values masing-masing variabel bernilai 0. "
      ],
      "metadata": {
        "id": "qA3Hv4FOBzc4"
      }
    },
    {
      "cell_type": "markdown",
      "source": [
        "## **Mengatasi Outlier**\n",
        "\n"
      ],
      "metadata": {
        "id": "TztRfGI0B6ji"
      }
    },
    {
      "cell_type": "markdown",
      "source": [
        "### **Mendeteksi adanya Outlier (Boxplot)**\n",
        "\n",
        "Boxplot merupakan ringkasan distribusi sampel yang disajikan secara grafis yang bisa menggambarkan bentuk distribusi data (skewness), ukuran tendensi sentral dan ukuran penyebaran (keragaman). Salah satu cara mendeteksi oulier adalah dengan boxplot. \n",
        "\n",
        "Berikut tampilan umum dari boxplot dalam merepresentasikan outlier"
      ],
      "metadata": {
        "id": "TF61KV66nMHh"
      }
    },
    {
      "cell_type": "markdown",
      "source": [
        "![image.png](data:image/png;base64,iVBORw0KGgoAAAANSUhEUgAAAjoAAAERCAYAAAByyw2oAAAAAXNSR0IArs4c6QAAAARnQU1BAACxjwv8YQUAAAAJcEhZcwAADsMAAA7DAcdvqGQAAGODSURBVHhe7d0HmGVFtfbxIo8MGSTnHCRLDpKjEkRULiZEFBQT6lU/5XqN13vNomJWREUwgoCgBMlZJEpWcs459te/ogsObc9Mz0w3TJ/z/vvZz+mz865TtdZbq8Kerq+fEkIIIYTQhUw/8BlCCCGE0HVE6IQQQgiha4nQCSGEEELXEqETQgghhK5lRDojP/PMM+X+++8vjz766MCaEEIIIYQpY4YZZiizzTZbGT9+/MCaKWdEhA6Bc/TRR5ennnqqTD99gkQhhBBCmHJoiYUXXrhstNFGA2umnBEROqI5X/ziF8s222xTZp111oG1IYQQQgiTh1aiO++8s9x+++1ln332GVg75YyI0LnvvvvK5z//+XLggQeWOeaYY2BtCCGEEMLkQehceeWV5cQTTyz777//wNopJ+1MIYQQQuhaInRCCCGE0LVE6IQQQgiha4nQCSGEEELXEqETQgghhK4lQieEEEIIXUuETgghhBC6lgidEEIIIXQtETohhBBC6FoidEIIIYTQtUTohBBCCKFridAJIYQQQtcSoRNCCCGEriVCJ4QQQghdS4ROCCGEELqWCJ0QQgghdC0ROiGEEELoWiJ0QgghhNC1ROiEEEIIoWuJ0AkhhBBC1xKhE0IIIYSuJUInhBBCCF1LhE4IIYQQupYInRBCCCF0LRE6IYQQQuhaInRCCCGE0LVE6IQQQgiha4nQCSGEEELXEqETQgghhK4lQieEEEIIXUuETgghhBC6lgidEEIIIXQtETohjBJ9fX3l6quvLrfeemt55plnBtZOmrvuuqs8+uijA9/GNp77gQceKA8//PDAmmfX3XDDDeXggw8u1113Xf3+z3/+s3zve98rN99888Bek89DDz1ULr/88ueWK664ol6n89ohhN4jQieEUeLJJ58sn/jEJ8phhx1WHnvssYG1k+Yb3/hGufDCCydLHE2rPPjgg+UPf/hDOeWUUwbWPCsA77///nL++eeX++67rz7njTfeWH75y1+W2267bWCvyefKK68sH/nIR8rXvva18uMf/7gcdNBB5XOf+1z57W9/W8VjCKE3idAJYZTg0M8777xyzTXXlKeffnpg7bPY9sgjjwwpgI488sh6jH0GQxQQCaIUQ21viAg5f9vHcSIeTzzxRP0+JTjX448/Xq8/MeFmP9chclzzrLPOKhdffPHA1n6jM/30ZaGFFip77LFHWXTRRZ/b/+67767isJOnnnqqnmM4ES6Ro2uvvbYsvvjiZeutty6bbLJJmWWWWcrvf//7ev1O4ej3kIaOcY0JYT/X9rxDpbdjpfPE0tV17eN6g/NBCGH0meG/+xn4f4phBE477bTyqle9qhqWEMKzTvJb3/pWWW655arjnWGGGYriJrpw0kknle9+97vVCXOAK6ywQt3++c9/vhxzzDE1snHuueeWP//5z2Wrrbaq2y655JLy9a9/vfzkJz8pf/rTn8rtt99ell122fKyl72sioqf//zn5d57763nFtXQHLTyyivX8/v+/e9/v5bTWWedtZ7X8e5Nc5HIx4ILLlgWWGCB6tCJGU1J/l9sscXqOVzXPR9xxBHl+OOPryLBNucjBqw7+uija2Tl29/+dvnrX/9am6ZEdHz+/e9/r6JnnnnmqQJBpMX9zzfffOX6668vxx13XNlpp52q+CF4/vGPf9Tz/OhHP6rnlm6uN378+IEUfiHOIXK022671fRecskly3TTTVcuuOCC+lyveMUr6nVFy6SF5znqqKOqCJKG888/fz2PJi/Pcdlll5UTTzyxfOc73ylnnHFGmWmmmeo5CTXnufTSS2t6iB45J3Ha0mX55Zevafevf/2rHHrooXU/53SPnnfeeeet1woh/DvKjooPG7buuusOrJ1yEtEJ4UWC8OH0f/CDH9S+O0TGuHHjqhM8+eSTq/OcffbZqyPlzOeaa64y55xz1mOJB2KFOFlttdVq1IIg+sUvflGNgsrGqaeeWr785S9Xx73UUktV4UKA/Nd//Vf5y1/+UpZZZpnqYAkHztd+jtV89Jvf/KbcdNNN9VpwHCcvQgIRC/8TGmussUYVKyJPBJf7tp2gICAcR1gsscQSZbbZZiszzzxzFRKeZ4455igzzjhjFS3u6Y477qjn78T5iCKikFBYccUV633b3/NOLLpD2Dg/UeITzue7bQSUa/tcaaWVqiDRbOb59efxG+lTRQD97Gc/q/8vvfTSVUAefvjh5aKLLqoRGmJIOv7tb3+rae3chJpmypauV111VfnhD39YxaXfa5FFFilnn312XUcUhRBeHCJ0QngR4aQ5xTe/+c3lne98Z/n4xz9eRYBIBwf6hje8oYoD0dF3vetddR+IwGjC2Weffeq6d7/73WXTTTetURwig2PVrGSfvfbaq+y///7lNa95TXWoIgnveMc7ynvf+956/Oabb15FS2tuaU0rnc0qTTwRCXBPb3vb28qb3vSm8upXv7ouhAwnfs8999R9mqDYfvvt6/299a1vLVtssUWNVr3yla8s++23Xz1eVMQ1pcVQTTlExbHHHltFnfPsu+++9VhRGkJBpGcommizj0jZr371qxphIfhEttybtF577bXrs7zuda+r96rGSPwQMXBPhJD7lJbvec97yq677lqjWvbxSeAQaf/xH/9R09qzEoCeSbqKsEkbnaJ32GGH+hzOs+2229aozjnnnPNvzXQhhNEhQieEFxlNKByvfioiCiI7LbLBKWumEjERPbEQEKIkmrNOOOGEcsghh9TIhiiPyBBB0Nh4443LqquuWqMHoiAEDce9884713XOt+OOO9brTA7ugWgS5RCRICIIDs1enDrct2antdZaq0YwXMM9iE6J5Lj2wgsvXMXGxCBWCD+fnlv0ScSFyLjllltqM9iEIM5EZjTzacbSR0rzmIXAJIYIM817mq6kpWiaEHlnREtkzW8kmiTdRG08B0GkaUpaeA5i03a/of1bs1rbxzlFePxeOluLekkz21q6hRBGlwidEF5k5p577to81eAwCQlOeChEPzShvPzlL6/9SBxvISg++MEPvkA4EBPt3M4n+qAJpzWBcfb+b/1RJkTnvRBKRJUmNo5cFEREZ6ONNqrbWlTGuTXFTW0/vRYRIZY8s2cl/AgJERSiYihcX/PYhhtuWKM1b3nLW2qHZAJJ85RnuvPOO2sTkxFfa665Zu0TJFJErLQIF6SZZ3FOEHHSVRTGInJmWxM2tttf1Aj2IbrctybD9putssoq5fWvf329R016IYTRJ0InhBcZDrI5UHT+Dw61iQdwoiIKnCanrBnFwmHuvffe1YE2Wr8UOC9RozlFcxA4e/+3vjfgcO3b6eg5aZ0BoUlMMwwx5po6R2taIyqIsOHQ+TyTgnAT7ZIOok/teYmX3XfffYJCB8SGqBJRRIhpNpJ++i8RfaJfIkKrr7563bbZZpvVvjoEyoSEZqP9Tu6PUPTshBMIGx24NQGiNZPpqC2C1/mbGW223nrr1W0hhNEnQieEaQyO2ogf/Ts0TREvHL7mFX1DNIuIKBAiIhMc+VBwzJqxiB0jqJxLJ1rNT5x+24eA4riN8hK5sY+Oxk0c2UeUxjVFRjTHiJJo8pkU7l0zkGsbpURkOM/EcD8iMZrqCCxNWI7RbOT6TUwMhXu1EEmEBhEjiiLdNGlZ3wSKJiT35bn1m5mU0GlIT+lKQOoj5Tdwn2eeeWYViCA+iSnXIrIILM+g2cy1fLqXEMLok+HlIYwSohhG73C0+s4QJH/84x9rZ1jNTi36wlGKqugkbB0HSBRwzPrB6AeiCYfw4LA5ZsOd9UMhHHRwFXXR/0NfFBGE5vA55RbR0FeEgLKvpiH7imjY7l71i3FOzp8QcryOuu5fpMS1DaO2D9FFwIhKOIcmHAKJLfDddRuiHZ6DQHJcazbz3KJDmtuIGuJpu+22q9/17XEufWw8lw7GhB+xYBRU5/kbmvfcn7S2j/uXrsSGPjHu0bMQGc5rZJd7lhaeT38cHYr1lyKoRNFaWrYomHtff/31a+dsz+WenNv9E0+OJXC23HLLKnb8lvbxrJ7BNYkevydBG0L4d1Q6RnJ4+XT9JxxeNWYiqHGZ/+PAAw+snQ5DCM/2rTGXDOfIiXJ6Oshy5Bxxq9FzhJqFOGGigyMmDIgPTlYTjGJKKBhuzdn7LmLB4WoG0exExBAI+rY07McBEyciEI4RMfn0pz9d+6h86lOfqvtw1PZxHuc014vIkXNxyEQHIcKRE2PKufMQRKImBIV703yj2ag1y0gDz0M8eUZNOvqseE7X88zumVFz/0SCJjEionU8dt/u0TmlJQEyVLOPiI+0NMrL8HY4jkhxHuLISCqCiDgRGZIe1ktnwsR29yLa47vnt01aiMTYn0D020hX66SNCh7xafoAzYlGddnHPTHW7kFaSCfp1vofhRD+HWVFdNlgBKMap5YInRBGEcKBoGnRG985eUuDAEDbR5Hs7JzMOULht96nbc7rPI7zvQmjznM3XNdxtjuHjrrm4yF04Hjiou3jnP53ribIHNfutV3bcT4d4/qOcazvDft0Pk97Tuv871yO6/yOznvyf7tmu95ghjoH2vU7n8t3n9Y5H9r/1g/e5hyd6Uu8EU+EG2FGOBkd5jhpSsy141zLse0Z2nN03mMI4XmUo5EUOilpIYwiREpz7PC9Oc+G7Z37cKYcqH2byAHH6LtmFpEFUYR2nGP8P/jcjXZcO0aUpjOi4PjOfZzHPXQ6Y8fZbrGvfaxzLNox7Xtj8PM0Z9/+x+Dv6LynzucdfP7GUOdAu75j0fbrTA9LSzvbO7/DOTrXEY6iRyYN/J//+Z8qckTCjAozv1CjXbvzGQanawhhdElpC6HH4LD33HPPOplfmDI0P+mLZCSYiRlNhGhSQP2DpG8IYdohQieEHkNUQl+Y1rwSJh8RIX2tNthggyoYjRLTD0tUJ4QwbZFRVyH0IIObZiYHHY4POuig2i/FKCUdkr2yQXNOZydgnX11ONZB13uqvPupdf5t17aPUWTsh321y+vzZz9La6bSH8Z7vLTdTysCzb15jtYs1u41hDB1sB8jOeoqEZ0QwrAhZswX483jRiiB8PnqV79aX6sARsqIJDMpq0cZtm5oto6Fn/nMZ+o8Pm0uHUO7ncvxxJD3cn3jG98oBxxwQDn99NPrPjDKykAH29v8PiGEMBwidEIIw0YExgtGDeFeZ5116jqjisw70wQI8eK9Tt5PpR/Lhz/84fKf//mf9aWi3u3lhZtNxDjWCCbRG/t5pcVrX/vaOiz74IMPrtFiGO5uPiG1PPPqhBDCcInQCSEMC0OkzRtjvhsdcIeay0bTkjlovPTT6COdns0i3N5gvssuu9SJ+wghIgeafPRtMTmfIe869OrvIgpk/hpoGvJCUItJASc2O3IIIXQSoRNCGBZthmMRG/3xhkLTln00Xemkq89OG0qtL4sOvESMfUwi2Embh8fMzY63f3tpJszErLlMX580X4UQhkuETghhWBAiojUER+eLRDuxj2Yn4kan4cEddI1WMn8PQeRccIxZlXU2NifNF77whdoU9ta3vrU2aTUIH9+9GkOH5RBCGA4ROiGEYaGTsT4zOgVPbIRRG1HVmqY6cQ7CBp3zzVjnVQ+aqryiQbOYd0oNnlivjeYS9QkhhOEQoRNCGBbEjahKe/P5UNjuPU6aubwEdDAiOSIyIjv67YCYMVPzO97xjrLffvvVT+v042miqOEe2uzCIYQwHCJ0QgjDgvjwUk3NRhOKqBAgXljqRZ3mxvES0IYID5FjbgwvKm1vMW/ihdjxws4NN9ywLscff3x943eD6CGgFlxwwdp8FkIIwyFCJ4QwLERhjKDST8Zb2YeCaDEy6v/9v/9Xh4Lrb0Pw6HxsnpxvfetbtfnJO6GGmrDQ8frwbL311rUjsiHq5umBTtBGfXlbet78HUIYLhE6IYRhQZholtLJ2EzIrVmpCSACB15gueWWW9Y5cfS78eLLr3/961X03HbbbWXvvfeu+0MEyDD05ZZbrn6H65hvx36ayUSBjMYinG666aY6DH2ooe0hhDAUETohhGGjI/I222xTX9vglQ2Ya665ysc+9rG6HqIyXvOw4447lve9733lLW95S3n1q19d1lprrRqV0Qm59bGx3+tf//oqajpxHcdYr6lKVOe8886rIsqU8K4RQgjDIUInhDBsRG+8wNJbuy+66KLaDKV/jckARXsahIh+NObM0R/HnDo6Gjvu8ssvr4IHzid6s8oqq9TvDf2B9PNZc80165vCzZ5sCPquu+76XN+eEEIYDtP1G6q+gf+nGJ0TP//5z5cDDzyw1sRCCKOH4dXKXGsqerHRjGTCPp+T01dGZ2TDx3Vkdlzn8PJJYVi7+XnM39M5ieBoYXRYiz6JOoUQXjzYFi/49X68/ffff2DtlJOITghjDAbgxz/+cY2mvBS0aMvkdggmGkRnFlpoockSOdBkZVTWiyFyYLTYcccdV84555yBNSGEsUqETghjDG/+1qk3jB6GsYtatSa2EMLYpeeEDgNmHo/f/e53tVbsTcq+j1Tt+Mwzzyxf/OIXa63bOU866aQ62uS6664b2COEMFZ4qaJmYdrAqD/TIvz0pz+ty6WXXjrkjN9TgtGE73nPe8o111xT89nFF19c3vWud9Vm0zCy9JTQMXLjyCOPLB/+8IfLd77znfKHP/yhHHzwweWjH/1o+cUvfvHcfB3DQeb86le/Wn79618PrHmWW265pY5IaS8ddE5DYvUxCCGEMO1DbJj/ad99963vX/vtb39bDjvssPpdf1TzOelHMhxUrs3yfdBBBz33Nn6IzKoI8xWEju9edBtxPfL0jNChzM20KrMZCSLzfu1rXyuf+cxn6gRkMrJMBxlNJh6c4axr6wmYyy67rI4EMZ+IxXqfCkkrBN7y/J//+Z91xteG/dyP5ofWqbPRrm3RaVNfgfYCQzUJc4l44aFRKCNVswghhPA8559/fvn0pz9d7bGpE1RqTXb55je/uZxyyinlZz/7WX3Dvu3NZnfSbDjYaa0GJs1k033vtPGOh7mlvv3tb//b6034FL7CMtjmt/NY+BL35H/nJJz4CscRW73MDP/dz8D/U4xoBfXLqRtqOi3SIjA6QYrgGM6qQ+UCCyxQR1WYE+Taa68tG2ywQVXdRI9RHiYzg0z05z//uVx44YW1M+XRRx9d/vjHP9ZojeGyjnUu34UgDcFdbLHFaqjzrLPOKossskgdkWbEjLT63ve+V6NLZpglZhxru3Cmczvm9NNPrzUBk67phKm5TQGz/dRTT633lOnwew95hMjeYYcdMp/MKKFyoXY922yzlZVXXnlgbegFiA92l89QSeUTTGnAX5jYkt3VUd2UCuyvkUGmWtBZ3nQJyiT7zc57HYr/DznkkHLVVVfVLgxea8LnmBjzV7/6VZ1ywQhKUaLDDz+8bLzxxs/NGs5/mGyT7W/+hyDiDwgak3G6jnvVFUOeNc+UfbVW8DEnn3xy9Un81nzzzVfPO61DqKnUE4ieZ2rpiYgOFaxJibpdffXV68yuLSNRz+b/ENWR0WQIGVnm5Ewa1LEMSpjIZDKwjO04E5t5N4+hr4OR8WQ6okmkh0iRcYkatYN11lmnZlQZWZSI6DnmmGNqAZCRd9ttt3qNM844o2Zy1zHczjWJozi6EEIYOURA+AEzcJvjyYi/ZmcJFBV6tpxNZ6O9vJZ9VoltiN7wFYIASy65ZFl22WXr57bbblu222676jsG2+6bb7652v024zj/o1IuSmPSTf6CP2H/XYsY+NOf/lS++c1v1uvvsssu9dUpBIKWCuLMvl6S6zla5KgX6Yl5dERERF++9KUv1TbWwbOwyjS2U8cyBWHxwx/+sAoiM7uCCBIR0mQkqmKWVqFMzWAf+tCH6pBb4kmfnUMPPbS+60dNQAc2zWLCoNJGc5lmq09+8pN1eK570yFaRMl9EWVf+cpXak3yAx/4QM2gBJD2YQVBZm/T5fvpRNAmd6huGNuI5gnEvuENb4jQHSU4MdHZzTffvOy+++4Da0MvQGB4fclmm21WOwsPnkdJZOa9731v9RUqnP/3f/9XxRH/J2qiTIqmiMir1HpdCd+jsq3cigyx2cTQTjvtVMWN6NAJJ5xQ3v72t9foDLvO3+hH+pOf/OS5SMwVV1xRX6/CZ/g0+ziRc8EFF9QWBNcm0rxL7vvf/36tSDuXKJVo07Ta4jIYAjLz6EwBzSFIwKGwfriaz7mIGuJGhpV5RIZ8nxi33357zcSaHogfGZFo0h5MQLXO0GoQmswsXqBI9BBFIlIEmLCqzEygxdH1JvKbfCG6mGXkF85JGqd89R78QFtGAr6Cn+Af+AqCo7UoTAh9avgJleLmKyy6VIgmEU0N4krEiK9wfi0Uov3f/e53q7/QdCXK08sV4p6I6AgFyiAiJPo1UOCdBkxoUPsmRS3SYlKziUV0RGwoaB2btd9rx21oY51QREeTmJCidwNR4g2ZWrOXZiliSAZ1Xtcmety/aI6mK2287uXWW2+t7w7yniAh0Rjk3kFTpzymlpjffXRQxgwr5jT0oQi9g0gemy6K8l//9V//1q9FF4Z3v/vdNTqjKcp0IuyxfYeK6OhD+eUvf7mel5/kX+yj/82EIjrc8gEHHFCjPm984xtfUM75oO2337721eFHiBgtDA2tAqK++o6KNIkCEe5aM/iYsUAiOlMA9ayzF9UrLCkjNSQocSEzMGprrLFGzVTWC/c1NDHJUE0X2scyOTqRwKG0XUffGxnYojlq5513rqHHBvXfMrf715nZSxPf+ta31kKmnZjiVxBam27oHdQKVSqyjM4iWiaNQ++hb4vuAUZXiaJ32lcigvMV9RNlb1Ea/kGkhT+wv745g33D5PgKeY84kQ+bn2gL+986yPMRg1sSRG68X45f8X45XSuIIx2oe5WeaboSnSESZNwf/OAHVeyIsFCNojDWU9fUt4wryqInvc7BoikmAhRRaZlVmFBo2/ByQkmz0+Chf4MReaHC9cfRUa01l2mCElWa0CysBJf7E66Uqd1ji/Q0MRRCCGHqITJETPTN+cQnPlGjJSq5xIJuA/phbrXVVrX/JFGhcixyYoSQ1g2RGoNOWkXZPiq57Ddf4VydleihULldf/31q5/6zW9+85yt96mPkD5kQ8Gf8GmiR/wLQWZkmJHEvvcqPTO8XMbxg+vtrtnJnDrEhvC0EVXC03qsEzBEhMypN70RU3//+99rBiUwWmSFyKHihTGNkjK8XKRGm6owpkzqejI/sURht7ZT+2hK04lMrcE9EDkiTgQW8eQ6Roi5b/vrXa+zdDtGBIpo0llSIYrg6R0yvHz0yfDy3kZUZ4UVVqh2XZMS/6ZjsMqu5iqdfdl3FU++QDMRu2x7Gz6uyYt9FplRTlWcjz322Op3bGO3je7V/MQv8DGON8KK/xHh508NlHF9713TCVmTmI7SjtdExV+1DvOEDiHErTvG+Q0x1wFa52n3PBbwHAThSA0v76m3l3tUokb7uwgJUSEjadYyoR/1K0PajwKWYSh162VMith2AsT/ojhEiWiMTKdgiM5Q7oafWyca5BzUv7QR9SF8mvp3PufX8Zi4IWo4MgZWBEhBcgyF7hjnh3O7ZwWEGAq9AwMmCqmPWITO6KCsqcBwDOmj05toilJpFVVpdpdgYOfZ32Z32Wd9Jy38giYt9lvUhkgWIXIuook/UGaN1lVxVplec801qzASpTHIRMCgnVsFWPcEPoZfIoD4KyOD/W8gi+vrD9pwjMq8e3aMc6lE8zFE2VhAOo5kH52eEjrwuBJR5vC/TCcjyDSd2GafFjLsFBNtX/vYbiFI2j6++986/7ueY5pT6jw37Ge7T/taBl+zXcc2dB4TeosIndEnQieg+Ypmd5uvGFzu2ObmU5rtd0znvs2G26fZbpXtNrqvXWtw3zDr2rmb3W++wfHWdx7ju/Xtnp3bNcaSr3Dv6Yw8FfjRZRKRHCE/nzLOYFrm6NynLQ37+G57y0iWzkzlWi0jNzrPbZFJ2/4+nbNl5Ibv9hvqmNBbyB/yQBg9Whm1hN6Fje20u4NteaPTp9hnKLvfbLj9/G+b722fdq3BtPLeho87tuEag49p52337Jhe9xXxlCGMMXR+fP/73z+kwQ0jg2HCu+66a+0LEUIY20TojDDChpYQRgs1O/25wuihFqyvxbTeFB/GNpqywugToTOC6PxldJTJoXQ8C2G0SLPl6CNilqhZGC2MsvIqCSNpW3+aMDrEWo4ghsMZOmg4olFSIYQQwlAYzWWaE1ONROiMLj036mo0MVLDayLMcfKpT32qDhMMYaQxBYHJy8oYaiKdccYny3wvv6E8+ujs5f775h9YOzbQ+XO22WevQ4YTSQsjhXdQmb34bW97W/UX6fj+PCM96ipCZwTRXOXN4yYak3E33njjgS0hjBxqgmcec0wpDzwwsGbaZ/a5Hyibv/7IctM1S5ULT96o9D0zRpqE+oXNrPPNV5Zfd92y4iqrDDkqJoQpgRM3W/9ee+1V/UXniN5eJ0JnGobA0T/HJIIy7lh5gVoYWzAA5/zyl2Wlp58u880++8DaaZuZ5ry7LLDbIeXha1cs9566XSl9YyMycu9jj5WbZpmlLLbZZmWVtdaK0AkjRhM6XuTphaAROs8ToTMN44fxRmmzX5qCe7311hvYEsLIIZ+df9hhZaN+p7vYPPMMrJ2Wma5MN/sdZfrtDy59N6xanjlnl36hMzYiOrc99FC5pF9QLrDppmWVtdeO0Akjhr6chM4+++xTPvnJT0bodDDSQicNziMIzWjRjp+2/DDaGBE0Q38+m/aX59+w/Ow9j5X77i/HRl1l5FUIY5p44xGkCZ0MSw0hhDAxRqAxJQyTCJ0RpmXeCJ0QQgiTIr5i9InQGUE6RU4ybwghhEkRXzH6ROiMMGm6CiGEMCnSdPXiEaETQgghvERk4MrokxQeQSh0w+IS0QkhhDAc4itGnwidEYTIsYQQQggTozVdJaIz+iSFR5j00QkhhDBc4itGnwidEYTIaSo9mTeEEMLE4C8S0Rl9ksIjiEz79NNPJ6ITQghhorRKcYTO6JMUHkGIHIuMm8wbQghhUqRSPPrEG48gOiJH6IQQQgjTDvHGIwiR89RTT1WRM8MMMwysDSGEEF5I+nO+eETojCAiOk3oTG1Ex7keffTR8uCDD5YnnnhiYG0IIYRpBWLlvvvuK4888shzwmVyidAZfSJ0RpAmdGTcqRU699xzT/npT39aPvShD5XTTjttYG0IIYRpBTZ/t912KwcffHCtmE4JETqjT4TOCCLTWzRbTW3TFcF01113lZtuuqk89NBDA2tDCCFMK4jiXHfddeXOO++stn9ySNPVi0eEzggio+unM+OMM9ZlJJjScGgIIYTRh42OnZ62idAZQTqFzswzzzywNoQQQnghiei8eETojCBN6Mw000x1CSGEECZGhM7oE6EzlRA3OqHpda9fDaHT+udYb10IIYSABx54oPqGziavJ598so6wndx+PmF4ROhMJTfeeGP57Gc/W/bbb79y+eWXl8cff7w8/PDD5fDDDy/77rtvOeGEEwb2DCGE0OtsvfXW5YADDih33313FToqxz/60Y/KlltuWa699tr09xkFInSmktlmm63MPffc5eqrry7nnXdeHSFF/Jx++un1/4UWWmhgzxBCCL3OGmusUU4++eRy4YUX1giOCM8hhxxSFlhggepP0pQ18kToTCVzzDFHWWeddarY+ctf/lKHGYrs3HDDDWXDDTcsyyyzzMCeIYQQeh3Rf10ajjnmmNpc9de//rXcfPPN5bWvfW2Zd955B/YKI0mEzlSi0/Gyyy5bVl999drOSp0TO7POOmvZdNNNq0IPIYQQwF9sv/325frrry+PPfZYje6stNJKZYsttsggllEiQmcEEHLcbLPNyoorrljDjgsuuGCN5iy11FIDe4QQQgjPdnd43eteV/0Df+H7m9/85rLoooum2WqUiNAZAahwImfjjTeuTVkrr7xy7XA233zzDewRQgghPMuqq65aOx+PGzeuLL/88mXbbbed6tcGhQmTlB0hFllkkZpZt9tuu7LTTjvVDmchhBDCYOaZZ56y5557ltVWW60ceOCBZf755080ZxSJ0BkhzJ2z1VZblV/+8pe1sxmlHkIIIQyF7g1nnHFGrRhP7bsRw8SJ0BkBzHvwxBNPlIcefqg8+NCDz00eOFwMMdQp7YEHHyj3P3h/efSxR+u6zKcQQghjF3PkmFftvgfuq/bdgJVm10VwCJw6xLx/m31MSfL0M0/X7WHkiNCZSmTkW2+/tZx6wanlmLOPKcecd0w57pzjyoWXX1gz76QgkP554z/LieeeWI4+5+hyzDnHlD+f/edyxTVXTPFr/0MIIby0qPSefeHZ5Y9n/rEce96x5Y9n/bGceNaJz00UiLvuvqucfPbJ5eizji7Hnn9sOeqMo8o5F5xTK81h5IjQmUruvOfOcuZlZ5YL77yw3DHTHeWecfeUG/tuLOfccE752xV/q5GaCSHqc8W1V5Q/X9AvbB65otw1y13l7nF3l+ueuK6cee2Z5Yp/XVGFUAghhLGDGfJPu+C0cu4t55ZbZ7i1+oW7xt1VLn/48nLUqUdVgXPPPfeU35/8+3LJA5fUbfa5febby5m3nFlOOvOkifqOMHlE6EwFIi5XXX9Vue7+68ocC89Rxs02rsw8buYy61yzlqfGP1WuvvPqcsMtNwzs/e/cdU9/xr/p8vLAuAfKbPPNVsbNOq7M8rJZyqzzzFr65uwr9z9zf3nsyceK159kydK5lLRqvihIZpVvy1C/Q5beXibUu+C666+rfmGW+Wcp4+ccX/3Cy8a/rMw2/2zlrpnvKudfen4596Jzy2NzPVbGv3x8GTe+33fMMnMZP8f4Mn7B8eWah64pV1939XORnzB1TNefkFOdkvfdd1/5/Oc/X3uPG17dK9xx5x3llItPKf966l9lzvnmHFj7LNpdn7jzibLi7CuWbTbZZmDt80j2S6+8tJxxzRllugWmK9NN/8Ie9/ffc3859Q+nltv+/kB5w64HlE033XlgS+h1brj+ynL9iYeVnRaepSy34BiZSXX2O0vZ9tul3LhaKefu0l8AxkYd6/p7Hiwn3/l0mWmVTcqSK6xdZppp5oEtIbDzT5XXvnbZ8uY3v6H6P3PisP2nnHdKufi+i8u4ecb9m21/6vGnSt8NfaXvmb4y/RLTlxnHzTiw5XkevPPBsspsq5St1t+qzDjjv2/vdqThlVdeWU488cSy//77D6ydciJ0pgJ9c06+6ORyy3S3lDnmeeFzS9bH7nisLDfrcmWHzXYYWPs8+vZcctUl5ex/nl2mX+Dfjf79995fTvvDaeX6c+4v221xQFl33Qid8Cw333xlufucw8p/LDNLWWHRCJ3R5Lp+h3PM9U+XJ5bcpCyydIROeCFPP/1UvyNetuy11/NCR5eEv57313LZg5eVcXMPIXSeeKo8ft3jVeiMW3rc0ELnrgfLCuNWKNtuuG1PzpYcoTMNce+995bTLzm9/OPBf5S5FpxrYO2zPPnEk2W6e6crayywRtlgrQ2GnCPhqn9eVU79x6nlkdkfqc1Wndxzxz3llN+cUu6/5uGy794fKttvH6ETnuWaq68slx15WNlyjlnKUi+P0BlNbr7/wXLuI0+XudbbpCy/6tpl5pkjdMLzEDrrrrts2WOP54UOl6oT8nm3n1dmmW+WfxM6jz/0eJnj3n4/+UwpD8/3cJlx/L8LnYdue6i88uWvLButvVFPDj2P0JmG8GNccd0V5cRLTizTvXy6MtO4mcp0/X/P9D1THrv3sbLQdAuVLdfessw3z9AzJN//wP3ljAvPKBffeXGZa/G5npsZ8+mnni63X3t7Oe23p5Un736yfOiAD5Wdd47QCc/CAJx/2GFl41lmKUuMlZcAjlGhc+uDD5aLnn66LLDJJmWVtSN0wgsRvfHuqje84Xmhg9vvuL0cddZR5cn5niwzzDJD9QvgM+695t7ymjVfU2aYfoZy5N+OLHMuNWeZYcZnxUxf/5+Iz1PXP1XesPkb6uuEepGRFjpjw9pMoxAmSyy0RFlribXKM7c9Ux6/9/Hy5ENPlsfverzM8/Q8ZY2l1yjzzDXPwN7/zpxzzFnWXWXd8op5X1EevfnR8sQDT9Tjn7zryTLv0/OWZeZfprxs3MsG9g4hhDAWWGD+BcqGy29YnvjXE+Xxu/v9wsNPVvt+z5X3lI2W2qisuNyKZYXlVijrL7J+ue+a+561/f378CEPX/Vw2XqNres7FMPIEKEzlYwfP76svcraZce1dyyrjFulLPnMkmWd+dYp26y1TVl2yWUn+f4S78PabJ3NylYrblWWnX7ZstQzS5WNF9u4bLPeNmXRhRfN+09CCGEMsspKq5Q3bfumsvocq5fFn1q8LDf9cuWNm7yxbLTuRrWDMdv+qk1eVfbcdM+y/AzLl8WfXLysOm7V8vZXv72svNLKQ3Z3CFNGvOgIMG6WcWWZpZYpW26yZdlh8x3KhutsWBZcYMFht60Kd6660qplu822K9tvvn1Za/W1ypxzzpmMHkIIYxgV2Vdt8Kry6i1eXbbdbNuy9JJLv8AvsPGLL7542eZV25RXb/nqsvkmm+dl0KNAhM4IM7XiJOImhBC6i+HY9dj+0SNCJ4QQQghdS4ROCCGEELqWCJ0QQgghdC0ROiGEEELoWiJ0QgghhNC1ROiEEEIIoWuJ0AkhhBBC1xKhE0IIIYSuJUInhBBCCF1LhE4IIYQQupYInRBCCCF0LRE60yjebDvLLLOUWWedtb7pNoQQwrSF91N5KfO4cePyrqppmAidaZTx48eXjTfeuLzxjW8syy+//MDaEEII0wrEzf7771+22GKLMtNMMw2sDdMaETrTKITOhhtuWHbfffey3HLLDawNIYQwrSDyvu+++5ZXvepVZeaZZx5YG6Y1InRCCCGE0LVE6IQQQgiha4nQCSGEEELXEqETQgghhK4lQmcCPPPMM+WJJ54oTz/9dF2efPLJ0tfXVxf/P/bYY+Wpp54a2Pt57Pvoo4/WY9v+jzzySLn//vvrtuFgvwcffLAu7mNaRBpYpIHPafU+QwhjC7bk8ccfr7al2d5mX6xje61jWzvx3TbHjqQ9Ys/vu+++Ie39tEB7bs/M70ib8EIidCbAnXfeWc4999xyww03lJtuuqlcfvnlzwmYK6+8shx99NHlsssue4F4URCuvvrquu3888+vQsX+p556ajnkkEPKHXfcMbDnxLnnnnvKUUcdVY488sh6jmkRz37ppZeWf/3rX+Wiiy4qd91118CWEEKYch544IFy+umnV9vC9v7973+vNpF9/ec//1mOO+64apsffvjhgSOehX39y1/+Uk455ZRqj0ZC7DjHGWecUb7//e+XW2+9dUQF1EhB2Hjue++9t1x44YXlkksuGdgSGhE6Q0AhX3XVVeW73/1uOeuss2qhIjoUNoXr2GOPLfvtt1/5zne+U5V+Q6H83ve+V97//veXH//4x+W2226r5yJW7r777ueUtnVtUXCIJf83FGjnlXGbkOo8xjrHtWM613XS9u+krWvrO78PdS9DrcNvf/vb8pvf/KaKuF/96lc1vUIIYWq55ZZbyle/+tUqdv72t7+Vww47rAoc9vPkk08uH//4x8sBBxxQrrnmmufsks+f/vSn5YMf/GD54he/WCucLQLTadsG20gMtm2wrq1/6KGHyu23314rrWjbLJNjMwd/RztPo/3vc/D9DrUOKuCf+MQnahodeuih1S6HFxKhMwFkJgVLxrIoNC1TmqnYPDdqHIRQW++7zLbwwgs/13RlboUtt9yy7LPPPmWBBRao5yV81DhEja699tpaYH1vBXPeeectr3vd6+ocOnPMMUddr+mLWCKe7O86aj5ClmoyznP99dfXc7uu6yigjusMZSoUruXTfk2EEVU33nhjNRCuIfzr+M51raDDPbWlpVMIIUwt7BJb02l7m3P3/9xzz11tncg6+wcVw2OOOabaTja3c392ls38xz/+UW10ZzcCtst2tq4dw/axqdbBHDkqr4suumidINDxjlHxZXdV8thU52JP2zp2tZ3TNmLJuTthV917e2Yiz3Vd3/Ox82y153C8ddddd13tDtFox/p0HfuGFzLDf/cz8P8UI7OddtppNUN4bUE3IMNpnllhhRXqjJcy9xprrFFFjswmYytwMtwGG2xQM7DaBlGw0kor1Yy36aabljnnnLOGEy2LL754LShCocKvCsMJJ5xQay4ytkI611xz1cJCQIkQLbbYYjWKdNJJJ5W//vWv5eKLL65hyvPOO68WCALFdZ3vggsuqPe+0EIL1U+RKIV7nnnmKbPPPntd53j7eg7CS0TG8e7FfZx44onliiuuqPepwIpeWee53Jt7nGGGGcqZZ55ZzzHffPPVtPHM7jWMPgzoLZdeWhbvT/+5Zp11YO00ziz9hnnZ80p5YIFSbl6xf8XYmC7/of5yfHu/A5ltiSXK/P0VGHk/jC4EBFu06qqr1lfgEAP+f/nLX16bsdg9foYNXn311at9Y8csJllle9ddd90qTAgS0efjjz++ntPxKojOpbLKdv3617+uZYrdZOs1xRNNbCZ7x2ayd+zby172svKnP/2p2m028c9//nO9Ln/hfOz2H//4x2qrNXUtu+yyzz2DiNMiiyxS/Qb7Sph86Utfqvae/bTPQQcdVP2pe2Wn+QpiyfKHP/yhruNrTVS49NJLVxvM93iG17zmNdV2u4/NN998IDXHJtLGb0Lo+S2nlkR0hkAmlCF33HHHmgGJHQWoiQUoFGYs1ndHm6i+PH4UYkgGbFDXRIQCIEPLlPrvHH744bWQmTpcISZcZGKFmLBR2BRKmd53mVvh806Vrbfeuhaen//85zWsa52MrTAoZAQaZU+QCf12Nq+5T6LJvarV2FcBPOecc+pzrrfeevVePv/5z5ezzz67rLjiivVVFO5FYVJ4ZULrNtlkk3rvm222WU2vEEKYWoiL1772teUVr3hFtbHsy4ILLlidO4iRbbfdtjp1YoMdJTzY6KWWWuoFYpTomX/++cs222xTXv/619ftmnZUAtlitlNlVZMPmyuC/YMf/KDaR++wck3RIGKGHWVjVSh/8pOfVGGy1VZblfXXX7/2qfy///u/epwI/tprr11+97vfVcHDFquQqjQ6hv1sEC/8gfPahygjdoi3XXbZpT7Lxz72sfLDH/6wijPpwvZ/5StfqX4FnuGtb31rrbi6tgp2eCEROhOAeqeQV1555ersN9pooxcIHYVgzTXXrBENIkYGJ0ism9RU4DKvArfddtuVHXbYoQoqmVTn3k5R0onrrbPOOjXzv/rVr6735hjnUYB33nnnKnZEhkRxJgeFavvtt6/NZXvuuWcVdwod0bbbbrs9974t51VzIQQVJhE8NSqFK9GcEMJIwKa+4Q1vqJUolS9iQsWyCR2oaHH8RALRolK30047VUHUiaiOiuFaa61Vz+U43QFuvvnmKnSIBjaObf/Rj35Uvv3tb9dIOnu6xBJLvOCanbB3rkdAseG+i0S96U1vqnZ97733rtdWaZzcpiQ21fM7t76gmtv4jD322KM+y6c//ekqmKyH6JbrSSMCkF0OLyRCZwLI4GoOMphFiJCDb/hfU9QyyyxThY5QIzEik04KClwEREF1Htchjlqb9FDIzEKeQqfuzXc1FZnb+do67blqOBOiszbRUCD1K/KM7kXhJ2w8n3WenyFwr2onsL5t8zkhgxBCCJNDs4lsC7sylH2xXWWPs9e0zhZaHNOJfi2amr7xjW+Uz33uc+VrX/tajdyoyDUBorJIWBBNBpOo1L7yla+s9nRCEGNsovtif9lmtlizUadNF5EfyuZODNdvleUll1yyXkN0yzlBqFk6++m415ZWlvBC4p2mAhEVURZtxQqJMCuRMCkUhLZ0MrECYV8ZufOYwccP/o7WvgvnH6qzmuMGn7cZmcbgfUII4aVEJEV3ANN56C6gP+RgNB8ZFapiqdlH1Jqd7hREmrfYRGKFgNF0xmZOzB6zjc0+Nts4MfvYtjdbDJXaoa6hMtvO1XmNTiZ2rfDvROhMBTIbxa0zslrBcJqtXiwUZDUNhkDtBaI9+thMLOITQghjAcJE5EUTl34ynV0LGvpQarLadddda1OQiHunjSY09HU54ogjaqdX+4kAqbhq2hop2GJRF81iTUT53zUmJqjCyBChMwU0NU/oaMf9yEc+Uv73f/+3FjjrLJ01Bt8Hq/92fKOdE5PajrZP5zq04xQsTVJEjhED+v/o0KxzspBnO3c7R+e1/O/+O9cNtV946WAaH3vyyfJgv6EcC8vD/bXmZ/oN+hNPP1UeevyJIfeZFpdH+tPYffdn/GcTPrykdNohTTnvfve7a78azT2EhPWddkqERsRd/0Kix4APg0dEcWDwhw7Bmpj0rzEPjz6LBnXoj0iUDLZ9g79jYuvQ+lPqCO36BoGINql0tn0cO9juwrq2T2Oo/cKEyfDyyUTTj6iIsKOe9WoRRIVwo8xnu45uPjVr2a7AUO72t6/tMqkIkH49tpkXQk3DMQqwfbT3Ek8Uv3Nol9U52jkUEO3P+ta0UKyhlGoJajBqLs6tg5zQrgkPjVBwDm3Jri3cq41b2Nb+CiPa8HL3qx8RHOuZrHN8eOnwm9545ZXl4X4jfVt/2bvp4Yen+eXucm+Zd5Wry+23zVkuumTecuPDjwy537S23NZfNp/oL4fz9juply+4YC1n4aWB6DBqlL1kr9gmdld3gdYvRSdd5cNACn12bDd9hhGrRj2xq/pVOp4tNXjDegM6RHQ0W2nm0udSH0X/OydBxDaznzo+ywdGqGou4wtEhdyHkV/NB5pSxPlEm9hydt1wcSOr9Ctq3Rx0lHYug1kcY5SZCjQbzDYTZ6JR7HrDKDDn9SzdCJ83ksPLp+s/4VTHzYwUMhz5wAMPrBmhm5HxFCTiTg//wU1VMr0ahKgJQWC7/WVi+ysgfkA1CsLCdgJCgfPpGBncOaCwKuC+W69wK9TO77xEjxoIxW9+CIXSb9BGH1inYNpXwTUXjntxjP9dV5OW8xJGIKo8n/tTQEHcuab7GSpEHF48GOt//P3vpa/f4I8VXjb+obLG+qeWu25fuFxz6eqlb4zMo9Nf6Mq4/nKxaH+lYLF+55OOni8dXJXKHDvEXhEKbGInfBFbx06xXWynSqSKmt9Op142nOhgA1UW2UMVxtaRuFVW/W89G2phm4kY29hv29hfNp/N9CmK3vIIJ83eW9ciMib7E1kikFZbbbVaMWWv7cPmmrvM/2wz3L8ovC4SolOQDiJU7kfzXTfiufktgnD//fcfWDvlROiEMMZgZBnFscT00z/TX7s2I62RKM+K57ECJ8UxqpQMdqwhhJEnQieEEEIIXctIC50X9nAKIYQXic461gjUt0IIQ5CyFaHzHDq4af/VX6Uhg/iuH4u+LzoAa4fthPLUjCCqZSi371ODa2ojdi7Xc18Tw7W1Sev30xZt2J2Z2z07j7bphuYPbdOu1XDv1nU+b+d257G9Xc+ILtfqfObWd2hS9x2mffz2LV93Im9ZZ5t8NLnIL/o8tH4NrtM6fIbewu8/lM2Sr9gR+UL/RPakcztb1gZkTMg2jxTNLrqfwfc5FOxipz32vfPeHO88nWXHds8wuEnaPp5fH0mfncfA/u067k+56rTHruU45+5lMuqqH5lMmMw7oHRy08GL8ZW5DM32Ek0dwvT411av0672esfZR096veAJJR1+B3dQnhw4DzN3Sk8dznS40wltQn0DvHDOiALvX3GcRZ8CHdog03Mg7t39GoUg87dOce5Vc6Nt3vPiuqeccko9n2N0prPdfgqRWaA9r+GRFkbGPUoT1/VeGMe7zsTuO0zbyDc6XXqHj5F5q6yyynO/JaP/+9//vo4Q0WmydZIcLuyFPOTdaUbxyVc/+9nPap7Jq0R6Cw7avDXsi3zEhrCB7K33V7E37Iw8owOvzr/yYXuhJlvjNQtslc7E9hnJkXHKgQ7C7LuFwDISa2Kd0n/84x/Xe2Kb2WOdko2ikr8JFef0fHwMX8P2emajvzybgSQ+rXMeo2bN62OKEMdIJ36WHbfOkHV21//t/Vc6Y0tL98s/8CXKsHVjAc8mb4zUqKsInX4oYSKHaPFeFQWFEPDiNoaeIydwZE4GmlMnaGQ6md87Uggiqtk7oNropSlBwfCyTvdDfClU3rU1oQyqcBxyyCFVtatli8Y4xiscFBTOigCTYXyX8T0fJ+U3UyA4FyMTfvnLX9aX0DEm9iF2vMxTwTLCwHnMMqrQwDFEIMdnmCNB5PycoE/rxmJ+CM+Kfw7my1/+cs3b3qFD1Fhv+oEPfOAD1dnIm23YK+PUuQwWuW29KKl8ZsoDs9Va56WyRpZwCG2/tqDzXG1d5z6DrxWmfeQljtxiigwOni0xv4yXFbPLhICRScQQmyJ/EDRslzxENMhP7DBHb1j5pEYiiaYQRmwTuz6xvEOYEBKuzxe4tmHdE7Nr73rXu54bpdpGiRmazi8QP/yE/M5/OL9PtttLQdlaQ9/5VC9+5lvsY4QVG+5eiCzvI/Tpvj7zmc/U73yAFzE7jh9qFRBRr29961vVP4+VUVrKdITOCKKgtCiEDGbIn1AjZ63w7LvvvuW9731vndtAIeLkzbFgDgaZzxBsb/HmBEROTFw1NULHsWZadh9+aOc3JHJCQkeBUXDc4zvf+c76MjrKHQrz8ccfX8WKWrlCxiiI9mg2IOaagVGA7Pcf//EfZa+99qovCFV4vDBP1IZwklaEnjkfTNRlCnbnc15z8hB/hp67ljRyHUuc0NjDby3/ELsMqjKhfDPaDKk8wWia50lZYKw5JOKXuCaq/e4qCYyWPKqc2YdBVo4Iee8YYpBNpkbosB8iPK7tXK6jXFmv1q8Jg+FWNnzaz7Vss0/y2tiBcyd22QzOTDSG6BHdk9eIaS/I9CJL+/7iF7+oFS55hU30rivzy1j89ip87JaK28TygajHF7/4xbLssss+F/mYELbJl+bZYdPkVTZeZXBCfP/736+22P17CbNn8GzKgSiUZxY9l3fZU5UFgovAY7vNcWZSQcJn9913L1y0a3rxMtHzoQ99qGyxxRb1OdlnERt2XjrxHSZQVE58d//STMXZ9c3ZMxbKyEgLnZ7vo0OkMaiMKWcOBlRtlgH3pvCWMRQwmZaxJwqsl/EVlpHKPAQTASXjDwfXZQTUZhREkRoZxHrCQ02C46D0OR0ZXfNcJ5yPSBJRpaApxAoIEeRtv9LC9ganJg0UJtcZHCo2LbuaDINi3zB2EW73dnqTrslHRIUmTwKl5Xk1cyLm4IMPLt/85jfrCxT9L0JIIMmfwu+f/exn67ZDDz20CqiG2u9XvvKVKtoZcvlGjf6ggw4qX//618t3vvOd2oRBfIlYOi9j/tOf/rS+pFHUSTOHGn8YO8gX8ge7IxrMVhDA7KmoSYs+sIUEg3lvOHbHNHEiP3CGbB7H3+bCmRicqLw0HFzH/SgHkzpvQ3nQ3CUSKgBA0Hg25yLE+BU2ldghZEREO8/t/vgXz6Iy2Z7V5179lVD+wWzOnahwssn2kU6dZYF9VknnG5SvXqTnhQ5nrdYok6hZKABEj4wnStEyGawz06UohbCqYycH55YBLQqDDD21EFoytsKuGeuHP/xhnUmTQ2IECA6ZnGATuRHJce+dKHDW2a7m0WBgiDuFlCGBZ+CIDPszw6fmPDUGxqChycp5XIsxC2MXkRLC1Sej3WbNFhpv+I01acpHb3vb2+orUUQ5TaNPvGjiUttWU/3EJz5Rm6s6BbByxDHIs6JHypfa695771122223Wk7kbXnPvi2/qmUfcMABVZCLvjL2YezApvgd2RnO2G+r0tlsWqftZWPYFfu335kN1XSueUdUQ6XMfkMJEsfJh4SUSLa8xmb6bhFlHK74mRTu0/lVPHVDIPpdy/22rg/KhyiN6Lel0xcoG+5VM93gyVmlldmXRXycD+5bREcaKGfQ1NyQjiKvQ9n+XqHnhQ7RIarDwMpEnWqfcR+MAmlfx01OwZB5FWLtygqnEO1IZDo1hE996lO16WqfffaptSNOQYSnNavZR0hT/yOFhFjrpBUY4V/P1ok0UFDas0oftRGFSvOe2rgaCpHUUJClpZpXnM/I0PJlp0F8MeA0iFhCWSRFLVWTJkfUIHQ0faqBEteEsHXuVSSRI2H43/zmN9cwvSZikcYJoaxwRoQVIa0pTMSo5VO1f06CgBeFFblUOWnbp4aWzhNL6+HsEyYNcdFsLxsjLdlV3wdHiSHS3NId8iZRIU/Jj0Q48dS2dyISJPonqvjd7363NrdrYvrc5z5X1xEl7mUk0CxGgOurQ/gTN2y+Z5NvlSX2WPOc5rehmvfdC3s8VDqwryIz7TnlexFTFQv9iDT1EH0NacsXaD4Wle1Fel7oyGDNkVtkLAZbYRMNkTkbtssoMoywqow4XGRctVuheAWB0id8Jhf30CmyiBaFnfonODgQ0Sk1ZM9hOxFC0XMKber0TjSXMSKet7MgKECMkfRxLkgfNWm1FIbDdYkqDq4Zfcf5v9XUwpThN5bXhLEJBs038lDr0NjyAAgJTUpGZxAIopQjhbA946yWSeQy1p2G2X3IJ5wF52E54ogjalSPgVVTlw9aU4T/h+rHJs94Dsc6hzLYpr7vzPPWO77dg0/Htvw3uTgvoURMcYjSWjprrlUL7ow+Ee9+D9uJPp/6GjVhF4YP+9lsb7MXfms2yNKZv3VS9ls0WwX5iGAgoD/60Y9WoUMYDyVYRHqaANB8T7yLMPpu0ewlX00JnXkT7GzrWN/6dio77KL1bLL17LX76qw0wHPZT5kaHBEncJRz9yu94FMkX2TrPe95T43ou17Ljz6VwQkJyF6g54WOiEXrKEYgMJoMMkHAqHPiMhtDqGapndN+xIUMJuNxOtYpYP63b6dAAsOsPVaHMx3SiAQFYDCOc7xrypwKuHP6HzK/GjODywAzCP73aRvBIUOr9TbcpxDohDrQCf3r3Kc2RCC1ZyDEGH415s4XykE6adrTds4AMfjuFZysSI5CPDj0GoaPdBQpMeP4//zP/9T+LV/4whfKJz/5ybre790QIfzSl75U99XsYzTGSNHKhOggA8uAd6IMEdh77LFHjfqI9MnnRi3uueeeVew4BxEmX4lkCuUPRhkkdPRpEH00I6pP+Y9DHA1cU343GOGrX/1q+fSnP137/OgIqqbPgbADTeyITklnlRWfoqlmhXc8GxCGj74m7AMbSgSwT2yi30PTDFvW7J9IuOixaCLbJp80u2dpjtyncw3G4A7RFYMo3vjGN9YokArbfvvtV9eZ5mCoCL78wZa5B/fJxru239o2EBXKIrHjfuVv9+QYeVkFko9peVhZIG6GEvsgRqSD8/A3zuN6PpuwZncH4/75GB2V5d3O7gZEvHI4OJrfK/T8qCuZj/HVTiqEyIgrcKIeMrBanYzuf4VNbZoaZ4Dtp7+A/irWK4gyqcImY3dGTmRu17K9KWvrBiNz6qip9k7QSFviR7qq7Vivacr5FRTOg5OT+dVm1DJbH4eJZWoZ3/0SMEYfEEOcj4UBIXh0QPV8eu8baSUdFDwGSm1EwVLD4ggUaOLPPeovId0UOPsN9Zxh4vjdzTOj062RdEZxiKqIpjC4P/vZz2qtlOGXl3QoF3UjOIzq0GlezXVKYRzlDw5HuXYtYlit2O/v/nQA5kBaB3bO3noCTf6SJ9yTiKLv8oTzyqvysXzR+usoW4y7miwx4Xmgli7CokxxTByJde6Hs1I2NHPZX5kUfZocpKXyJsKqjBll6Z6UcffumZQJ6UzsKSfKy4477lhH+6i9ux/2w/23qFWYNPJCm8tLmrJnzaZKU45eJcrvI0rh91YW5Cc2hr1jI9kfedH55JFJCWOixDnlZfloYvs6p3yrwidi2USUY1SGlT1lVN5RCWA329QgnkG+lvdf97rX1QrlhK7lWVt5ko+IOXnadeVRZYmtZxP0mXvrW99a/YvyqWlMU5nyxLfwYSocriddm71wf/rujAV7TETyhcreSIy66nmhI6NKVIWLYuYcZBaZmEFXq5BpZTgZjePWSbKJiJYZZWBOn+FlDGWqzqjKcJHhiSYjv9R2pCdHQI0TMJyPfYgKRlUhIj4UeBlD5tbuyyh4tglBtDh3EycWz8QIMD7Ek2gWx9lEk0LvXhQk9yKdOBYOQR4wf497NiJA+nE8MfxTBsMmwsDxi9Iw3vKXfKAZUvOJhUOW5qJnQvFqikYpTa3QUSYYSJ+u5xrEtXuQ1+UF5YXIkRcsUFYsxA5DzNDa5v4ZLfnVsUSTMqLpQT4lYFzH8zpO9NR53IM8SlAweO2+nFP59J0I4iA5CWVvciDqdeRUkdGnQjOGvC7/unc1aQ6oRTWVaf9zkMqMdCFy2AnPYl0YHn539kxeN+hBuhM78oXfWF7hyP0+0pXdbXbN72UbMUEMOU4TFpEwVGSmE+eWZ+Rdv+fEHL+8SkixifZVvtg6do0dlN8IoWYTRXJUNol1z+Xcu+66a/WN8uiErsWuiuLLw87FrrLl1jkXW0zsud7//u//1vwH+ZMdbgLG4h75IXnTOZQl0VWRLGVpLKBcj6TQccKppt9Y9H34wx/u6zd8A2vGFv1Ov6+/MPV9+tOf7us3WANr+/r6M3lff4bp68/Yff2Zue9973tfX78x7OtP/IE9nt2nP5O+YHGM9VNCu+bg8/XXJF6wvZ3fevv0F97JurZ9HNu5bzu3c/WLrb6PfOQjNU36RdQLrtfupdF5rn7D0/eJT3yi78QTT/y3/cLw6a+l9fUb9b7DDz+8/iadSOf+Gltfv0Po6xffA2ufpd+49vULz74f/OAHA2umnJYf2m8/mMHb/N4Ty4u+t/VtsX3wddr3dp7OPGdby2uNtm5ycZz8+t73vrdvn3326euvtAxseZ5TTjmlb5dddun70pe+1NfvxOq6flHW1+9o+84666y+Qw89tK/fAfd94Qtf6OuvnNTtYfj0O/G+z33uczUt/d5ov6ffvt/Z9X3zm9/se9vb3tbXX5nu6xcodZ+23TGWzvwzKew3Ofu3a3UunfnNudr3du4J7Tsh2nGD923X5lu/8pWv9G2xxRY17zXa9sFYb5E2P/7xj2selW/HCu69X1z2HXTQQQNrpo7RafgeY1DaagJqZFRkgzpWexD5UNtU4/Mp+tOfds/tQ1F3Lo6ZkHKfFO2ag8/XQp5tezu/9fah9Cfn2vZxbOe+7dzOJVT/lre8pdag1GD6C2LdxzHtXhqd5+ovrDUCpGYyeL8wfPQDsKiBDZXeIg6tD8No0fKDz6EYvM19Tiwv+t7Wt8X2wddp39t5nLelgW3+b/uirZtclGHpJzKlhj5UNFqt2DZRVOXAMaKtRxxxRPnYxz5Wa9eioCKfiV5OPvK35tjODrnt9/TbW6+ZRoRStKT1g2rb5RFLZ/6ZFPabnP3btTqXzvzmXO17O/eE9p0Q7bjB+7ZriybpT/SmN72pRrIabftgrG/n4t/e//73v6ArRa8x6V+gRxAK1BeFYx8KGVGzlV7tOmUOt5CMVRQezQvavIk7hXA4CAczXAnhTx3NSDbnOpj+mlo18IMNYxg+yrD0k7f7a8XPiflO+muWVbz7LVpac74mUeR49tprr/pdn6ORHOnWK8jDml81sfh/KDh5E1SaPE/Taa+iOUt+0xQ2XKSpQQJseC8TKxnCNAjnqc+CfjiDhQ6HrO1aW34vG/6RgBMVHROxadGChnQW4RU5UxHiaIgjfZV0zud83/72t9c+BPqT6JMxlCgNk6bbK47hpSVCJ4RpkDayzSRgOhPqPCnqIJKjA7wpCsxOrAM4OOW2D0Qh7OszDA3nSlCKJmi+0iRA7LR01lHWyB7pah+dXHXit9je0pe4kf5DRYRCCC89eXt5CNMgRpFoUjHE3/QHnLLIgsiBOXSMNjETtuZF2/TnMVLOdsPLjRjSNs9pc+apMQ+NNLYYom60oyYq0R0jqcxmq0mKXTOcXDOW0S9G4Oino6+eEY/2EVkznYIoXAhh6lB5GMlRVxE6IUyDECaGqxpObrgqR2y4taH7ytqHP/zh2kGzDaXVbOI9N+bxaH1JRH447klNNdDLSBdNUZqm9LExIZuhywQmAaOTsc6wfgtDfU0lIZrWhvwSlsTNTjvtVNN5Qv1MQgjDZ6SFznT9J5zqRmW1SbODmu9Dm3cIYWTQHMKZiuaoUJhx2KzH3vZtvqTmWDW9iDR0Qixx4OamSafliaMJygy2BCN7psnKRKAmZ/vABz5QJ6mzjxFWBKTRWkynkSyaGW2PyAlhZGD3VOyUQTOkTy0ROiGMERRVUQdvADepmreEa+IKI0tLZ02AojYmWut8SWIIYXSJ0Amhh1FcRRYsIgiapsLoII31cdK8NanZdkMII8dIC53Es0MYQ2iOInAMdY7IGV2kr3SOyAlhbBOhE0IIIYSuJUInhBBCCF1LhE4Iw8CIJ3029JHRb8PcNkbetEnirLePdRb/d25rmHzOhHMT6xrnuHYe+78UtPvz6X49j3lk/O9zKOzbOWnh5OJ4aewcrmFCvpYOlpZuzm9iv7bOMYOxzj7tOYZCOjveeTp/r5eClnYW9+HT808IaWD7S3nPIYwVMo9OCJNA/jZvir4a+seYWM6Q7+uvv746ZPOw+DRhn0nkzGTMeeqYb3/7+l+nVh3sDE82HHlCQ74NFT/99NPrkPJbbrmlHuflki/GpH8crvliPIf5YTyX+yfs3IeJCj2LyQgHw/kanu3liybQm9z7dS0T8XlmfWOko3SXXuYHMvzbvEIm87vsssvqyCiT+7E5FvNuEC6GfNvXiKmFF1643vdQ3HvvvfUVG84nrYkL6fxi9X2STu7B9aSV5zWww7PIW/LQUOlI3LhfizwZmxu6DXZoJOfRSUQnhEnA8ZpIjgBRi77ooouqQzdvzfe+970qCgiBI444olx11VXVSXHYHD/R8P3vf7++ToBgMj+LSgEHpyBz7oPhwA4//PA6SeAZZ5xRfvCDH1QnDNdxbg69wWG6lk/nYyQIAHO+WA/O0fbOa9rmvO6RMPDdNgLBPVtvu2Pa+Qgwzrgdb5vzuqZrSCvPN7FoxIQQgSEiTdjnPqSRtCSujjnmmHL88cdX53/BBReUk046qRpB17POvtadeuqp9TzE0QknnFDTy7YWDerEsV6x4bclUn/729/W10DYz2/l2fzm7dk8k/UtAmS9a0kX6+xjnWu1d2d1Hmsf6316PvnHM8lLjnGf0tY9y2Oe27GiU+7DtvZ72pcIlK9cI4QwYRLRCWEicCKcLyGwxhpr1Bq/CeK8DXiZZZapE/d5DYO3tXs1w7bbblvfi2QR6RExOPjgg+s7qZQNQogjB2dmnWM7a+0cMMe777771uM+/vGPlz333LM6VOVMVIiD8zJKkY8f/vCH1ZFy/HPPPXd11mZTFqlw//bjNIkUx3KYIh1EBNEgWuIYwsbxxx13XJ2BeaWVVqr3x8mKOohOeR7Paz0RRri5jgiPCBBbQHCYUVhkZbi4T2ns+aSrV1g439JLL13TnCgw8/Dyyy9fhRiHv+GGG9Z0Nimi9DCZYouWeUYzG3se+xMt0rkzEkVguP9NNtmkrLDCCvV5HO/5vNrBQsS2N5y7B+nkWk2IuYa0JU783oTM2WefXfOM/81z5Lfx3dLEiUiM39/z+u2lJ2EknR3jnK65+OKL19/MjMzyDdHjmaSXdCeE/JYvVhQqhBcD+VuZTUQnhBcBDo3D0mQyfvz46uyJD803BADnycFxNAQQR8b5cZKcn2hHq5G3qAKBwaH6/NnPfvZctKYTx6j5c+gcn/OIOIhYECRHHXVUdZLO99GPfrQ6V/twxl/72tdq1Ifj5Khd+6CDDirnn39+dY6El/skWn7605/WyJFnPOKII2rziePaPbsWAUAQNdyT7+6dIfK8zukYoorT1qw0OXgO13Uc4cLJE0rSvEUyvEvKemJF2ngeC8EiDaWvc0h3v5vjCBNpTXxp7hoMoeAYx7tv34kf6StdPCfRJ10JwN///vf1fK5pH+nueKLHOrNW25+g9b/rEq7+99sRcz4tRKFFGrtX13U99wBpQqSJ7nlOv5fzSHPiz7Htha8hhAkToRPCROBgW8289fXg0DkyzR4777xzWW211arjee1rX1tWWWWV6qBEd/Rt2XzzzWuEwba11177OaHkhZwECkHkfJ04nsMXgdH84l1LnLhavhl6XcM1RWI4dI7RPq973euqKCE2zJr8jne8o74mgtix3ospHe/6nKZIgnc47bXXXuVNb3pTFRjEjdceEG277bZbjagMxr1w+l4Wutlmm9WIiKgDoeX5HMvpTy4iHwRDZySIaCE4RHJEN2xbffXV65vbpasoiZdvuq5IjHuX5u6NCN1ll13KHnvsUV+DQVh2Ip3ds8iKRVpstdVWVZgQPSJGInfSSRq69kYbbVTTWkSG0BB1k86u4141g4lIuQfpQBQRIv7fYYcdyn777VfzgefU/8Zv6Z1laq2DZ7n22zqfCNAGG2xQ1l9//XoPmjbdn/tyD/YLIUyYCJ0QJoJmC06FGOEYLZoQ9K0Q5SFgOChRBs6X4/eCR01KauntmLaA03Ne0QqiYTAcmOM5cud797vfXdcRAoSXe+G4OWLrXdu9wPk6O7C6puiH63G4RJEm5ubAiRsiwf/2sd3nxJync7oPuCfPz/mLajlehKNTrAwX1yUgmvBzD0Smpd2vZyVoNBFuvfXWVSAIcXtG2ztFozSULgSq33Aw9nc9goj42H333WtzXfutnItgIp78Fs4nbdt299sEB9rv43q2OxdxYr/W9OfTYru08jmhtLbN+ewH6SwdllhiieeOca12/RDC0ETohDAROCeOUP+Y1jyiyUZ0hdMT2WkjhTQviNBoyuGcNGlxcpy+PhaiHNZzTM052T4Uoi6iAuutt149njgSXXEPHJ5FFMnxLdLknI7R3CEapCnE/S211FI1GqKJhLiyOKf927Hw3fnct309j+fuvF+fnDthQAj47nyO0ZznOBGHoSJBE8N5CIkWVQLhoGmGU9cXxz7SX7ObJiP9mDRH6bOiP4/0IEJFl4gtz9Lue0K4b89CNIroeDbnaunjnH5nn75bnFfUDASvdJYfHCdC49ryjWPcG3HWjkX7X3r5PTVXaVL0vJ37OAex5Ldv4tEx0sl3vx0hZr8QwoRJZ+QQJgKHo3mjCQa18WOPPbY6LxEbDkrUgOPR78J+nK2at+YGzonj5nyJE+WDA+QQnYuj1lzS6aw4c+cWSWhCiJjg2Dh4QkJzDietmYQgEY0AZ227piniS1SgNa05Vh8RTV6ElHO6B518QdR4Ruewj+YVIg8+vUhU88zKK69cj9E053ldx+J5rdNcIxIlWjI5EE7uD+7Dd88ibdZcc816r4QUIWnRFOX5NP00ISQ9fUob2xzn031bJxLWEAWyXrMYgQXXkM6aDv2OnosAIWKawCEa/ZaiLURK69ckTeQFaaAfjfXyiXRjI0WFHO+3dR2RKdeXhvKF9LJdxMa9EVg6wLu+PkLOJy+6V+JPJMu+fsuWT0LoBpTZkeyMnJd6hjAJNJ3oVLrWWmtVp6LPRGu64VQ5J6KBI+KYOVQOqIl++1rvOycqqqMm7lh9PwY7KrV8Do24sE8nHC8hIVLQhBdRQvA0FGkO36d9OGWO0f0REiIEFs7UvXGo7okgI8zcp3vg7Ns292cboaGMuy7nTui5jgiOexXd4NRVeuwzOTiOQxcha0LJPTq/NIV7YW88i/VEhLSAZ3R/hKJ7bQLFfq1pi+BruJ79pY8oScM1pL90BuHn93UOz2R/uJ7fVZr6rQgQ6SS/yCPuof227snzED4t3T2TT88D57a4lrR1nP/9Fs7nnoglz0SE+X2INNcIoZtQBlUO8/byEF4kFBGOhpPkeDpFSXgeERi1MM68CZPJgXHj4IkPznxyI0K9QhNi0pu9TTqFbmOkhU4sdgiTQCTAXCWETkTOhBGN0HQzJSIH0la0RLQpznvCSCeRNlGkpFMIkyZWO4QQQghdS4ROCCGEELqWCJ0QQgghdC0ROiGEEELoWiJ0QgghhNC1ROiEEEIIoWuJ0AkhhBBC1xKhE0IIIYSuJUInhBBCCF1LhE4IIYQQupYInRBCCCF0LRE6IYQQQuhaInRCCCGE0LVE6IQQQgiha4nQCSGEEELXEqETQgghhK4lQieEEEIIXUuETgghhBC6lgidEEIIIXQtETohhBBC6FoidEIIIYTQtUTohBBCCKFridAJIYQQQtcSoRNCCCGEriVCJ4QQQghdS4ROCCGEELqWCJ0QQgghdC0ROiGEEELoWiJ0QgghhNC1ROiEEEIIoWuJ0AkhhBBC1xKhE0IIIYSuJUInhBBCCF1LhE4IIYQQupYInRBCCCF0LRE6IYQQQuhaInRCCCGE0LVE6IQQQgiha4nQCSGEEELXEqETQgghhK4lQieEEEIIXUuETgghhBC6lgidEEIIIXQtETohhBBC6Fqm6+tn4P8p5r777iuf/exny/ve974y++yzD6wNIYQQQpg8nnnmmXLdddeVc889t+y///4Da6ecERM6Bx54YFlvvfXKy172soG1vckDDzxQHnrooTL//POXGWeccWBt7yGj3nXXXTUN5pxzzjLDDDMMbOk9nnjiiZoWc801Vy0f00033cCW3kKeePjhh8uDDz7Y8+XjqaeeqrZi+umnr/mil3nsscfKnXfeWeaZZ54yfvz4gbW9ifJx8803l+WWW65n7QTYinvvvbfazmlK6HzqU58qO++8c89n1CuuuKJcf/31ZdNNN+1p0ceQn3XWWWW22WYrK664Yk+nhfJx5plnltVWW60svPDC1bn1Ik8++WT55z//WZeNNtqo5o1eRWXoyiuvLDPNNFPNF70MkXPGGWeUtddeuyy22GIDa3uTf/3rX+W4444r73znO3vWToDQue2226rom2aEzv3331++8Y1vlA9+8IM933R1ySWXlKuvvrpsu+22PS36CJ0TTzyxRnMY8llnnXVgS+9x991317RYd911y+KLL96zBkzt7KqrrqrL1ltv3dO2QlTr4osvLjPPPHNZZ511Btb2JhzaX/7ylyp+l1566YG1vQnf8bvf/a585CMf6Xmhc+2115bTTz+97LXXXgNrp5wZ/rufgf+nGCE2BXaJJZbo6SYKSAsGfL755uv5tPD8wtFzzDFHT6eFPDHLLLOUl7/85WXcuHE9HZKWD0RypEWv5wnRHBWB9GsstVwsuOCC9bOXkS+UD5GtXrYT8PyCBfLF1DIiER2nePzxx6sx7/Uf5+mnn65qVP+DXk8LUR1poGbSy2mhfEgLjr2Xa2lI+XgWeUJaSINeFnyQH5QPeaLXy4e00MTLl/Y6LV8IokwtIyJ0hsJNaodWmHuxRu+5dSzT4bD9WGpvmnB6zcB7fqH6Rx55pBp4NRa12F408J5fWuiAKU8oG71i3DVdacaTH9TURPt6Ec/PNqgc6rvWqxEdPkJZkBbspbRgI0W6eg1lQ+dbNhLsgk7qvSyC5Qkagr9kL6YmLUZF6DjlPffcU37/+99XZbr99tvXppxegsDRBn/55ZfXguzHWnbZZcuGG27YcwZeW+v5559fnZzaikKss/aSSy7ZcwX59ttvL0cddVTt17bIIouU17zmNT3RKZdTVx50OmUTOLMtt9yyLLXUUgN79AZso/IgHW699day5ppr1v58vQgfcfLJJ9c+OiAAjdxdffXVe27wgrwgLYzO5ODZxW222aassMIKPRn5VE6kiY7Z8847b9l8882r35hSRqUqqbZ60kkn1R/ur3/9a3X6vYZaOgfGmem7xMGfdtpp5R//+MfAHr2DgkuRG3Ek05533nk1b6jB9BpqbozYLbfcUjvaPfroo7VQdzt+a50sOTNDyzn7X/7yl1UA9Rp+b/ZAJYj461XYBc1V8sOiiy5aBQ+/oTLQaxD++q2p/PEXN9xwQ00L9qIXURHkI0444YRywQUXPBfpmlJGXOgIR954443l2GOPrcMFW/NVr6GJyrDqV73qVbXmusoqq1SnJqrRaxB7G2+8cU2H7bbbroanjbwx7LrXENnccccda01NflBeuh1O/ZprrikXXXRR2WmnncoWW2xRR6D9+c9/rsNpewm1c05dZJfwlza9CjvALohcsA3yBPvIyfWC+O9EM9UGG2xQy4a0kEdENHrBPgyGuDN62UjV5ZdfvlaGpjYdJkvotHZEIcfOxbpWMxV6I3LWWGONunRj2E2iU5hDpYVC6ocR0RGiV0vRhHfqqafW0Jvmq26CodbOPlRaNJErmqMgi3BZJ300WTB03YRI5lDpYNF8qXwIyS+wwAI1TXoFdoPQkVcMH5YXTIgmH4hs9RrywNxzz93zI/D0URPhZQeUDaJX2vTiVBQiW+yHFpAjjjiiNvWvuuqqI9IRdyzBt5o755xzzqlNmNJgJPowDvsMbuCmm24qv/nNb+oP0bkISV966aVV7JiyWU19l1126dpOZUSOkLPnHpwWf/rTn+qEgQ1GXnpw8NKw2wybMLMQ669//esXpIPv+iF0Rm3U1k455ZTa+XL99dfvur5KolREbWc6tEX4VbNNL0Lstk6Fmu18sg2WXk2T8Dy6Nhx99NHVbuqjYzhxLwpA5USlUcVIeeE7eq01RF648MILa5BA9HekhN5kSSWqU01UzbxzsY7RUpvl9LQ9H3744dXAM/5HHnlkFUHdgkLoBxicDha1EenU9jNBHNG3ww471PXSo5vguNTChsoXaqxNjRM5In3UuuY8ka1u64isDAyVDhYFtxeNN+R7NXdCn/FuEVERnV6fN6XXURE6/vjj64zyOpz28ozZonybbbZZ2X333WsT1tlnn91T/VvZhTvuuKO2fvztb3+rGoJ20KeT75iaStGwJwxkpDk0ExlxUp3LMsssU8PxDBoBwLn70Rg1nao22WSTOjtutzg2zync6jkHp4XOZM2oM+TSTJMVEajdURSjm6Z856j89pokBqeFvMLxK6w/+clP6qyfCvIrX/nKGtXpNsfPQA9VPiz6Y3SKHRFBr0LYaqutahp1swgidhkpBuwVr3hFLQ86GnoFwt57792Tw6vV2EX52BL2sRdR+SVy9N0S4ZUOmjV7rUKg2Y6vgOfnW9oM+2YQZx96hda8z16yE8qJKJf8oc/rlDZjTdbMyISKiMVQC4HDkOt7oeOtNnjfdUzeY489as/6bkFB9LxDpYMfifEi8BRiylSEizp3nMLsR+wW5AliZ6i08PvLmNqbDz300FqYRT3011CTI4alV7fg2YZKB4v84vfn8H/xi1/U94AJ1TP20lC4fiTaoqdFPJe00cwpLK3Wpjww4spDtz73UDDkbKLIt/ef6dOob4b1Oqr3UlpIh5///Oe1063nJvz12eLolZleEjzEnmZvNkEEwwhdU3B4PQh/0gv4vf3uKs00BC3RbKZmLCJwShmRV0A03JQMy3C3AuvGV1555frZS4hmaa6hRrWzivIYaaFGy+n1EtqcPfNCCy1URZFol0xL8HWT0BkO8gJn77lFf3wSOUamdbOTI3RE/gg7dkJFyPxavdhMYcAC566m3sqEiqD06SWho/nSIsqtHBB7/ISyIF/0itDxnAYraNbn1HXaN9rICFWVwV5isIawEL6i4irOU8qozYzstJy9jCw03SuqtMGheXahN2nhR5IOvSZyIB2a4Gsw7kKTvZYv5AWRDWKvwah3Y1PeYBhxTp5daM/ci4jgKA9taDljLj26vQlzMPKB/NA5xJ59ZBcI415KC2kgyi1NPLey0avlo8FWagWQJsoG8TOljJrQCSGEEEJ4qemdOGkIIYQQeo4InRBCCCF0LRE6IYQQQuhaInRCCCGE0LVE6IQQQgihSynl/wMf7NqUV0GNcQAAAABJRU5ErkJggg==)"
      ],
      "metadata": {
        "id": "--zyxpwvYy9K"
      }
    },
    {
      "cell_type": "code",
      "source": [
        "print('\\nPersebaran data sebelum ditangani Outlier: ')\n",
        "print(df_load[['tenure','MonthlyCharges','TotalCharges']].describe())"
      ],
      "metadata": {
        "colab": {
          "base_uri": "https://localhost:8080/"
        },
        "id": "kSMN7DZknQQK",
        "outputId": "ac743fa9-5f90-4748-b777-fb7fd19f033e"
      },
      "execution_count": null,
      "outputs": [
        {
          "output_type": "stream",
          "name": "stdout",
          "text": [
            "\n",
            "Persebaran data sebelum ditangani Outlier: \n",
            "            tenure  MonthlyCharges  TotalCharges\n",
            "count  6950.000000     6950.000000   6950.000000\n",
            "mean     32.477266       65.783741   2305.083460\n",
            "std      25.188910       50.457871   2578.651143\n",
            "min       0.000000        0.000000     19.000000\n",
            "25%       9.000000       36.462500    406.975000\n",
            "50%      29.000000       70.450000   1400.850000\n",
            "75%      55.000000       89.850000   3799.837500\n",
            "max     500.000000     2311.000000  80000.000000\n"
          ]
        }
      ]
    },
    {
      "cell_type": "markdown",
      "source": [
        "Note : `.describe()` untuk memperoleh statistik deskriptif kolom"
      ],
      "metadata": {
        "id": "viSKEJzYZCUf"
      }
    },
    {
      "cell_type": "code",
      "source": [
        "# Creating Box Plot\n",
        "import matplotlib.pyplot as plt\n",
        "import seaborn as sns\n",
        "        \n",
        "# Misal untuk kolom tenure\n",
        "plt.figure() #buat figure baru\n",
        "sns.boxplot(x=df_load['tenure'])\n",
        "plt.show()\n",
        "# dan seterusnya untuk kedua kolom yang tersisa secara berurut\n",
        "plt.figure()\n",
        "sns.boxplot(x=df_load['MonthlyCharges'])\n",
        "plt.show()\n",
        "plt.figure()\n",
        "sns.boxplot(x=df_load['TotalCharges'])\n",
        "plt.show()"
      ],
      "metadata": {
        "colab": {
          "base_uri": "https://localhost:8080/",
          "height": 803
        },
        "id": "wIl6xUBnnGVR",
        "outputId": "8ecd6204-ef8c-4b32-8b48-c4bbaf2786f1"
      },
      "execution_count": null,
      "outputs": [
        {
          "output_type": "display_data",
          "data": {
            "text/plain": [
              "<Figure size 432x288 with 1 Axes>"
            ],
            "image/png": "[encoded data removed]"
          },
          "metadata": {
            "needs_background": "light"
          }
        },
        {
          "output_type": "display_data",
          "data": {
            "text/plain": [
              "<Figure size 432x288 with 1 Axes>"
            ],
            "image/png": "[encoded data removed]"
          },
          "metadata": {
            "needs_background": "light"
          }
        },
        {
          "output_type": "display_data",
          "data": {
            "text/plain": [
              "<Figure size 432x288 with 1 Axes>"
            ],
            "image/png": "[encoded data removed]"
          },
          "metadata": {
            "needs_background": "light"
          }
        }
      ]
    },
    {
      "cell_type": "markdown",
      "source": [
        "### **Mengatasi Outlier**\n",
        "\n",
        "Metode interquartile range (IQR) dapat digunakan untuk mengatasi outlier.\n",
        "\n",
        "Gunakan beberapa fungsi berikut:\n",
        "- `.quantile()` untuk melihat kuantil tertentu\n",
        "- `.mask()` untuk menggantikan nilai\n",
        "\n",
        "Tentukan:\n",
        "- Nilai minimum dan maksimum data di tolerir\n",
        "- Ubah nilai yang di luar range minimum dan maksimum ke dalam nilai minimum dan maksimum"
      ],
      "metadata": {
        "id": "O9maqFHnnmjI"
      }
    },
    {
      "cell_type": "code",
      "source": [
        "# Your code goes here\n",
        "#Atasi outlier dengan IQR\n",
        "Q1 = (df_load[['tenure','MonthlyCharges','TotalCharges']]).quantile(0.25)\n",
        "Q3 = (df_load[['tenure','MonthlyCharges','TotalCharges']]).quantile(0.75)\n",
        "        \n",
        "IQR = Q3 - Q1\n",
        "maximum = Q3 + (1.5 * IQR)\n",
        "print('Nilai Maximum dari masing-masing Variable adalah: ')\n",
        "print(maximum)\n",
        "        \n",
        "minimum = Q1 - (1.5 * IQR)\n",
        "print('\\nNilai Minimum dari masing-masing Variable adalah: ')\n",
        "print(minimum)"
      ],
      "metadata": {
        "colab": {
          "base_uri": "https://localhost:8080/"
        },
        "id": "A4U3AnoBno8f",
        "outputId": "692b5969-9d40-4f5c-a54c-c58fb06eb48a"
      },
      "execution_count": null,
      "outputs": [
        {
          "output_type": "stream",
          "name": "stdout",
          "text": [
            "Nilai Maximum dari masing-masing Variable adalah: \n",
            "tenure             124.00000\n",
            "MonthlyCharges     169.93125\n",
            "TotalCharges      8889.13125\n",
            "dtype: float64\n",
            "\n",
            "Nilai Minimum dari masing-masing Variable adalah: \n",
            "tenure             -60.00000\n",
            "MonthlyCharges     -43.61875\n",
            "TotalCharges     -4682.31875\n",
            "dtype: float64\n"
          ]
        }
      ]
    },
    {
      "cell_type": "code",
      "source": [
        "more_than = (df_load > maximum)\n",
        "lower_than = (df_load < minimum)\n",
        "df_load = df_load.mask(more_than, maximum, axis=1)\n",
        "df_load = df_load.mask(lower_than, minimum, axis=1)\n",
        "print('\\nPersebaran data setelah ditangani Outlier: ')\n",
        "print(df_load[['tenure','MonthlyCharges','TotalCharges']].describe())"
      ],
      "metadata": {
        "colab": {
          "base_uri": "https://localhost:8080/"
        },
        "id": "il5IZzW6nw86",
        "outputId": "8060e52c-4dee-4a1a-9804-e3edfb3a274f"
      },
      "execution_count": null,
      "outputs": [
        {
          "output_type": "stream",
          "name": "stdout",
          "text": [
            "\n",
            "Persebaran data setelah ditangani Outlier: \n",
            "            tenure  MonthlyCharges  TotalCharges\n",
            "count  6950.000000     6950.000000   6950.000000\n",
            "mean     32.423165       64.992201   2286.058750\n",
            "std      24.581073       30.032040   2265.702553\n",
            "min       0.000000        0.000000     19.000000\n",
            "25%       9.000000       36.462500    406.975000\n",
            "50%      29.000000       70.450000   1400.850000\n",
            "75%      55.000000       89.850000   3799.837500\n",
            "max     124.000000      169.931250   8889.131250\n"
          ]
        },
        {
          "output_type": "stream",
          "name": "stderr",
          "text": [
            "<ipython-input-17-7aff4103278f>:1: FutureWarning: Automatic reindexing on DataFrame vs Series comparisons is deprecated and will raise ValueError in a future version.  Do `left, right = left.align(right, axis=1, copy=False)` before e.g. `left == right`\n",
            "  more_than = (df_load > maximum)\n",
            "<ipython-input-17-7aff4103278f>:2: FutureWarning: Automatic reindexing on DataFrame vs Series comparisons is deprecated and will raise ValueError in a future version.  Do `left, right = left.align(right, axis=1, copy=False)` before e.g. `left == right`\n",
            "  lower_than = (df_load < minimum)\n"
          ]
        }
      ]
    },
    {
      "cell_type": "markdown",
      "source": [
        "### **Kesimpulan**\n",
        "\n",
        "Dari ketiga boxplot dengan variabel tenure, MonthlyCharges, dan TotalCharges terlihat jelas ada outlier. Hal ini bisa diidentifikasi dari adanya titik-titik yang berada jauh dari gambar boxplot. Kemudian kalau kita lihat persebaran data dari kolom max juga ada nilai yang sangat tinggi sekali. Kemudian nilai outlier tersebut ditangani dengan cara merubah nilainya ke nilai max dan min dari IQR. Setelah ditangani outlier dan dilihat persebaran data sudah tidak ada lagi nilai outlier."
      ],
      "metadata": {
        "id": "AM_DRvW8Z9D0"
      }
    },
    {
      "cell_type": "markdown",
      "source": [
        "## **Menstandarisasi Nilai**"
      ],
      "metadata": {
        "id": "LYmBvtv1aCMV"
      }
    },
    {
      "cell_type": "markdown",
      "source": [
        "### **Mendeteksi Nilai yang tidak Standar**\n",
        "\n",
        "Hal ini biasanya terjadi karena kesalahan input data. Perbedaan istilah menjadi salah satu faktor yang sering terjadi.\n",
        "\n",
        "Gunakan `.value_counts()` untuk melihat jumlah data unique per variabel."
      ],
      "metadata": {
        "id": "-ddcoyk1oID2"
      }
    },
    {
      "cell_type": "code",
      "source": [
        "#Loop #Memasukkan variabel\n",
        "for col_name in list(['gender','SeniorCitizen','Partner','Dependents','PhoneService','MultipleLines','InternetService','OnlineSecurity','OnlineBackup','DeviceProtection','TechSupport','StreamingTV','StreamingMovies','Contract','PaperlessBilling','PaymentMethod','Churn']):\n",
        "        print('\\nUnique Values Count \\033[1m' + 'Before Standardized \\033[0m Variable',col_name)\n",
        "        print(df_load[col_name].value_counts())"
      ],
      "metadata": {
        "colab": {
          "base_uri": "https://localhost:8080/"
        },
        "id": "d7fNa9CxoL63",
        "outputId": "1bdeb97b-c91d-4246-a61c-ec4c9ea1f86f"
      },
      "execution_count": null,
      "outputs": [
        {
          "output_type": "stream",
          "name": "stdout",
          "text": [
            "\n",
            "Unique Values Count \u001b[1mBefore Standardized \u001b[0m Variable gender\n",
            "Male         3499\n",
            "Female       3431\n",
            "Wanita         14\n",
            "Laki-Laki       6\n",
            "Name: gender, dtype: int64\n",
            "\n",
            "Unique Values Count \u001b[1mBefore Standardized \u001b[0m Variable SeniorCitizen\n",
            "0    5822\n",
            "1    1128\n",
            "Name: SeniorCitizen, dtype: int64\n",
            "\n",
            "Unique Values Count \u001b[1mBefore Standardized \u001b[0m Variable Partner\n",
            "No     3591\n",
            "Yes    3359\n",
            "Name: Partner, dtype: int64\n",
            "\n",
            "Unique Values Count \u001b[1mBefore Standardized \u001b[0m Variable Dependents\n",
            "No     4870\n",
            "Yes    2060\n",
            "Iya      20\n",
            "Name: Dependents, dtype: int64\n",
            "\n",
            "Unique Values Count \u001b[1mBefore Standardized \u001b[0m Variable PhoneService\n",
            "Yes    6281\n",
            "No      669\n",
            "Name: PhoneService, dtype: int64\n",
            "\n",
            "Unique Values Count \u001b[1mBefore Standardized \u001b[0m Variable MultipleLines\n",
            "No                  3346\n",
            "Yes                 2935\n",
            "No phone service     669\n",
            "Name: MultipleLines, dtype: int64\n",
            "\n",
            "Unique Values Count \u001b[1mBefore Standardized \u001b[0m Variable InternetService\n",
            "Fiber optic    3057\n",
            "DSL            2388\n",
            "No             1505\n",
            "Name: InternetService, dtype: int64\n",
            "\n",
            "Unique Values Count \u001b[1mBefore Standardized \u001b[0m Variable OnlineSecurity\n",
            "No                     3454\n",
            "Yes                    1991\n",
            "No internet service    1505\n",
            "Name: OnlineSecurity, dtype: int64\n",
            "\n",
            "Unique Values Count \u001b[1mBefore Standardized \u001b[0m Variable OnlineBackup\n",
            "No                     3045\n",
            "Yes                    2400\n",
            "No internet service    1505\n",
            "Name: OnlineBackup, dtype: int64\n",
            "\n",
            "Unique Values Count \u001b[1mBefore Standardized \u001b[0m Variable DeviceProtection\n",
            "No                     3054\n",
            "Yes                    2391\n",
            "No internet service    1505\n",
            "Name: DeviceProtection, dtype: int64\n",
            "\n",
            "Unique Values Count \u001b[1mBefore Standardized \u001b[0m Variable TechSupport\n",
            "No                     3431\n",
            "Yes                    2014\n",
            "No internet service    1505\n",
            "Name: TechSupport, dtype: int64\n",
            "\n",
            "Unique Values Count \u001b[1mBefore Standardized \u001b[0m Variable StreamingTV\n",
            "No                     2774\n",
            "Yes                    2671\n",
            "No internet service    1505\n",
            "Name: StreamingTV, dtype: int64\n",
            "\n",
            "Unique Values Count \u001b[1mBefore Standardized \u001b[0m Variable StreamingMovies\n",
            "No                     2747\n",
            "Yes                    2698\n",
            "No internet service    1505\n",
            "Name: StreamingMovies, dtype: int64\n",
            "\n",
            "Unique Values Count \u001b[1mBefore Standardized \u001b[0m Variable Contract\n",
            "Month-to-month    3823\n",
            "Two year          1670\n",
            "One year          1457\n",
            "Name: Contract, dtype: int64\n",
            "\n",
            "Unique Values Count \u001b[1mBefore Standardized \u001b[0m Variable PaperlessBilling\n",
            "Yes    4114\n",
            "No     2836\n",
            "Name: PaperlessBilling, dtype: int64\n",
            "\n",
            "Unique Values Count \u001b[1mBefore Standardized \u001b[0m Variable PaymentMethod\n",
            "Electronic check             2337\n",
            "Mailed check                 1594\n",
            "Bank transfer (automatic)    1519\n",
            "Credit card (automatic)      1500\n",
            "Name: PaymentMethod, dtype: int64\n",
            "\n",
            "Unique Values Count \u001b[1mBefore Standardized \u001b[0m Variable Churn\n",
            "No       5114\n",
            "Yes      1827\n",
            "Churn       9\n",
            "Name: Churn, dtype: int64\n"
          ]
        }
      ]
    },
    {
      "cell_type": "markdown",
      "source": [
        "### **Menstandarisasi Variable Kategorik**\n",
        "\n",
        "Contoh: Iya -> Yes\n",
        "\n",
        "Lihat kembali unique values dari variabel yang sudah diubah.\n",
        "\n",
        "Gunakan `.replace()` untuk menstandarkan nilai."
      ],
      "metadata": {
        "id": "iahZGHyPoWO8"
      }
    },
    {
      "cell_type": "code",
      "source": [
        "df_load = df_load.replace(['Wanita','Laki-laki','Churn','Iya'],['Female','Male','Yes','Yes'])\n",
        "        \n",
        "#Loop #Masukkan variabel\n",
        "for col_name in list(['gender','Dependents','Churn']):\n",
        " # write your command here\n",
        "        print('\\nUnique Values Count \\033[1m' + 'After Standardized \\033[0mVariable',col_name)\n",
        "        print(df_load[col_name].value_counts())"
      ],
      "metadata": {
        "colab": {
          "base_uri": "https://localhost:8080/"
        },
        "id": "EEyMYAgNoa3e",
        "outputId": "ca857292-30d8-4bf1-9c26-efc62e19a474"
      },
      "execution_count": null,
      "outputs": [
        {
          "output_type": "stream",
          "name": "stdout",
          "text": [
            "\n",
            "Unique Values Count \u001b[1mAfter Standardized \u001b[0mVariable gender\n",
            "Male         3499\n",
            "Female       3445\n",
            "Laki-Laki       6\n",
            "Name: gender, dtype: int64\n",
            "\n",
            "Unique Values Count \u001b[1mAfter Standardized \u001b[0mVariable Dependents\n",
            "No     4870\n",
            "Yes    2080\n",
            "Name: Dependents, dtype: int64\n",
            "\n",
            "Unique Values Count \u001b[1mAfter Standardized \u001b[0mVariable Churn\n",
            "No     5114\n",
            "Yes    1836\n",
            "Name: Churn, dtype: int64\n"
          ]
        }
      ]
    },
    {
      "cell_type": "markdown",
      "source": [
        "### **Kesimpulan**\n",
        "\n",
        "Ada beberapa variabel yang tidak standar, yaitu:\n",
        "- Gender: Female, Male, Wanita, Laki-laki. Bisa distandarkan nilainya menjadi Female dan Male karena mempunyai makna yang sama\n",
        "- Dependents: Yes, No, Iya. Bisa distandarkan nilainya menjadi Yes dan No karena mempunyai makna yang sama\n",
        "- Churn: Yes, No, Churn. Bisa distandarkan nilainya menjadi Yes dan No karena mempunyai makna yang sama\n",
        "Setelah melakukan standardisasi nilai, amati kembali bentuk data. Unique value sudah terstandar dengan baik.\n"
      ],
      "metadata": {
        "id": "acN9Tr26acWJ"
      }
    }
  ]
}